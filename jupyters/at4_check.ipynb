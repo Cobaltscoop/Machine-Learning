{
 "cells": [
  {
   "cell_type": "markdown",
   "metadata": {},
   "source": [
    "# **Geo DataSet from Naver Cloud API**\n",
    "37명 4개/ 5개씩 상점 분할하기\n",
    "- **Total** : 150 개\n",
    "\n",
    "## **1 Loading the table**\n",
    "엑셀 원본데이터 불러오기"
   ]
  },
  {
   "cell_type": "code",
   "execution_count": 1,
   "metadata": {},
   "outputs": [
    {
     "data": {
      "text/html": [
       "<div>\n",
       "<style scoped>\n",
       "    .dataframe tbody tr th:only-of-type {\n",
       "        vertical-align: middle;\n",
       "    }\n",
       "\n",
       "    .dataframe tbody tr th {\n",
       "        vertical-align: top;\n",
       "    }\n",
       "\n",
       "    .dataframe thead th {\n",
       "        text-align: right;\n",
       "    }\n",
       "</style>\n",
       "<table border=\"1\" class=\"dataframe\">\n",
       "  <thead>\n",
       "    <tr style=\"text-align: right;\">\n",
       "      <th></th>\n",
       "      <th>연번</th>\n",
       "      <th>상호명</th>\n",
       "      <th>점주명</th>\n",
       "      <th>연락처</th>\n",
       "      <th>주소</th>\n",
       "      <th>업종</th>\n",
       "      <th>행정동</th>\n",
       "      <th>사진</th>\n",
       "      <th>임대차</th>\n",
       "      <th>비고</th>\n",
       "      <th>Unnamed: 10</th>\n",
       "    </tr>\n",
       "  </thead>\n",
       "  <tbody>\n",
       "    <tr>\n",
       "      <th>0</th>\n",
       "      <td>1</td>\n",
       "      <td>모든홍삼</td>\n",
       "      <td>주옥자</td>\n",
       "      <td>010-7908-0324</td>\n",
       "      <td>은천로 28, 봉일프라자 나-120</td>\n",
       "      <td>기타판매</td>\n",
       "      <td>은천동</td>\n",
       "      <td>X</td>\n",
       "      <td>X</td>\n",
       "      <td>개별점포</td>\n",
       "      <td>NaN</td>\n",
       "    </tr>\n",
       "    <tr>\n",
       "      <th>1</th>\n",
       "      <td>2</td>\n",
       "      <td>종로떡집</td>\n",
       "      <td>김기철</td>\n",
       "      <td>010-4606-7280</td>\n",
       "      <td>국회단지길 21</td>\n",
       "      <td>떡집</td>\n",
       "      <td>은천동</td>\n",
       "      <td>X</td>\n",
       "      <td>X</td>\n",
       "      <td>개별점포</td>\n",
       "      <td>NaN</td>\n",
       "    </tr>\n",
       "  </tbody>\n",
       "</table>\n",
       "</div>"
      ],
      "text/plain": [
       "   연번   상호명  점주명            연락처                   주소    업종  행정동 사진 임대차    비고  \\\n",
       "0   1  모든홍삼  주옥자  010-7908-0324  은천로 28, 봉일프라자 나-120  기타판매  은천동  X   X  개별점포   \n",
       "1   2  종로떡집  김기철  010-4606-7280             국회단지길 21    떡집  은천동  X   X  개별점포   \n",
       "\n",
       "  Unnamed: 10  \n",
       "0         NaN  \n",
       "1         NaN  "
      ]
     },
     "execution_count": 1,
     "metadata": {},
     "output_type": "execute_result"
    }
   ],
   "source": [
    "import pandas as pd\n",
    "file_excel = './data/store.xlsx'\n",
    "table_excel = pd.read_excel(file_excel)\n",
    "table_excel.head(2)"
   ]
  },
  {
   "cell_type": "code",
   "execution_count": 2,
   "metadata": {},
   "outputs": [
    {
     "data": {
      "text/html": [
       "<div>\n",
       "<style scoped>\n",
       "    .dataframe tbody tr th:only-of-type {\n",
       "        vertical-align: middle;\n",
       "    }\n",
       "\n",
       "    .dataframe tbody tr th {\n",
       "        vertical-align: top;\n",
       "    }\n",
       "\n",
       "    .dataframe thead th {\n",
       "        text-align: right;\n",
       "    }\n",
       "</style>\n",
       "<table border=\"1\" class=\"dataframe\">\n",
       "  <thead>\n",
       "    <tr style=\"text-align: right;\">\n",
       "      <th></th>\n",
       "      <th>연번</th>\n",
       "      <th>상호명</th>\n",
       "      <th>점주명</th>\n",
       "      <th>연락처</th>\n",
       "      <th>주소</th>\n",
       "      <th>업종</th>\n",
       "    </tr>\n",
       "  </thead>\n",
       "  <tbody>\n",
       "    <tr>\n",
       "      <th>0</th>\n",
       "      <td>04</td>\n",
       "      <td>장수우렁불백</td>\n",
       "      <td>이규엽</td>\n",
       "      <td>010-2326-1063</td>\n",
       "      <td>관악로148 2층</td>\n",
       "      <td>식당</td>\n",
       "    </tr>\n",
       "    <tr>\n",
       "      <th>1</th>\n",
       "      <td>05</td>\n",
       "      <td>뚱띵이왕갈비</td>\n",
       "      <td>김영희</td>\n",
       "      <td>010-9744-9428</td>\n",
       "      <td>서림동94-258</td>\n",
       "      <td>식당</td>\n",
       "    </tr>\n",
       "  </tbody>\n",
       "</table>\n",
       "</div>"
      ],
      "text/plain": [
       "   연번     상호명  점주명            연락처         주소  업종\n",
       "0  04  장수우렁불백  이규엽  010-2326-1063  관악로148 2층  식당\n",
       "1  05  뚱띵이왕갈비  김영희  010-9744-9428  서림동94-258  식당"
      ]
     },
     "execution_count": 2,
     "metadata": {},
     "output_type": "execute_result"
    }
   ],
   "source": [
    "_table = [\n",
    "#     [\"01\",\"24시셀프빨래방\",\"민혜경\", \"010-4196-7646\", \"신림동 661-51\", \"빨래방\"],\n",
    "#     [\"02\",\"통큰바다장어\",\"윤경희\", \"010-2434-8903\", \"관악구 조원로 111\", \"식당\"],\n",
    "#     [\"03\",\"KNC숯불바베큐\",\"양하용\", \"010-9039-5153\", \"관악구 신사로 20길 50\", \"식당\"],\n",
    "    [\"04\",\"장수우렁불백\", \"이규엽\", \"010-2326-1063\", \"관악로148 2층\", \"식당\"],\n",
    "    [\"05\",\"뚱띵이왕갈비\", \"김영희\", \"010-9744-9428\", \"서림동94-258\", \"식당\"],\n",
    "]\n",
    "column_name = list(table_excel.columns[:-5])\n",
    "table_excel = pd.DataFrame(_table)\n",
    "table_excel.columns = column_name\n",
    "table_excel"
   ]
  },
  {
   "cell_type": "code",
   "execution_count": 12,
   "metadata": {},
   "outputs": [
    {
     "data": {
      "text/html": [
       "<div>\n",
       "<style scoped>\n",
       "    .dataframe tbody tr th:only-of-type {\n",
       "        vertical-align: middle;\n",
       "    }\n",
       "\n",
       "    .dataframe tbody tr th {\n",
       "        vertical-align: top;\n",
       "    }\n",
       "\n",
       "    .dataframe thead th {\n",
       "        text-align: right;\n",
       "    }\n",
       "</style>\n",
       "<table border=\"1\" class=\"dataframe\">\n",
       "  <thead>\n",
       "    <tr style=\"text-align: right;\">\n",
       "      <th></th>\n",
       "      <th>연번</th>\n",
       "      <th>상호명</th>\n",
       "      <th>점주명</th>\n",
       "      <th>연락처</th>\n",
       "      <th>주소</th>\n",
       "      <th>업종</th>\n",
       "    </tr>\n",
       "  </thead>\n",
       "  <tbody>\n",
       "    <tr>\n",
       "      <th>0</th>\n",
       "      <td>01</td>\n",
       "      <td>24시셀프빨래방</td>\n",
       "      <td>민혜경</td>\n",
       "      <td>010-4196-7646</td>\n",
       "      <td>신림동 661-51</td>\n",
       "      <td>빨래방</td>\n",
       "    </tr>\n",
       "    <tr>\n",
       "      <th>1</th>\n",
       "      <td>02</td>\n",
       "      <td>통큰바다장어</td>\n",
       "      <td>윤경희</td>\n",
       "      <td>010-2434-8903</td>\n",
       "      <td>관악구 조원로 111</td>\n",
       "      <td>식당</td>\n",
       "    </tr>\n",
       "    <tr>\n",
       "      <th>2</th>\n",
       "      <td>03</td>\n",
       "      <td>KNC숯불바베큐</td>\n",
       "      <td>양하용</td>\n",
       "      <td>010-9039-5153</td>\n",
       "      <td>관악구 신사로 20길 50</td>\n",
       "      <td>식당</td>\n",
       "    </tr>\n",
       "  </tbody>\n",
       "</table>\n",
       "</div>"
      ],
      "text/plain": [
       "   연번       상호명  점주명            연락처              주소   업종\n",
       "0  01  24시셀프빨래방  민혜경  010-4196-7646      신림동 661-51  빨래방\n",
       "1  02    통큰바다장어  윤경희  010-2434-8903     관악구 조원로 111   식당\n",
       "2  03  KNC숯불바베큐  양하용  010-9039-5153  관악구 신사로 20길 50   식당"
      ]
     },
     "execution_count": 12,
     "metadata": {},
     "output_type": "execute_result"
    }
   ],
   "source": [
    "_table = [\n",
    "    [\"01\",\"24시셀프빨래방\",\"민혜경\", \"010-4196-7646\", \"신림동 661-51\", \"빨래방\"],\n",
    "    [\"02\",\"통큰바다장어\",\"윤경희\", \"010-2434-8903\", \"관악구 조원로 111\", \"식당\"],\n",
    "    [\"03\",\"KNC숯불바베큐\",\"양하용\", \"010-9039-5153\", \"관악구 신사로 20길 50\", \"식당\"],\n",
    "]\n",
    "column_name = list(table_excel.columns[:-5])\n",
    "table_excel = pd.DataFrame(_table)\n",
    "table_excel.columns = column_name\n",
    "table_excel"
   ]
  },
  {
   "cell_type": "markdown",
   "metadata": {},
   "source": [
    "## **2 Naver API Column**\n",
    "N Cloud API 를 활용한 위도경도값 추가하기\n",
    "- **[Naver Map API Examples](https://navermaps.github.io/maps.js.ncp/docs/tutorial-3-drawing-restore.example.html)**\n",
    "```\n",
    "Client ID : wstocuk035\n",
    "Client Secret : Na6VgNttRRMbehOv6Uswfw8iYld2INbvZMvGBOHQ\n",
    "```"
   ]
  },
  {
   "cell_type": "code",
   "execution_count": 3,
   "metadata": {},
   "outputs": [],
   "source": [
    "from data.arterior import Arterior\n",
    "arterior = Arterior()"
   ]
  },
  {
   "cell_type": "code",
   "execution_count": 4,
   "metadata": {},
   "outputs": [
    {
     "name": "stderr",
     "output_type": "stream",
     "text": [
      "100%|██████████| 2/2 [00:00<00:00,  8.19it/s]\n"
     ]
    },
    {
     "data": {
      "text/html": [
       "<div>\n",
       "<style scoped>\n",
       "    .dataframe tbody tr th:only-of-type {\n",
       "        vertical-align: middle;\n",
       "    }\n",
       "\n",
       "    .dataframe tbody tr th {\n",
       "        vertical-align: top;\n",
       "    }\n",
       "\n",
       "    .dataframe thead th {\n",
       "        text-align: right;\n",
       "    }\n",
       "</style>\n",
       "<table border=\"1\" class=\"dataframe\">\n",
       "  <thead>\n",
       "    <tr style=\"text-align: right;\">\n",
       "      <th></th>\n",
       "      <th>연번</th>\n",
       "      <th>상호명</th>\n",
       "      <th>addressfull</th>\n",
       "      <th>addressroad</th>\n",
       "      <th>lon</th>\n",
       "      <th>lat</th>\n",
       "      <th>점주명</th>\n",
       "      <th>연락처</th>\n",
       "      <th>주소</th>\n",
       "      <th>업종</th>\n",
       "    </tr>\n",
       "  </thead>\n",
       "  <tbody>\n",
       "    <tr>\n",
       "      <th>0</th>\n",
       "      <td>04</td>\n",
       "      <td>장수우렁불백</td>\n",
       "      <td>서울특별시 관악구 관악로 148</td>\n",
       "      <td>서울특별시 관악구 봉천동 1598-20</td>\n",
       "      <td>126.9525996</td>\n",
       "      <td>37.4784693</td>\n",
       "      <td>이규엽</td>\n",
       "      <td>010-2326-1063</td>\n",
       "      <td>관악로148 2층</td>\n",
       "      <td>식당</td>\n",
       "    </tr>\n",
       "    <tr>\n",
       "      <th>1</th>\n",
       "      <td>05</td>\n",
       "      <td>뚱띵이왕갈비</td>\n",
       "      <td>서울특별시 관악구 신림로 216</td>\n",
       "      <td>서울특별시 관악구 서림동 94-258</td>\n",
       "      <td>126.9375988</td>\n",
       "      <td>37.4767764</td>\n",
       "      <td>김영희</td>\n",
       "      <td>010-9744-9428</td>\n",
       "      <td>서림동94-258</td>\n",
       "      <td>식당</td>\n",
       "    </tr>\n",
       "  </tbody>\n",
       "</table>\n",
       "</div>"
      ],
      "text/plain": [
       "   연번     상호명        addressfull            addressroad          lon  \\\n",
       "0  04  장수우렁불백  서울특별시 관악구 관악로 148  서울특별시 관악구 봉천동 1598-20  126.9525996   \n",
       "1  05  뚱띵이왕갈비  서울특별시 관악구 신림로 216   서울특별시 관악구 서림동 94-258  126.9375988   \n",
       "\n",
       "          lat  점주명            연락처         주소  업종  \n",
       "0  37.4784693  이규엽  010-2326-1063  관악로148 2층  식당  \n",
       "1  37.4767764  김영희  010-9744-9428  서림동94-258  식당  "
      ]
     },
     "execution_count": 4,
     "metadata": {},
     "output_type": "execute_result"
    }
   ],
   "source": [
    "table_naver = arterior.naverAddressTableInsert(table_excel,'주소',2)\n",
    "# table_naver.to_csv('./data/store_naver.csv', index=None)\n",
    "table_naver.to_csv('./data/error_fixed.csv', index=None)\n",
    "table_naver[table_naver[\"lon\"]==\"\"]\n",
    "table_naver"
   ]
  },
  {
   "cell_type": "markdown",
   "metadata": {},
   "source": [
    "## **3 Validation Check**\n",
    "테이블 내부의 데이터 유효성 확인하기\n",
    "- NAVER MAP API 를 활용하여 데이터의 유효성 관계 확인하기"
   ]
  },
  {
   "cell_type": "code",
   "execution_count": null,
   "metadata": {},
   "outputs": [],
   "source": []
  },
  {
   "cell_type": "markdown",
   "metadata": {},
   "source": [
    "<br/>\n",
    "\n",
    "# **K-Means Clustering the Address**\n",
    "K-Means 구분을 활용한 묶음 데이터 생성\n",
    "- **원칙 :** 거리가 가까운 업종끼리 묶는다 (종류는 무관)\n",
    "- **예외1 :** 거리가 있으면 유사한 업종끼리 묶어서 난이도를 낮춘다\n",
    "- **K Means 알고리즘** 은 **비지도학습** 으로, label 없이 자동으로 분류 기준을 세워서 동작 된다\n",
    "\n",
    "## **1 Loading the table**\n",
    "1. **K Means** 알고리즘을 활용하여 37개의 분류 데이터 생성\n",
    "1. 생성된 데이터를 기준으로 4개, 5개씩 임의로 분류\n",
    "1. 애매한 부분을 **KNN** 을 활용하여 Label 최종적 마무리 진행"
   ]
  },
  {
   "cell_type": "code",
   "execution_count": 3,
   "metadata": {},
   "outputs": [
    {
     "data": {
      "text/html": [
       "<div>\n",
       "<style scoped>\n",
       "    .dataframe tbody tr th:only-of-type {\n",
       "        vertical-align: middle;\n",
       "    }\n",
       "\n",
       "    .dataframe tbody tr th {\n",
       "        vertical-align: top;\n",
       "    }\n",
       "\n",
       "    .dataframe thead th {\n",
       "        text-align: right;\n",
       "    }\n",
       "</style>\n",
       "<table border=\"1\" class=\"dataframe\">\n",
       "  <thead>\n",
       "    <tr style=\"text-align: right;\">\n",
       "      <th></th>\n",
       "      <th>연번</th>\n",
       "      <th>상호명</th>\n",
       "      <th>점주명</th>\n",
       "      <th>연락처</th>\n",
       "      <th>주소</th>\n",
       "      <th>addressfull</th>\n",
       "      <th>addressroad</th>\n",
       "      <th>lon</th>\n",
       "      <th>lat</th>\n",
       "      <th>업종</th>\n",
       "      <th>행정동</th>\n",
       "      <th>사진</th>\n",
       "      <th>임대차</th>\n",
       "      <th>비고</th>\n",
       "      <th>Unnamed: 10</th>\n",
       "    </tr>\n",
       "  </thead>\n",
       "  <tbody>\n",
       "    <tr>\n",
       "      <th>0</th>\n",
       "      <td>1</td>\n",
       "      <td>모든홍삼</td>\n",
       "      <td>주옥자</td>\n",
       "      <td>010-7908-0324</td>\n",
       "      <td>은천로 28, 봉일프라자 나-120</td>\n",
       "      <td>서울특별시 관악구 은천로 28 봉일프라자</td>\n",
       "      <td>서울특별시 관악구 봉천동 951-25 봉일프라자</td>\n",
       "      <td>126.938397</td>\n",
       "      <td>37.485887</td>\n",
       "      <td>기타판매</td>\n",
       "      <td>은천동</td>\n",
       "      <td>X</td>\n",
       "      <td>X</td>\n",
       "      <td>개별점포</td>\n",
       "      <td>NaN</td>\n",
       "    </tr>\n",
       "    <tr>\n",
       "      <th>1</th>\n",
       "      <td>2</td>\n",
       "      <td>종로떡집</td>\n",
       "      <td>김기철</td>\n",
       "      <td>010-4606-7280</td>\n",
       "      <td>국회단지길 21</td>\n",
       "      <td>서울특별시 관악구 국회단지길 21</td>\n",
       "      <td>서울특별시 관악구 봉천동 636-110</td>\n",
       "      <td>126.939588</td>\n",
       "      <td>37.487197</td>\n",
       "      <td>떡집</td>\n",
       "      <td>은천동</td>\n",
       "      <td>X</td>\n",
       "      <td>X</td>\n",
       "      <td>개별점포</td>\n",
       "      <td>NaN</td>\n",
       "    </tr>\n",
       "  </tbody>\n",
       "</table>\n",
       "</div>"
      ],
      "text/plain": [
       "   연번   상호명  점주명            연락처                   주소             addressfull  \\\n",
       "0   1  모든홍삼  주옥자  010-7908-0324  은천로 28, 봉일프라자 나-120  서울특별시 관악구 은천로 28 봉일프라자   \n",
       "1   2  종로떡집  김기철  010-4606-7280             국회단지길 21      서울특별시 관악구 국회단지길 21   \n",
       "\n",
       "                  addressroad         lon        lat    업종  행정동 사진 임대차    비고  \\\n",
       "0  서울특별시 관악구 봉천동 951-25 봉일프라자  126.938397  37.485887  기타판매  은천동  X   X  개별점포   \n",
       "1       서울특별시 관악구 봉천동 636-110  126.939588  37.487197    떡집  은천동  X   X  개별점포   \n",
       "\n",
       "  Unnamed: 10  \n",
       "0         NaN  \n",
       "1         NaN  "
      ]
     },
     "execution_count": 3,
     "metadata": {},
     "output_type": "execute_result"
    }
   ],
   "source": [
    "import pandas as pd\n",
    "table = pd.read_csv('./data/store_naver.csv')\n",
    "table.head(2)"
   ]
  },
  {
   "cell_type": "code",
   "execution_count": 4,
   "metadata": {},
   "outputs": [
    {
     "name": "stderr",
     "output_type": "stream",
     "text": [
      "/home/momukji/Python/Python/lib/python3.6/site-packages/matplotlib/backends/backend_agg.py:211: RuntimeWarning: Glyph 233 missing from current font.\n",
      "  font.set_text(s, 0.0, flags=flags)\n",
      "/home/momukji/Python/Python/lib/python3.6/site-packages/matplotlib/backends/backend_agg.py:180: RuntimeWarning: Glyph 233 missing from current font.\n",
      "  font.set_text(s, 0, flags=flags)\n"
     ]
    },
    {
     "data": {
      "image/png": "[encoded data removed]",
      "text/plain": [
       "<Figure size 504x360 with 1 Axes>"
      ]
     },
     "metadata": {
      "needs_background": "light"
     },
     "output_type": "display_data"
    }
   ],
   "source": [
    "# Visualize\n",
    "%matplotlib inline\n",
    "from matplotlib import pyplot as plt\n",
    "import matplotlib\n",
    "matplotlib.rc('font', family='NanumGothic')\n",
    "matplotlib.rcParams['axes.unicode_minus'] = False\n",
    "\n",
    "# Drawing the Graph\n",
    "fig, ax = plt.subplots(figsize=(7, 5))\n",
    "table.plot.scatter(x='lon', y='lat', ax=ax)\n",
    "for _ in table.index:\n",
    "    ax.annotate(table.loc[_]['상호명'], (table.loc[_]['lon'], table.loc[_]['lat']))"
   ]
  },
  {
   "cell_type": "markdown",
   "metadata": {},
   "source": [
    "## **2 K Means** 알고리즘을 활용하여 37개의 분류 데이터 생성\n",
    "1. 생성된 데이터를 기준으로 4개, 5개씩 임의로 분류\n",
    "1. 애매한 부분을 **KNN** 을 활용하여 Label 최종적 마무리 진행"
   ]
  },
  {
   "cell_type": "code",
   "execution_count": 5,
   "metadata": {},
   "outputs": [
    {
     "data": {
      "image/png": "[encoded data removed]",
      "text/plain": [
       "<Figure size 864x216 with 1 Axes>"
      ]
     },
     "metadata": {
      "needs_background": "light"
     },
     "output_type": "display_data"
    }
   ],
   "source": [
    "# Clustering 기준을 몇개로 할 것인지 점수를 확인\n",
    "# 분석결과 : 완만한 상승곡선으로 크게 구분시 차이가 없다\n",
    "from sklearn.cluster import KMeans\n",
    "K_clusters = range(1,50)\n",
    "kmeans = [ KMeans(n_clusters = _)  for _ in K_clusters ]\n",
    "X_axis, Y_axis = table[['lat']], table[['lon']]\n",
    "score  = [ kmeans[i].fit(Y_axis).score(Y_axis)  for i in range(len(kmeans)) ]\n",
    "\n",
    "plt.figure(figsize=(12, 3)); plt.plot(K_clusters, score)\n",
    "plt.xlabel('Number of Clusters');plt.ylabel('Score'); plt.title('Elbow Curve')\n",
    "plt.show()"
   ]
  },
  {
   "cell_type": "code",
   "execution_count": 6,
   "metadata": {},
   "outputs": [
    {
     "data": {
      "text/plain": [
       "'Id01:13, Id02:03, Id03:15, Id04:01, Id05:08, Id06:03, Id07:09, Id08:07, Id09:02, Id10:10, Id11:03, Id12:01, Id13:04, Id14:02, Id15:02, Id16:08, Id17:03, Id18:02, Id19:02, Id20:08, Id21:01, Id22:03, Id23:02, Id24:01, Id25:01, Id26:02, Id27:01, Id28:02, Id29:03, Id30:01, Id31:08, Id32:05, Id33:06, Id34:02, Id35:02, Id36:03, Id37:01'"
      ]
     },
     "execution_count": 6,
     "metadata": {},
     "output_type": "execute_result"
    }
   ],
   "source": [
    "# Compute k-means clustering.\n",
    "from collections import Counter\n",
    "kmeans = KMeans(n_clusters = 37, init ='k-means++')\n",
    "kmeans.fit(table.loc[:,['lat','lon']]) \n",
    "table['label'] = kmeans.fit_predict(table.loc[:,['lat','lon']])\n",
    "table['label'] = list(map(lambda x : x+1 , table['label'])) # 0 을 지우고 1개씩 더하기\n",
    "result_count = Counter(table['label'].to_list())\n",
    "result_count = sorted([f\"Id{k:02d}:{v:02d}\"  for k,v in result_count.items()])\n",
    "\", \".join(result_count)"
   ]
  },
  {
   "cell_type": "markdown",
   "metadata": {},
   "source": [
    "## **3 Visualization**\n",
    "시각화 만들기"
   ]
  },
  {
   "cell_type": "code",
   "execution_count": 7,
   "metadata": {},
   "outputs": [
    {
     "name": "stderr",
     "output_type": "stream",
     "text": [
      "/home/momukji/Python/Python/lib/python3.6/site-packages/matplotlib/backends/backend_agg.py:211: RuntimeWarning: Glyph 233 missing from current font.\n",
      "  font.set_text(s, 0.0, flags=flags)\n",
      "/home/momukji/Python/Python/lib/python3.6/site-packages/matplotlib/backends/backend_agg.py:180: RuntimeWarning: Glyph 233 missing from current font.\n",
      "  font.set_text(s, 0, flags=flags)\n"
     ]
    },
    {
     "data": {
      "image/png": "[encoded data removed]",
      "text/plain": [
       "<Figure size 504x360 with 1 Axes>"
      ]
     },
     "metadata": {
      "needs_background": "light"
     },
     "output_type": "display_data"
    }
   ],
   "source": [
    "import matplotlib.colors as mcolors\n",
    "color_names = list(mcolors.cnames.keys())\n",
    "table['color'] = [color_names[_]  for _ in table[\"label\"]]\n",
    "fig, ax = plt.subplots(figsize=(7, 5))\n",
    "table.plot(kind = 'scatter',\n",
    "              x = 'lon', \n",
    "              y = 'lat', \n",
    "              s = 50, # marker size\n",
    "              c = table['color'],\n",
    "              ax = ax) # marker color by group\n",
    "for _ in table.index:\n",
    "    ax.annotate(table.loc[_]['상호명'], \n",
    "                (table.loc[_]['lon'], table.loc[_]['lat']), \n",
    "                fontsize=10) \n",
    "plt.title('Scatter Plot of iris by pandas', fontsize=20)\n",
    "plt.xlabel('Petal Length', fontsize=14)\n",
    "plt.ylabel('Petal Width', fontsize=14)\n",
    "plt.show()"
   ]
  },
  {
   "cell_type": "markdown",
   "metadata": {},
   "source": [
    "<br/>\n",
    "\n",
    "# **GEO 데이터 보정하기**\n",
    "1. 주솟값이 일치하는 데이터들이 존재\n",
    "1. 이로인해 시각화 작업시 중복값 확인이 불가능한 경우가 발생\n",
    "\n",
    "## **1 Loading the table**\n",
    "데이터를 불러온 뒤, 중복된 내용 확인하기"
   ]
  },
  {
   "cell_type": "code",
   "execution_count": 1,
   "metadata": {},
   "outputs": [
    {
     "data": {
      "text/html": [
       "<div>\n",
       "<style scoped>\n",
       "    .dataframe tbody tr th:only-of-type {\n",
       "        vertical-align: middle;\n",
       "    }\n",
       "\n",
       "    .dataframe tbody tr th {\n",
       "        vertical-align: top;\n",
       "    }\n",
       "\n",
       "    .dataframe thead th {\n",
       "        text-align: right;\n",
       "    }\n",
       "</style>\n",
       "<table border=\"1\" class=\"dataframe\">\n",
       "  <thead>\n",
       "    <tr style=\"text-align: right;\">\n",
       "      <th></th>\n",
       "      <th>연번</th>\n",
       "      <th>상호명</th>\n",
       "      <th>점주명</th>\n",
       "      <th>연락처</th>\n",
       "      <th>주소</th>\n",
       "      <th>addressfull</th>\n",
       "      <th>addressroad</th>\n",
       "      <th>lon</th>\n",
       "      <th>lat</th>\n",
       "      <th>업종</th>\n",
       "      <th>행정동</th>\n",
       "      <th>사진</th>\n",
       "      <th>임대차</th>\n",
       "      <th>비고</th>\n",
       "      <th>Unnamed: 10</th>\n",
       "    </tr>\n",
       "  </thead>\n",
       "  <tbody>\n",
       "    <tr>\n",
       "      <th>148</th>\n",
       "      <td>149</td>\n",
       "      <td>스마일공인중개사사무소</td>\n",
       "      <td>장귀길</td>\n",
       "      <td>010-8249-0100</td>\n",
       "      <td>남부순환로214길 29</td>\n",
       "      <td>서울특별시 관악구 남부순환로214길 29</td>\n",
       "      <td>서울특별시 관악구 봉천동 881-17</td>\n",
       "      <td>126.947638</td>\n",
       "      <td>37.480334</td>\n",
       "      <td>부동산</td>\n",
       "      <td>청룡동</td>\n",
       "      <td>X</td>\n",
       "      <td>O</td>\n",
       "      <td>개별점포</td>\n",
       "      <td>NaN</td>\n",
       "    </tr>\n",
       "    <tr>\n",
       "      <th>149</th>\n",
       "      <td>150</td>\n",
       "      <td>컴플러스 컴퓨터</td>\n",
       "      <td>윤영중</td>\n",
       "      <td>010-8850-4114</td>\n",
       "      <td>난곡로24길 32</td>\n",
       "      <td>서울특별시 관악구 난곡로24길 32</td>\n",
       "      <td>서울특별시 관악구 신림동 655-36</td>\n",
       "      <td>126.921095</td>\n",
       "      <td>37.468968</td>\n",
       "      <td>기타</td>\n",
       "      <td>난곡동</td>\n",
       "      <td>O</td>\n",
       "      <td>O</td>\n",
       "      <td>난곡생활상권</td>\n",
       "      <td>NaN</td>\n",
       "    </tr>\n",
       "  </tbody>\n",
       "</table>\n",
       "</div>"
      ],
      "text/plain": [
       "      연번          상호명  점주명            연락처            주소  \\\n",
       "148  149  스마일공인중개사사무소  장귀길  010-8249-0100  남부순환로214길 29   \n",
       "149  150     컴플러스 컴퓨터  윤영중  010-8850-4114     난곡로24길 32   \n",
       "\n",
       "                addressfull           addressroad         lon        lat   업종  \\\n",
       "148  서울특별시 관악구 남부순환로214길 29  서울특별시 관악구 봉천동 881-17  126.947638  37.480334  부동산   \n",
       "149     서울특별시 관악구 난곡로24길 32  서울특별시 관악구 신림동 655-36  126.921095  37.468968   기타   \n",
       "\n",
       "     행정동 사진 임대차      비고 Unnamed: 10  \n",
       "148  청룡동  X   O    개별점포         NaN  \n",
       "149  난곡동  O   O  난곡생활상권         NaN  "
      ]
     },
     "execution_count": 1,
     "metadata": {},
     "output_type": "execute_result"
    }
   ],
   "source": [
    "import pandas as pd\n",
    "table = pd.read_csv('./data/store_naver.csv')\n",
    "table.tail(2)"
   ]
  },
  {
   "cell_type": "code",
   "execution_count": 2,
   "metadata": {},
   "outputs": [
    {
     "data": {
      "text/plain": [
       "{'서울특별시 관악구 남부순환로214길 29': '2',\n",
       " '서울특별시 관악구 난곡로24길 6': '3',\n",
       " '서울특별시 관악구 봉천로 465': '2',\n",
       " '서울특별시 관악구 난향길 14': '4',\n",
       " '서울특별시 관악구 난향길 12': '2',\n",
       " '서울특별시 관악구 난곡로26길 7': '2',\n",
       " '서울특별시 관악구 난곡로24길 29': '3',\n",
       " '서울특별시 관악구 신림로65길 31': '2',\n",
       " '서울특별시 관악구 신림로11길 20': '2',\n",
       " '서울특별시 관악구 대학5길 21': '2',\n",
       " '서울특별시 관악구 호암로22길 69 신국고시원': '2'}"
      ]
     },
     "execution_count": 2,
     "metadata": {},
     "output_type": "execute_result"
    }
   ],
   "source": [
    "from collections import Counter\n",
    "_count_address = dict(Counter([_ for _ in table['addressfull']]))\n",
    "_count_address = {k:str(v) for k, v in _count_address.items() if v != 1}\n",
    "_count_address"
   ]
  },
  {
   "cell_type": "code",
   "execution_count": 10,
   "metadata": {},
   "outputs": [
    {
     "data": {
      "text/html": [
       "<div>\n",
       "<style scoped>\n",
       "    .dataframe tbody tr th:only-of-type {\n",
       "        vertical-align: middle;\n",
       "    }\n",
       "\n",
       "    .dataframe tbody tr th {\n",
       "        vertical-align: top;\n",
       "    }\n",
       "\n",
       "    .dataframe thead th {\n",
       "        text-align: right;\n",
       "    }\n",
       "</style>\n",
       "<table border=\"1\" class=\"dataframe\">\n",
       "  <thead>\n",
       "    <tr style=\"text-align: right;\">\n",
       "      <th></th>\n",
       "      <th>상호명</th>\n",
       "      <th>addressfull</th>\n",
       "      <th>lon</th>\n",
       "      <th>lat</th>\n",
       "    </tr>\n",
       "  </thead>\n",
       "  <tbody>\n",
       "    <tr>\n",
       "      <th>48</th>\n",
       "      <td>마음이 움직이는 토탈공예</td>\n",
       "      <td>서울특별시 관악구 난향길 14</td>\n",
       "      <td>126.918079</td>\n",
       "      <td>37.462919</td>\n",
       "    </tr>\n",
       "    <tr>\n",
       "      <th>80</th>\n",
       "      <td>김현애보습학원</td>\n",
       "      <td>서울특별시 관악구 난향길 14</td>\n",
       "      <td>126.918040</td>\n",
       "      <td>37.462852</td>\n",
       "    </tr>\n",
       "    <tr>\n",
       "      <th>83</th>\n",
       "      <td>영진부동산</td>\n",
       "      <td>서울특별시 관악구 난향길 14</td>\n",
       "      <td>126.918001</td>\n",
       "      <td>37.462786</td>\n",
       "    </tr>\n",
       "    <tr>\n",
       "      <th>85</th>\n",
       "      <td>영진떡방앗간</td>\n",
       "      <td>서울특별시 관악구 난향길 14</td>\n",
       "      <td>126.917962</td>\n",
       "      <td>37.462720</td>\n",
       "    </tr>\n",
       "  </tbody>\n",
       "</table>\n",
       "</div>"
      ],
      "text/plain": [
       "              상호명       addressfull         lon        lat\n",
       "48  마음이 움직이는 토탈공예  서울특별시 관악구 난향길 14  126.918079  37.462919\n",
       "80        김현애보습학원  서울특별시 관악구 난향길 14  126.918040  37.462852\n",
       "83          영진부동산  서울특별시 관악구 난향길 14  126.918001  37.462786\n",
       "85         영진떡방앗간  서울특별시 관악구 난향길 14  126.917962  37.462720"
      ]
     },
     "execution_count": 10,
     "metadata": {},
     "output_type": "execute_result"
    }
   ],
   "source": [
    "# 중복데이터 약간씩 수정 작업 진행하기\n",
    "# 중복 주소의 lon, lat 데이터 약간씩 수정\n",
    "for _list in [list(table[table[\"addressfull\"]==_address].index)  for _address in _count_address]:\n",
    "    for no, index in enumerate(_list):\n",
    "        lon, lat = table.loc[index, 'lon'], table.loc[index, 'lat']\n",
    "        table.loc[index, 'lon'] = lon - 0.000039 * no\n",
    "        table.loc[index, 'lat'] = lat - 0.000039 * no * 1.7\n",
    "        \n",
    "# 중복주솟값 내용 확인하기\n",
    "# table.to_csv('./data/store_naver_v2.csv', index=None)\n",
    "address = list(_count_address.keys())[3]\n",
    "table[table[\"addressfull\"]==address].loc[:,['상호명','addressfull', 'lon', 'lat']]"
   ]
  },
  {
   "cell_type": "markdown",
   "metadata": {},
   "source": [
    "<br/>\n",
    "\n",
    "# **Clasification**\n",
    "K-Means 를 활용한 분류 기준을 활용하여 수동으로 Modified 완료\n",
    "\n",
    "## **1 Loading the DataSet**\n",
    "원본 데이터와 수동 작업 데이터 비교하기"
   ]
  },
  {
   "cell_type": "code",
   "execution_count": 1,
   "metadata": {},
   "outputs": [
    {
     "data": {
      "text/html": [
       "<div>\n",
       "<style scoped>\n",
       "    .dataframe tbody tr th:only-of-type {\n",
       "        vertical-align: middle;\n",
       "    }\n",
       "\n",
       "    .dataframe tbody tr th {\n",
       "        vertical-align: top;\n",
       "    }\n",
       "\n",
       "    .dataframe thead th {\n",
       "        text-align: right;\n",
       "    }\n",
       "</style>\n",
       "<table border=\"1\" class=\"dataframe\">\n",
       "  <thead>\n",
       "    <tr style=\"text-align: right;\">\n",
       "      <th></th>\n",
       "      <th>artist</th>\n",
       "      <th>master</th>\n",
       "      <th>artist_no</th>\n",
       "      <th>store</th>\n",
       "      <th>title</th>\n",
       "      <th>name</th>\n",
       "      <th>phone</th>\n",
       "      <th>lat</th>\n",
       "      <th>lon</th>\n",
       "      <th>address</th>\n",
       "      <th>addressraw</th>\n",
       "      <th>type</th>\n",
       "    </tr>\n",
       "  </thead>\n",
       "  <tbody>\n",
       "    <tr>\n",
       "      <th>0</th>\n",
       "      <td>1</td>\n",
       "      <td>1</td>\n",
       "      <td>1</td>\n",
       "      <td>1</td>\n",
       "      <td>영진떡방앗간</td>\n",
       "      <td>박명일</td>\n",
       "      <td>010-8507-6657</td>\n",
       "      <td>37.462786</td>\n",
       "      <td>126.918001</td>\n",
       "      <td>서울특별시 관악구 난향길 14</td>\n",
       "      <td>난향길 14</td>\n",
       "      <td>떡집</td>\n",
       "    </tr>\n",
       "    <tr>\n",
       "      <th>1</th>\n",
       "      <td>1</td>\n",
       "      <td>1</td>\n",
       "      <td>1</td>\n",
       "      <td>2</td>\n",
       "      <td>카페비온</td>\n",
       "      <td>유민영</td>\n",
       "      <td>010-9688-7097</td>\n",
       "      <td>37.462847</td>\n",
       "      <td>126.917727</td>\n",
       "      <td>서울특별시 관악구 난향길 24 현경빌딩</td>\n",
       "      <td>난향길 24</td>\n",
       "      <td>카페</td>\n",
       "    </tr>\n",
       "  </tbody>\n",
       "</table>\n",
       "</div>"
      ],
      "text/plain": [
       "   artist  master  artist_no  store   title name          phone        lat  \\\n",
       "0       1       1          1      1  영진떡방앗간  박명일  010-8507-6657  37.462786   \n",
       "1       1       1          1      2    카페비온  유민영  010-9688-7097  37.462847   \n",
       "\n",
       "          lon                address addressraw type  \n",
       "0  126.918001       서울특별시 관악구 난향길 14     난향길 14   떡집  \n",
       "1  126.917727  서울특별시 관악구 난향길 24 현경빌딩     난향길 24   카페  "
      ]
     },
     "execution_count": 1,
     "metadata": {},
     "output_type": "execute_result"
    }
   ],
   "source": [
    "import pandas as pd\n",
    "table = pd.read_csv('./data/store_fin3.csv')\n",
    "table.head(2)"
   ]
  },
  {
   "cell_type": "code",
   "execution_count": 12,
   "metadata": {},
   "outputs": [
    {
     "data": {
      "text/html": [
       "<div>\n",
       "<style scoped>\n",
       "    .dataframe tbody tr th:only-of-type {\n",
       "        vertical-align: middle;\n",
       "    }\n",
       "\n",
       "    .dataframe tbody tr th {\n",
       "        vertical-align: top;\n",
       "    }\n",
       "\n",
       "    .dataframe thead th {\n",
       "        text-align: right;\n",
       "    }\n",
       "</style>\n",
       "<table border=\"1\" class=\"dataframe\">\n",
       "  <thead>\n",
       "    <tr style=\"text-align: right;\">\n",
       "      <th></th>\n",
       "      <th>연번</th>\n",
       "      <th>상호명</th>\n",
       "      <th>점주명</th>\n",
       "      <th>연락처</th>\n",
       "      <th>주소</th>\n",
       "      <th>addressfull</th>\n",
       "      <th>addressroad</th>\n",
       "      <th>lon</th>\n",
       "      <th>lat</th>\n",
       "      <th>업종</th>\n",
       "      <th>행정동</th>\n",
       "      <th>사진</th>\n",
       "      <th>임대차</th>\n",
       "      <th>비고</th>\n",
       "      <th>Unnamed: 10</th>\n",
       "    </tr>\n",
       "  </thead>\n",
       "  <tbody>\n",
       "    <tr>\n",
       "      <th>0</th>\n",
       "      <td>1</td>\n",
       "      <td>모든홍삼</td>\n",
       "      <td>주옥자</td>\n",
       "      <td>010-7908-0324</td>\n",
       "      <td>은천로 28, 봉일프라자 나-120</td>\n",
       "      <td>서울특별시 관악구 은천로 28 봉일프라자</td>\n",
       "      <td>서울특별시 관악구 봉천동 951-25 봉일프라자</td>\n",
       "      <td>126.938397</td>\n",
       "      <td>37.485887</td>\n",
       "      <td>기타판매</td>\n",
       "      <td>은천동</td>\n",
       "      <td>X</td>\n",
       "      <td>X</td>\n",
       "      <td>개별점포</td>\n",
       "      <td>NaN</td>\n",
       "    </tr>\n",
       "    <tr>\n",
       "      <th>1</th>\n",
       "      <td>2</td>\n",
       "      <td>종로떡집</td>\n",
       "      <td>김기철</td>\n",
       "      <td>010-4606-7280</td>\n",
       "      <td>국회단지길 21</td>\n",
       "      <td>서울특별시 관악구 국회단지길 21</td>\n",
       "      <td>서울특별시 관악구 봉천동 636-110</td>\n",
       "      <td>126.939588</td>\n",
       "      <td>37.487197</td>\n",
       "      <td>떡집</td>\n",
       "      <td>은천동</td>\n",
       "      <td>X</td>\n",
       "      <td>X</td>\n",
       "      <td>개별점포</td>\n",
       "      <td>NaN</td>\n",
       "    </tr>\n",
       "  </tbody>\n",
       "</table>\n",
       "</div>"
      ],
      "text/plain": [
       "   연번   상호명  점주명            연락처                   주소             addressfull  \\\n",
       "0   1  모든홍삼  주옥자  010-7908-0324  은천로 28, 봉일프라자 나-120  서울특별시 관악구 은천로 28 봉일프라자   \n",
       "1   2  종로떡집  김기철  010-4606-7280             국회단지길 21      서울특별시 관악구 국회단지길 21   \n",
       "\n",
       "                  addressroad         lon        lat    업종  행정동 사진 임대차    비고  \\\n",
       "0  서울특별시 관악구 봉천동 951-25 봉일프라자  126.938397  37.485887  기타판매  은천동  X   X  개별점포   \n",
       "1       서울특별시 관악구 봉천동 636-110  126.939588  37.487197    떡집  은천동  X   X  개별점포   \n",
       "\n",
       "  Unnamed: 10  \n",
       "0         NaN  \n",
       "1         NaN  "
      ]
     },
     "execution_count": 12,
     "metadata": {},
     "output_type": "execute_result"
    }
   ],
   "source": [
    "table_raw = pd.read_csv('./data/store_naver_v2.csv')\n",
    "table_raw.head(2)"
   ]
  },
  {
   "cell_type": "markdown",
   "metadata": {},
   "source": [
    "## **2 데이터 유효성 및 정확성 검사**\n",
    "상호명을 중심으로 주솟값 및 위치값 오차 확인함수"
   ]
  },
  {
   "cell_type": "code",
   "execution_count": 13,
   "metadata": {},
   "outputs": [
    {
     "name": "stdout",
     "output_type": "stream",
     "text": [
      "298\n"
     ]
    }
   ],
   "source": [
    "error_list, check_dict = [], {\n",
    "    'name':'점주명', 'phone':'연락처', \n",
    "    'addressraw':'주소', 'lat':'lat', 'lon':'lon',\n",
    "}\n",
    "for number in range(len(table)):\n",
    "    tableSeries = table.loc[number, :] # pandas.Series\n",
    "    name = tableSeries['title']        # str : checking String\n",
    "    \n",
    "    # table 을 기준으로 필드값 확인하기\n",
    "    for key, raw in check_dict.items():\n",
    "        tableRawSeries = table_raw[table_raw['상호명']==name]  # pandas.DataFrame\n",
    "        valueRaw = tableRawSeries[raw].to_string(index=False) # to_string()\n",
    "        value = tableSeries[key]\n",
    "        check = str(value).strip() == str(valueRaw).strip()\n",
    "        if check == False: # 일치하지 않는 값들 내용 확인하기\n",
    "            try:\n",
    "                error_value =  (float(value) - float(valueRaw))\n",
    "                error_list.append(error_value)\n",
    "                # print(error_value, check, value, valueRaw)\n",
    "            except:\n",
    "                # print( check, value, valueRaw)\n",
    "                pass\n",
    "print(len(error_list))\n",
    "# 대부분의 좌표들이 소숫점 6자리 이내의 오류로, Excel 등의 이전시 생략 등으로 발생\n",
    "# 추가적으로 일치하는 좌표들의 변경을 위한 작업의 내용들도 포함"
   ]
  },
  {
   "cell_type": "markdown",
   "metadata": {},
   "source": [
    "<br/>\n",
    "\n",
    "# **수정 및 보완작업**\n",
    "Artist 의 변경 및 새로운 내용의 추가는 없다...\n",
    "\n",
    "## **1 Loading the DataSet**\n",
    "원본 데이터와 수동 작업 데이터 비교하기"
   ]
  },
  {
   "cell_type": "code",
   "execution_count": 34,
   "metadata": {},
   "outputs": [
    {
     "data": {
      "text/plain": [
       "['영진떡방앗간', '카페비온', '영진부동산', '김현애보습학원', '마음이 움직이는 토탈공예', '난향면옥', '기똥찬 수제버거&컵밥']"
      ]
     },
     "execution_count": 34,
     "metadata": {},
     "output_type": "execute_result"
    }
   ],
   "source": [
    "import pandas as pd\n",
    "check_dict = {}\n",
    "file_name = './check.csv'\n",
    "table = pd.read_csv(file_name)\n",
    "table = table.iloc[:,1:-1].fillna(method='ffill')\n",
    "table['작가번호'] = list(map(lambda x: int(x), table['작가번호']))\n",
    "check_dict = {table.loc[_,'가게번호']: table.loc[_,'가게명']  for _ in range(len(table))}\n",
    "list(check_dict.values())[:7]"
   ]
  },
  {
   "cell_type": "code",
   "execution_count": 39,
   "metadata": {},
   "outputs": [
    {
     "data": {
      "text/plain": [
       "['영진떡방앗간', '카페비온', '영진부동산', '김현애보습학원', '마음이 움직이는 토탈공예', '난향면옥', '기똥찬 수제버거&컵밥']"
      ]
     },
     "execution_count": 39,
     "metadata": {},
     "output_type": "execute_result"
    }
   ],
   "source": [
    "file_name = './data/store_fin3_new.csv'\n",
    "group_name = {1:\"A\",2:\"B\",3:\"C\"}\n",
    "table_raw = pd.read_csv(file_name).iloc[:,2:]\n",
    "table_raw['master'] = list(map(lambda x : group_name[x], table_raw['master'])) \n",
    "result_list = []\n",
    "for _ in range(len(table_raw)):\n",
    "    table_instance = table_raw.iloc[_, :] # Code Number 추가하기\n",
    "    store_number = table_instance['master'] + \"-\" + str(table_instance['artist_no']) + \"-\" + str(table_instance['store'])\n",
    "    result_list.append(store_number)\n",
    "table_raw.insert(3, 'code', result_list)\n",
    "check_dict_raw = {table_raw.loc[_,'code']: table_raw.loc[_,'title']  for _ in range(len(table_raw))}\n",
    "list(check_dict_raw.values())[:7]"
   ]
  },
  {
   "cell_type": "markdown",
   "metadata": {},
   "source": [
    "## **2 Checking the Dict DataSet**\n",
    "DataSet 내용의 확인"
   ]
  },
  {
   "cell_type": "code",
   "execution_count": 56,
   "metadata": {},
   "outputs": [
    {
     "data": {
      "text/plain": [
       "[('할매네 식당', 'C-9-1')]"
      ]
     },
     "execution_count": 56,
     "metadata": {},
     "output_type": "execute_result"
    }
   ],
   "source": [
    "[k  for k,v in check_dict.items()  if v != check_dict_raw[k]]\n",
    "[k  for k,v in check_dict.items()  if v not in list(check_dict_raw.values())]\n",
    "[(v,k)  for k,v in check_dict_raw.items()  if v not in list(check_dict.values())]"
   ]
  },
  {
   "cell_type": "code",
   "execution_count": 48,
   "metadata": {},
   "outputs": [
    {
     "data": {
      "text/plain": [
       "[]"
      ]
     },
     "execution_count": 48,
     "metadata": {},
     "output_type": "execute_result"
    }
   ],
   "source": [
    "[k  for k,v in check_dict_raw.items() if k == '달빛']"
   ]
  },
  {
   "cell_type": "code",
   "execution_count": 23,
   "metadata": {},
   "outputs": [],
   "source": [
    "result_table_list = []\n",
    "for _ in table['가게명'].to_list():\n",
    "    _ = table_raw[table_['title'] == _]\n",
    "    result_table_list.append(_)"
   ]
  },
  {
   "cell_type": "code",
   "execution_count": 19,
   "metadata": {},
   "outputs": [
    {
     "data": {
      "text/html": [
       "<div>\n",
       "<style scoped>\n",
       "    .dataframe tbody tr th:only-of-type {\n",
       "        vertical-align: middle;\n",
       "    }\n",
       "\n",
       "    .dataframe tbody tr th {\n",
       "        vertical-align: top;\n",
       "    }\n",
       "\n",
       "    .dataframe thead th {\n",
       "        text-align: right;\n",
       "    }\n",
       "</style>\n",
       "<table border=\"1\" class=\"dataframe\">\n",
       "  <thead>\n",
       "    <tr style=\"text-align: right;\">\n",
       "      <th></th>\n",
       "      <th>master</th>\n",
       "      <th>artist_no</th>\n",
       "      <th>store</th>\n",
       "      <th>code</th>\n",
       "      <th>title</th>\n",
       "      <th>name</th>\n",
       "      <th>phone</th>\n",
       "      <th>lat</th>\n",
       "      <th>lon</th>\n",
       "      <th>address</th>\n",
       "      <th>addressraw</th>\n",
       "      <th>type</th>\n",
       "    </tr>\n",
       "  </thead>\n",
       "  <tbody>\n",
       "    <tr>\n",
       "      <th>144</th>\n",
       "      <td>C</td>\n",
       "      <td>11</td>\n",
       "      <td>4</td>\n",
       "      <td>C-11-4</td>\n",
       "      <td>콩쥐팥쥐떡집</td>\n",
       "      <td>한진우</td>\n",
       "      <td>010-8386-4620</td>\n",
       "      <td>37.481441</td>\n",
       "      <td>126.943728</td>\n",
       "      <td>서울특별시 관악구 청룡2길 43</td>\n",
       "      <td>청룡2길 43</td>\n",
       "      <td>떡집</td>\n",
       "    </tr>\n",
       "    <tr>\n",
       "      <th>145</th>\n",
       "      <td>C</td>\n",
       "      <td>12</td>\n",
       "      <td>1</td>\n",
       "      <td>C-12-1</td>\n",
       "      <td>SJ베이커리</td>\n",
       "      <td>안상재</td>\n",
       "      <td>010-4415-3243</td>\n",
       "      <td>37.481557</td>\n",
       "      <td>126.942533</td>\n",
       "      <td>서울특별시 관악구 장군봉1길 46</td>\n",
       "      <td>장군봉1길 46</td>\n",
       "      <td>제과점</td>\n",
       "    </tr>\n",
       "    <tr>\n",
       "      <th>146</th>\n",
       "      <td>C</td>\n",
       "      <td>12</td>\n",
       "      <td>2</td>\n",
       "      <td>C-12-2</td>\n",
       "      <td>신현선무관</td>\n",
       "      <td>안현석</td>\n",
       "      <td>010-2275-5616</td>\n",
       "      <td>37.481743</td>\n",
       "      <td>126.942606</td>\n",
       "      <td>서울특별시 관악구 장군봉1길 45</td>\n",
       "      <td>장군봉1길 45, 2층</td>\n",
       "      <td>학원</td>\n",
       "    </tr>\n",
       "    <tr>\n",
       "      <th>147</th>\n",
       "      <td>C</td>\n",
       "      <td>12</td>\n",
       "      <td>3</td>\n",
       "      <td>C-12-3</td>\n",
       "      <td>임서하헤어마벨</td>\n",
       "      <td>임서하</td>\n",
       "      <td>010-8689-8650</td>\n",
       "      <td>37.481842</td>\n",
       "      <td>126.941729</td>\n",
       "      <td>서울특별시 관악구 장군봉1길 29</td>\n",
       "      <td>장군봉1길 29</td>\n",
       "      <td>미용업</td>\n",
       "    </tr>\n",
       "    <tr>\n",
       "      <th>148</th>\n",
       "      <td>C</td>\n",
       "      <td>12</td>\n",
       "      <td>4</td>\n",
       "      <td>C-12-4</td>\n",
       "      <td>정가</td>\n",
       "      <td>유영옥</td>\n",
       "      <td>010-5331-7715</td>\n",
       "      <td>37.482753</td>\n",
       "      <td>126.939874</td>\n",
       "      <td>서울특별시 관악구 남부순환로 1710 이너스빌딩</td>\n",
       "      <td>남부순환로 1710</td>\n",
       "      <td>음식점</td>\n",
       "    </tr>\n",
       "  </tbody>\n",
       "</table>\n",
       "</div>"
      ],
      "text/plain": [
       "    master  artist_no  store    code    title name          phone        lat  \\\n",
       "144      C         11      4  C-11-4   콩쥐팥쥐떡집  한진우  010-8386-4620  37.481441   \n",
       "145      C         12      1  C-12-1   SJ베이커리  안상재  010-4415-3243  37.481557   \n",
       "146      C         12      2  C-12-2    신현선무관  안현석  010-2275-5616  37.481743   \n",
       "147      C         12      3  C-12-3  임서하헤어마벨  임서하  010-8689-8650  37.481842   \n",
       "148      C         12      4  C-12-4       정가  유영옥  010-5331-7715  37.482753   \n",
       "\n",
       "            lon                     address    addressraw type  \n",
       "144  126.943728           서울특별시 관악구 청룡2길 43       청룡2길 43   떡집  \n",
       "145  126.942533          서울특별시 관악구 장군봉1길 46      장군봉1길 46  제과점  \n",
       "146  126.942606          서울특별시 관악구 장군봉1길 45  장군봉1길 45, 2층   학원  \n",
       "147  126.941729          서울특별시 관악구 장군봉1길 29      장군봉1길 29  미용업  \n",
       "148  126.939874  서울특별시 관악구 남부순환로 1710 이너스빌딩    남부순환로 1710  음식점  "
      ]
     },
     "execution_count": 19,
     "metadata": {},
     "output_type": "execute_result"
    }
   ],
   "source": [
    "pd.concat(result_table_list).tail()"
   ]
  }
 ],
 "metadata": {
  "kernelspec": {
   "display_name": "Python 3",
   "language": "python",
   "name": "python3"
  },
  "language_info": {
   "codemirror_mode": {
    "name": "ipython",
    "version": 3
   },
   "file_extension": ".py",
   "mimetype": "text/x-python",
   "name": "python",
   "nbconvert_exporter": "python",
   "pygments_lexer": "ipython3",
   "version": "3.8.5"
  }
 },
 "nbformat": 4,
 "nbformat_minor": 4
}
