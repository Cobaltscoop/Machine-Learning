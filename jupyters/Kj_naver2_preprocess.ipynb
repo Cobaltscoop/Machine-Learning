{
 "cells": [
  {
   "cell_type": "markdown",
   "metadata": {},
   "source": [
    "# **Naver 쇼핑 수집한 내용 불러오기**\n",
    "## **1 크롤링 수집함수**"
   ]
  },
  {
   "cell_type": "code",
   "execution_count": 1,
   "metadata": {},
   "outputs": [],
   "source": [
    "# Web Crawler 함수\n",
    "from urllib import parse\n",
    "from urllib import parse, request\n",
    "\n",
    "def crawler_naver(url):\n",
    "    browser = \"Mozilla/5.0 (X11; Linux i686) AppleWebKit/537.17 (KHTML, like Gecko) Chrome/24.0.1312.27 Safari/537.17\"\n",
    "    return request.urlopen(request.Request(url, headers = {'User-Agent':browser})).read().decode('utf8')"
   ]
  },
  {
   "cell_type": "markdown",
   "metadata": {},
   "source": [
    "## **2 Loading 카테고리**\n",
    "네이버 쇼핑 카테고리 목록 by **[Join inner list](https://stackoverflow.com/questions/716477/join-list-of-lists-in-python)**\n",
    "```python\n",
    "import itertools\n",
    "a = [['a','b'], ['c']]\n",
    "print(list(itertools.chain.from_iterable(a)))\n",
    "```"
   ]
  },
  {
   "cell_type": "code",
   "execution_count": 2,
   "metadata": {},
   "outputs": [
    {
     "name": "stdout",
     "output_type": "stream",
     "text": [
      "total_length : 199 개\n"
     ]
    }
   ],
   "source": [
    "import pandas as pd\n",
    "import itertools\n",
    "category_dict = pd.read_csv('./data/categoty_naver.csv').to_dict(orient='list')\n",
    "category_dict = {k: [_ for _ in items if str(_) != 'nan']   for k, items in category_dict.items()}\n",
    "category_values = list(itertools.chain.from_iterable(category_dict.values()))\n",
    "print(f\"total_length : {len(category_values)} 개\")"
   ]
  },
  {
   "cell_type": "markdown",
   "metadata": {},
   "source": [
    "## **3 Maulo Item Result**\n",
    "마을로 현재 Item 내용을 활용하여 수집한 내용\n",
    "```python\n",
    "# load and uncompress.\n",
    "with gzip.open('./data/mauloItemNaver.pickle','rb') as f:\n",
    "    items_maulo_category = pickle.load(f)\n",
    "```"
   ]
  },
  {
   "cell_type": "code",
   "execution_count": 3,
   "metadata": {},
   "outputs": [
    {
     "name": "stdout",
     "output_type": "stream",
     "text": [
      "loading is done.\n"
     ]
    }
   ],
   "source": [
    "import pickle\n",
    "with open('./data/category_Naver.pickle', 'rb') as f:\n",
    "    items_maulo_category = pickle.load(f)\n",
    "print(\"loading is done.\")"
   ]
  },
  {
   "cell_type": "code",
   "execution_count": 4,
   "metadata": {},
   "outputs": [
    {
     "name": "stdout",
     "output_type": "stream",
     "text": [
      "Variable               Type    Data/Info\n",
      "----------------------------------------\n",
      "category_dict          dict    n=10\n",
      "category_values        list    n=199\n",
      "items_maulo_category   dict    n=906\n"
     ]
    }
   ],
   "source": [
    "%whos | grep list & str & dict"
   ]
  },
  {
   "cell_type": "markdown",
   "metadata": {},
   "source": [
    "<br/>\n",
    "\n",
    "# **Category Counting**\n",
    "## **1 Category Matching & Counting**"
   ]
  },
  {
   "cell_type": "code",
   "execution_count": 5,
   "metadata": {},
   "outputs": [
    {
     "data": {
      "text/plain": [
       "70"
      ]
     },
     "execution_count": 5,
     "metadata": {},
     "output_type": "execute_result"
    }
   ],
   "source": [
    "items_count = {}\n",
    "# Counting the matched items\n",
    "for k,v in items_maulo_category.items():\n",
    "    mathed = False\n",
    "    for _ in v.split('>'):\n",
    "        if _ in category_values:\n",
    "            if _ not in list(items_count.keys()):\n",
    "                items_count[_] = 1; matched = True\n",
    "                #items_count[_] = [k]\n",
    "            else:\n",
    "                items_count[_] += 1; matched = True\n",
    "                #items_count[_].append(k)\n",
    "    if matched == False:\n",
    "        print(k)\n",
    "len(items_count)"
   ]
  },
  {
   "cell_type": "markdown",
   "metadata": {},
   "source": [
    "## **2 Category Matching Token List**\n",
    "Token list extracted"
   ]
  },
  {
   "cell_type": "code",
   "execution_count": 6,
   "metadata": {},
   "outputs": [
    {
     "data": {
      "text/plain": [
       "'주먹밥연어>> 굴비*소>> 굴비*대>> 냉동오징어>> 간고등어>> 임연수>> 알탕용(알&곤이)>> 삼치>> 꽁치>> 바지락살>> 날치알>> 생홍합살>> 황토우렁이>> 명태코다리>> 대구살>> 대구포>> 대구전>> 동태포>> 바로먹는고등어오븐구이>> 얼린오징어*썬것>> 가재새우살>> 연어스테이크>> 훈제연어>> 오징어젓>> 명란젓>> 참새우젓>> 새우육젓>> 황태포>> 황태채>> 국물멸치>> 천일염멸치(지리)>> 죽염멸치(중멸)>> 죽염디포리>> 쌈다시마>> 해초무침>> 해풍돌미역>> 태양건조참다시마>> 파래>> 참돌미역귀>> 생톳>> 생돌김자반>> 올리브파래김>> 구운김>> 김자반볶음>> 재래김>> 자른미역>> 미역줄기>> 다시마채>> 냉채용미역>> 곱창돌김>> 마른오징어>> 건홍새우>> 건미역>> 다짐대게살>> 다짐전복>> 덕수건어물>> 북어채>> 자멸+돌김 선물세트>> 중멸+돌김 선물세트>> 대멸+돌김 선물세트>> 영광 굴비세트 2호(전화문의)>> 영광 굴비세트 1호>> 홍진미채>> 건새우>> 현미영양식-된장미역>> 연하도움식-흰살생선>> 연하도움식-된장미역'"
      ]
     },
     "execution_count": 6,
     "metadata": {},
     "output_type": "execute_result"
    }
   ],
   "source": [
    "items_token_list = {}\n",
    "# Counting the matched items\n",
    "for k,v in items_maulo_category.items():\n",
    "    mathed = False\n",
    "    for _ in v.split('>'):\n",
    "        if _ in category_values:\n",
    "            if _ not in list(items_token_list.keys()):\n",
    "                items_token_list[_] = [k]; matched = True\n",
    "            else:\n",
    "                items_token_list[_].append(k); matched = True\n",
    "    if matched == False:\n",
    "        print(k)\n",
    "\n",
    "# \"수산\" Key Items List\n",
    "\">> \".join(items_token_list['수산'])"
   ]
  },
  {
   "cell_type": "code",
   "execution_count": 11,
   "metadata": {},
   "outputs": [
    {
     "data": {
      "text/plain": [
       "['정립전자']"
      ]
     },
     "execution_count": 11,
     "metadata": {},
     "output_type": "execute_result"
    }
   ],
   "source": [
    "items_token_list['모니터주변기기']"
   ]
  },
  {
   "cell_type": "code",
   "execution_count": null,
   "metadata": {},
   "outputs": [],
   "source": []
  },
  {
   "cell_type": "markdown",
   "metadata": {},
   "source": [
    "## **3 ReNewal the Category Table**\n",
    "matching the table\n",
    "\n",
    "- [dict result to Pandas Dataframe](https://pandas.pydata.org/pandas-docs/stable/reference/api/pandas.DataFrame.from_dict.html)"
   ]
  },
  {
   "cell_type": "code",
   "execution_count": 7,
   "metadata": {},
   "outputs": [
    {
     "data": {
      "text/plain": [
       "'(44)축산>> (64)건강식품>> (67)수산>> (93)농산물>> (15)반찬>> (16)김치>> (59)음료>> (184)가공식품>> (1)다이어트식품>> (23)과자>> 아이스크림/빙수>> (36)냉동/간편조리식품>> 전통주>> 쿠킹박스'"
      ]
     },
     "execution_count": 7,
     "metadata": {},
     "output_type": "execute_result"
    }
   ],
   "source": [
    "result = {}\n",
    "for k, v_list in category_dict.items():\n",
    "    v_list_new = []\n",
    "    marker = False\n",
    "    # shopping item list loop\n",
    "    for _key in v_list:\n",
    "        # matching the count result roop\n",
    "        for _k, _v in items_count.items():\n",
    "            if _k == _key:  _key = f\"({_v}){_key}\" # Adding the count number\n",
    "            else:        pass\n",
    "        v_list_new.append(_key)\n",
    "    result[k] = v_list_new\n",
    "\n",
    "\">> \".join(result[\"식품\"])"
   ]
  },
  {
   "cell_type": "code",
   "execution_count": 8,
   "metadata": {},
   "outputs": [
    {
     "data": {
      "text/html": [
       "<div>\n",
       "<style scoped>\n",
       "    .dataframe tbody tr th:only-of-type {\n",
       "        vertical-align: middle;\n",
       "    }\n",
       "\n",
       "    .dataframe tbody tr th {\n",
       "        vertical-align: top;\n",
       "    }\n",
       "\n",
       "    .dataframe thead th {\n",
       "        text-align: right;\n",
       "    }\n",
       "</style>\n",
       "<table border=\"1\" class=\"dataframe\">\n",
       "  <thead>\n",
       "    <tr style=\"text-align: right;\">\n",
       "      <th></th>\n",
       "      <th>패션의류</th>\n",
       "      <th>패션잡화</th>\n",
       "      <th>화장품/미용</th>\n",
       "      <th>디지털/가전</th>\n",
       "      <th>가구/인테리어</th>\n",
       "      <th>출산/육아</th>\n",
       "      <th>식품</th>\n",
       "      <th>스포츠/레저</th>\n",
       "      <th>생활/건강</th>\n",
       "      <th>여가/생활편의</th>\n",
       "    </tr>\n",
       "  </thead>\n",
       "  <tbody>\n",
       "    <tr>\n",
       "      <th>0</th>\n",
       "      <td>(1)여성의류</td>\n",
       "      <td>여성신발</td>\n",
       "      <td>(10)스킨케어</td>\n",
       "      <td>휴대폰</td>\n",
       "      <td>침실가구</td>\n",
       "      <td>분유</td>\n",
       "      <td>(44)축산</td>\n",
       "      <td>등산</td>\n",
       "      <td>공구</td>\n",
       "      <td>(2)공연/티켓</td>\n",
       "    </tr>\n",
       "    <tr>\n",
       "      <th>1</th>\n",
       "      <td>여성언더웨어/잠옷</td>\n",
       "      <td>(2)남성신발</td>\n",
       "      <td>선케어</td>\n",
       "      <td>휴대폰 액세서리</td>\n",
       "      <td>거실가구</td>\n",
       "      <td>기저귀</td>\n",
       "      <td>(64)건강식품</td>\n",
       "      <td>(1)캠핑</td>\n",
       "      <td>(16)문구/사무용품</td>\n",
       "      <td>원데이클래스</td>\n",
       "    </tr>\n",
       "    <tr>\n",
       "      <th>2</th>\n",
       "      <td>남성의류</td>\n",
       "      <td>(1)지갑</td>\n",
       "      <td>(5)클렌징</td>\n",
       "      <td>카메라/캠코더용품</td>\n",
       "      <td>주방가구</td>\n",
       "      <td>(2)물티슈</td>\n",
       "      <td>(67)수산</td>\n",
       "      <td>(2)수영</td>\n",
       "      <td>화방용품</td>\n",
       "      <td>예체능레슨</td>\n",
       "    </tr>\n",
       "    <tr>\n",
       "      <th>3</th>\n",
       "      <td>남성언더웨어/잠옷</td>\n",
       "      <td>여행용가방/소품</td>\n",
       "      <td>베이스메이크업</td>\n",
       "      <td>광학기기/용품</td>\n",
       "      <td>수납가구</td>\n",
       "      <td>(2)이유식</td>\n",
       "      <td>(93)농산물</td>\n",
       "      <td>스포츠액세서리</td>\n",
       "      <td>(2)관상어용품</td>\n",
       "      <td>자기계발/취미 레슨</td>\n",
       "    </tr>\n",
       "    <tr>\n",
       "      <th>4</th>\n",
       "      <td></td>\n",
       "      <td>(1)신발용품</td>\n",
       "      <td>(7)색조메이크업</td>\n",
       "      <td>영상가전</td>\n",
       "      <td>아동/주니어가구</td>\n",
       "      <td>유모차</td>\n",
       "      <td>(15)반찬</td>\n",
       "      <td>골프</td>\n",
       "      <td>(7)수집품</td>\n",
       "      <td>(10)생활편의</td>\n",
       "    </tr>\n",
       "  </tbody>\n",
       "</table>\n",
       "</div>"
      ],
      "text/plain": [
       "        패션의류      패션잡화     화장품/미용     디지털/가전   가구/인테리어   출산/육아        식품  \\\n",
       "0    (1)여성의류      여성신발   (10)스킨케어        휴대폰      침실가구      분유    (44)축산   \n",
       "1  여성언더웨어/잠옷   (2)남성신발        선케어   휴대폰 액세서리      거실가구     기저귀  (64)건강식품   \n",
       "2       남성의류     (1)지갑     (5)클렌징  카메라/캠코더용품      주방가구  (2)물티슈    (67)수산   \n",
       "3  남성언더웨어/잠옷  여행용가방/소품    베이스메이크업    광학기기/용품      수납가구  (2)이유식   (93)농산물   \n",
       "4              (1)신발용품  (7)색조메이크업       영상가전  아동/주니어가구     유모차    (15)반찬   \n",
       "\n",
       "    스포츠/레저        생활/건강     여가/생활편의  \n",
       "0       등산           공구    (2)공연/티켓  \n",
       "1    (1)캠핑  (16)문구/사무용품      원데이클래스  \n",
       "2    (2)수영         화방용품       예체능레슨  \n",
       "3  스포츠액세서리     (2)관상어용품  자기계발/취미 레슨  \n",
       "4       골프       (7)수집품    (10)생활편의  "
      ]
     },
     "execution_count": 8,
     "metadata": {},
     "output_type": "execute_result"
    }
   ],
   "source": [
    "# dict result to Pandas DataFrame Table\n",
    "result_df = pd.DataFrame.from_dict(result, orient='index').T.fillna('')\n",
    "result_df.to_csv('./data/categoty_naver_count.csv', index=None)\n",
    "result_df.head()"
   ]
  },
  {
   "cell_type": "code",
   "execution_count": null,
   "metadata": {},
   "outputs": [],
   "source": []
  }
 ],
 "metadata": {
  "kernelspec": {
   "display_name": "Python 3",
   "language": "python",
   "name": "python3"
  },
  "language_info": {
   "codemirror_mode": {
    "name": "ipython",
    "version": 3
   },
   "file_extension": ".py",
   "mimetype": "text/x-python",
   "name": "python",
   "nbconvert_exporter": "python",
   "pygments_lexer": "ipython3",
   "version": "3.6.9"
  }
 },
 "nbformat": 4,
 "nbformat_minor": 4
}
