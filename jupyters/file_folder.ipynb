{
 "cells": [
  {
   "cell_type": "markdown",
   "metadata": {},
   "source": [
    "# 파일과 폴더의 관리\n",
    "Django 등에서 크롤링한 데이터 수집 및 저장 관리용 Manual"
   ]
  },
  {
   "cell_type": "code",
   "execution_count": 2,
   "metadata": {},
   "outputs": [],
   "source": [
    "import os"
   ]
  },
  {
   "cell_type": "code",
   "execution_count": 6,
   "metadata": {},
   "outputs": [
    {
     "data": {
      "text/plain": [
       "True"
      ]
     },
     "execution_count": 6,
     "metadata": {},
     "output_type": "execute_result"
    }
   ],
   "source": [
    "# 해당 경로가 포함여부 확인\n",
    "os.path.isdir('./ML/Pytorch')"
   ]
  },
  {
   "cell_type": "code",
   "execution_count": 9,
   "metadata": {},
   "outputs": [],
   "source": [
    "os.mkdir('./ML/data')"
   ]
  },
  {
   "cell_type": "code",
   "execution_count": 21,
   "metadata": {},
   "outputs": [],
   "source": [
    "os.mkdir('./Test')"
   ]
  },
  {
   "cell_type": "code",
   "execution_count": 22,
   "metadata": {},
   "outputs": [],
   "source": [
    "os.mkdir('./Test/data')"
   ]
  },
  {
   "cell_type": "code",
   "execution_count": 23,
   "metadata": {},
   "outputs": [],
   "source": [
    "os.rmdir('./Test/data/')"
   ]
  },
  {
   "cell_type": "code",
   "execution_count": 24,
   "metadata": {},
   "outputs": [],
   "source": [
    "os.rmdir('./Test/')"
   ]
  },
  {
   "cell_type": "code",
   "execution_count": 16,
   "metadata": {},
   "outputs": [
    {
     "name": "stdout",
     "output_type": "stream",
     "text": [
      "\u001b[0m\u001b[01;34mBackups\u001b[0m/  \u001b[01;34mFinance\u001b[0m/  \u001b[01;34mNltk\u001b[0m/         file_folder.ipynb\n",
      "\u001b[01;34mDjango\u001b[0m/   \u001b[01;34mML\u001b[0m/       ffmpeg.ipynb  requirement.txt\n"
     ]
    }
   ],
   "source": [
    "ls"
   ]
  },
  {
   "cell_type": "code",
   "execution_count": null,
   "metadata": {},
   "outputs": [],
   "source": [
    "try:\n",
    "    if not(os.path.isdir({YOUR_DIRECTORY_NAME})):\n",
    "        os.makedirs(os.path.join({YOUR_DIRECTORY_NAME}))\n",
    "except OSError as e:\n",
    "    if e.errno != errno.EEXIST:\n",
    "        print(\"Failed to create directory!!!!!\")\n",
    "        raise\n"
   ]
  },
  {
   "cell_type": "code",
   "execution_count": null,
   "metadata": {},
   "outputs": [],
   "source": []
  },
  {
   "cell_type": "code",
   "execution_count": null,
   "metadata": {},
   "outputs": [],
   "source": []
  },
  {
   "cell_type": "code",
   "execution_count": null,
   "metadata": {},
   "outputs": [],
   "source": []
  },
  {
   "cell_type": "code",
   "execution_count": 2,
   "metadata": {},
   "outputs": [],
   "source": [
    "from glob import glob\n",
    "file_list = glob('../../React/DjApps/AvSubs/static/smi/*.*')"
   ]
  },
  {
   "cell_type": "code",
   "execution_count": 8,
   "metadata": {},
   "outputs": [
    {
     "data": {
      "text/plain": [
       "1756"
      ]
     },
     "execution_count": 8,
     "metadata": {},
     "output_type": "execute_result"
    }
   ],
   "source": [
    "len(file_list)"
   ]
  },
  {
   "cell_type": "code",
   "execution_count": 7,
   "metadata": {},
   "outputs": [
    {
     "data": {
      "text/plain": [
       "['../../React/DjApps/AvSubs/static/smi/유즈키 히마와리 [2017-09-13] IPX-009.srt',\n",
       " '../../React/DjApps/AvSubs/static/smi/IPX-065 저화질 1.13G.srt',\n",
       " '../../React/DjApps/AvSubs/static/smi/IPX-091.srt',\n",
       " '../../React/DjApps/AvSubs/static/smi/IPX-039 유즈키 히마와리(柚月ひまわり, Himawari Yuzuki)_에로 색녀 간호사는 입 안 사정이 좋아.요염한 미소로 유혹하고 희롱하는 과격하고 처절한 음교(淫交) 테크닉 작렬! 고화질 4.04G.srt',\n",
       " '../../React/DjApps/AvSubs/static/smi/IPX-009 유즈키 히마와리(柚月ひまわり, Himawari Yuzuki)_너무 아름다운 누나의 상냥하고 부드러운 음어(淫語)와 행복한 기분이 감싸는 리드 섹ㅇ. 아마추어 집 방문 편 저화질 1.36G.srt',\n",
       " '../../React/DjApps/AvSubs/static/smi/모모노기 카나 [2017-12-01] IPX-052.jpg',\n",
       " '../../React/DjApps/AvSubs/static/smi/IPX-052 초고화질 4.55G.srt',\n",
       " '../../React/DjApps/AvSubs/static/smi/IPX-039 유즈키 히마와리(柚月ひまわり, Himawari Yuzuki)_에로 색녀 간호사는 입 안 사정이 좋아.요염한 미소로 유혹하고 희롱하는 과격하고 처절한 음교(淫交) 테크닉 작렬! 저화질 1.29G.srt',\n",
       " '../../React/DjApps/AvSubs/static/smi/IPX-052,,4.55G.srt',\n",
       " '../../React/DjApps/AvSubs/static/smi/IPX-005 모모노기 카나.srt',\n",
       " '../../React/DjApps/AvSubs/static/smi/IPX-009 초고화질 5.75G.srt',\n",
       " '../../React/DjApps/AvSubs/static/smi/IPX-009 유즈키 히마와리(柚月ひまわり, Himawari Yuzuki)_너무 아름다운 누나의 상냥하고 부드러운 음어(淫語)와 행복한 기분이 감싸는 리드 섹ㅇ. 아마추어 집 방문 편 초고화질 5.75G.srt',\n",
       " '../../React/DjApps/AvSubs/static/smi/IPX-009 유즈키 히마와리(柚月ひまわり, Himawari Yuzuki)_너무 아름다운 누나의 상냥하고 부드러운 음어(淫語)와 행복한 기분이 감싸는 리드 섹ㅇ. 아마추어 집 방문 편 고화질 4.26G.srt',\n",
       " '../../React/DjApps/AvSubs/static/smi/유즈키 히마와리 [2017-11-01] IPX-039.srt',\n",
       " '../../React/DjApps/AvSubs/static/smi/모모노기 카나 [2017-12-01] IPX-052.srt',\n",
       " '../../React/DjApps/AvSubs/static/smi/IPX-039 유즈키 히마와리(柚月ひまわり, Himawari Yuzuki)_에로 색녀 간호사는 입 안 사정이 좋아.요염한 미소로 유혹하고 희롱하는 과격하고 처절한 음교(淫交) 테크닉 작렬! 초고화질 5.78G.srt',\n",
       " '../../React/DjApps/AvSubs/static/smi/IPX-005초고화질  4.71G.srt',\n",
       " '../../React/DjApps/AvSubs/static/smi/IPX-065 고화질 3.48G.srt']"
      ]
     },
     "execution_count": 7,
     "metadata": {},
     "output_type": "execute_result"
    }
   ],
   "source": [
    "import re\n",
    "[_ for _ in file_list  if _.lower().find('ipx') != -1]"
   ]
  },
  {
   "cell_type": "code",
   "execution_count": 6,
   "metadata": {},
   "outputs": [
    {
     "data": {
      "text/plain": [
       "'test'"
      ]
     },
     "execution_count": 6,
     "metadata": {},
     "output_type": "execute_result"
    }
   ],
   "source": [
    "'test'.lower()"
   ]
  },
  {
   "cell_type": "code",
   "execution_count": null,
   "metadata": {},
   "outputs": [],
   "source": []
  }
 ],
 "metadata": {
  "kernelspec": {
   "display_name": "Python 3",
   "language": "python",
   "name": "python3"
  },
  "language_info": {
   "codemirror_mode": {
    "name": "ipython",
    "version": 3
   },
   "file_extension": ".py",
   "mimetype": "text/x-python",
   "name": "python",
   "nbconvert_exporter": "python",
   "pygments_lexer": "ipython3",
   "version": "3.6.9"
  }
 },
 "nbformat": 4,
 "nbformat_minor": 4
}
