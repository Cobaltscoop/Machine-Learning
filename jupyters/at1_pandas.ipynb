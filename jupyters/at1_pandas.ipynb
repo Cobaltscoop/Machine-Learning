{
 "cells": [
  {
   "cell_type": "markdown",
   "metadata": {},
   "source": [
    "# **관악구 동네 이야기**\n",
    "1. 데이터 불러오기\n",
    "1. 주소를 바탕으로 위도, 경도 데이터 가져오기\n",
    "1. Naver 지도 위에서 해당 내용 Marker (in React.js)"
   ]
  },
  {
   "cell_type": "markdown",
   "metadata": {},
   "source": [
    "## **1 데이터 전처리 작업**\n",
    "데이터를 불러온 뒤, 처리에 용이한 Type 으로 변환하기"
   ]
  },
  {
   "cell_type": "code",
   "execution_count": 1,
   "metadata": {},
   "outputs": [
    {
     "data": {
      "text/html": [
       "<div>\n",
       "<style scoped>\n",
       "    .dataframe tbody tr th:only-of-type {\n",
       "        vertical-align: middle;\n",
       "    }\n",
       "\n",
       "    .dataframe tbody tr th {\n",
       "        vertical-align: top;\n",
       "    }\n",
       "\n",
       "    .dataframe thead th {\n",
       "        text-align: right;\n",
       "    }\n",
       "</style>\n",
       "<table border=\"1\" class=\"dataframe\">\n",
       "  <thead>\n",
       "    <tr style=\"text-align: right;\">\n",
       "      <th></th>\n",
       "      <th>연번</th>\n",
       "      <th>상호명</th>\n",
       "      <th>점주명</th>\n",
       "      <th>연락처</th>\n",
       "      <th>주소</th>\n",
       "      <th>업종</th>\n",
       "      <th>행정동</th>\n",
       "      <th>사진</th>\n",
       "      <th>임대차</th>\n",
       "      <th>비고</th>\n",
       "      <th>기타</th>\n",
       "    </tr>\n",
       "  </thead>\n",
       "  <tbody>\n",
       "    <tr>\n",
       "      <th>44</th>\n",
       "      <td>NaN</td>\n",
       "      <td>NaN</td>\n",
       "      <td>NaN</td>\n",
       "      <td>NaN</td>\n",
       "      <td>호암로24길 1, 2ㆍ3층</td>\n",
       "      <td>NaN</td>\n",
       "      <td>NaN</td>\n",
       "      <td>O</td>\n",
       "      <td>O</td>\n",
       "      <td>NaN</td>\n",
       "      <td>NaN</td>\n",
       "    </tr>\n",
       "  </tbody>\n",
       "</table>\n",
       "</div>"
      ],
      "text/plain": [
       "    연번  상호명  점주명  연락처              주소   업종  행정동 사진 임대차   비고   기타\n",
       "44 NaN  NaN  NaN  NaN  호암로24길 1, 2ㆍ3층  NaN  NaN  O   O  NaN  NaN"
      ]
     },
     "execution_count": 1,
     "metadata": {},
     "output_type": "execute_result"
    }
   ],
   "source": [
    "# 데이터 CSV 불러오기\n",
    "import pandas as pd\n",
    "file_name = \"./data/ourtown_store.xlsx\"\n",
    "data_xls = pd.read_excel(file_name, header=1)\n",
    "data_columns = data_xls.columns.to_list()\n",
    "data_columns.pop()\n",
    "data_xls.columns = data_columns + ['기타']\n",
    "data_xls.head(3)\n",
    "data_xls[data_xls[\"연번\"].isnull()]"
   ]
  },
  {
   "cell_type": "code",
   "execution_count": 2,
   "metadata": {},
   "outputs": [
    {
     "data": {
      "text/html": [
       "<div>\n",
       "<style scoped>\n",
       "    .dataframe tbody tr th:only-of-type {\n",
       "        vertical-align: middle;\n",
       "    }\n",
       "\n",
       "    .dataframe tbody tr th {\n",
       "        vertical-align: top;\n",
       "    }\n",
       "\n",
       "    .dataframe thead th {\n",
       "        text-align: right;\n",
       "    }\n",
       "</style>\n",
       "<table border=\"1\" class=\"dataframe\">\n",
       "  <thead>\n",
       "    <tr style=\"text-align: right;\">\n",
       "      <th></th>\n",
       "      <th>연번</th>\n",
       "      <th>상호명</th>\n",
       "      <th>점주명</th>\n",
       "      <th>연락처</th>\n",
       "      <th>주소</th>\n",
       "      <th>업종</th>\n",
       "      <th>행정동</th>\n",
       "      <th>사진</th>\n",
       "      <th>임대차</th>\n",
       "      <th>비고</th>\n",
       "      <th>기타</th>\n",
       "    </tr>\n",
       "  </thead>\n",
       "  <tbody>\n",
       "  </tbody>\n",
       "</table>\n",
       "</div>"
      ],
      "text/plain": [
       "Empty DataFrame\n",
       "Columns: [연번, 상호명, 점주명, 연락처, 주소, 업종, 행정동, 사진, 임대차, 비고, 기타]\n",
       "Index: []"
      ]
     },
     "execution_count": 2,
     "metadata": {},
     "output_type": "execute_result"
    }
   ],
   "source": [
    "# Filling the NaN data\n",
    "for _ in data_xls.columns.to_list()[:-1]:\n",
    "    data_xls[_] = data_xls[_].fillna(method=\"ffill\")\n",
    "\n",
    "# Other field filled with blank text\n",
    "data_xls[\"기타\"] = data_xls[\"기타\"].fillna('')\n",
    "\n",
    "# Checking the NaN data\n",
    "data_xls[data_xls[\"연번\"].isnull()]"
   ]
  },
  {
   "cell_type": "markdown",
   "metadata": {},
   "source": [
    "## **2 위도, 경도 데이터 생성하기**\n",
    "주소 데이터를 활용하여 위도/ 경도 데이터 생성하기"
   ]
  },
  {
   "cell_type": "code",
   "execution_count": 3,
   "metadata": {},
   "outputs": [
    {
     "name": "stdout",
     "output_type": "stream",
     "text": [
      "은천로 28, 봉일프라자 나-120\n"
     ]
    },
    {
     "data": {
      "text/html": [
       "<div>\n",
       "<style scoped>\n",
       "    .dataframe tbody tr th:only-of-type {\n",
       "        vertical-align: middle;\n",
       "    }\n",
       "\n",
       "    .dataframe tbody tr th {\n",
       "        vertical-align: top;\n",
       "    }\n",
       "\n",
       "    .dataframe thead th {\n",
       "        text-align: right;\n",
       "    }\n",
       "</style>\n",
       "<table border=\"1\" class=\"dataframe\">\n",
       "  <thead>\n",
       "    <tr style=\"text-align: right;\">\n",
       "      <th></th>\n",
       "      <th>연번</th>\n",
       "      <th>상호명</th>\n",
       "      <th>점주명</th>\n",
       "      <th>연락처</th>\n",
       "      <th>주소</th>\n",
       "      <th>업종</th>\n",
       "      <th>행정동</th>\n",
       "      <th>사진</th>\n",
       "      <th>임대차</th>\n",
       "      <th>비고</th>\n",
       "      <th>기타</th>\n",
       "    </tr>\n",
       "  </thead>\n",
       "  <tbody>\n",
       "    <tr>\n",
       "      <th>0</th>\n",
       "      <td>1.0</td>\n",
       "      <td>모든홍삼</td>\n",
       "      <td>주옥자</td>\n",
       "      <td>010-7908-0324</td>\n",
       "      <td>은천로 28, 봉일프라자 나-120</td>\n",
       "      <td>기타판매</td>\n",
       "      <td>은천동</td>\n",
       "      <td>X</td>\n",
       "      <td>X</td>\n",
       "      <td>개별점포</td>\n",
       "      <td></td>\n",
       "    </tr>\n",
       "    <tr>\n",
       "      <th>1</th>\n",
       "      <td>2.0</td>\n",
       "      <td>종로떡집</td>\n",
       "      <td>김기철</td>\n",
       "      <td>010-4606-7280</td>\n",
       "      <td>국회단지길 21</td>\n",
       "      <td>떡집</td>\n",
       "      <td>은천동</td>\n",
       "      <td>X</td>\n",
       "      <td>X</td>\n",
       "      <td>개별점포</td>\n",
       "      <td></td>\n",
       "    </tr>\n",
       "    <tr>\n",
       "      <th>2</th>\n",
       "      <td>3.0</td>\n",
       "      <td>김원화 미용실</td>\n",
       "      <td>김원화</td>\n",
       "      <td>010-3778-1652</td>\n",
       "      <td>국회단지길 35</td>\n",
       "      <td>미용업</td>\n",
       "      <td>보라매동</td>\n",
       "      <td>X</td>\n",
       "      <td>X</td>\n",
       "      <td>개별점포</td>\n",
       "      <td></td>\n",
       "    </tr>\n",
       "  </tbody>\n",
       "</table>\n",
       "</div>"
      ],
      "text/plain": [
       "    연번      상호명  점주명            연락처                   주소    업종   행정동 사진 임대차  \\\n",
       "0  1.0     모든홍삼  주옥자  010-7908-0324  은천로 28, 봉일프라자 나-120  기타판매   은천동  X   X   \n",
       "1  2.0     종로떡집  김기철  010-4606-7280             국회단지길 21    떡집   은천동  X   X   \n",
       "2  3.0  김원화 미용실  김원화  010-3778-1652             국회단지길 35   미용업  보라매동  X   X   \n",
       "\n",
       "     비고 기타  \n",
       "0  개별점포     \n",
       "1  개별점포     \n",
       "2  개별점포     "
      ]
     },
     "execution_count": 3,
     "metadata": {},
     "output_type": "execute_result"
    }
   ],
   "source": [
    "# data_xls.to_csv(file_name.replace(\"xlsx\",\"csv\"), index=None)\n",
    "print(data_xls['주소'][0])\n",
    "data_xls.head(3)"
   ]
  },
  {
   "cell_type": "code",
   "execution_count": 4,
   "metadata": {},
   "outputs": [
    {
     "data": {
      "text/plain": [
       "0      은천로 28, 봉일프라자 나-120\n",
       "1                 국회단지길 21\n",
       "2                 국회단지길 35\n",
       "3                봉천로27길 10\n",
       "4               양녕로 16, 1층\n",
       "              ...         \n",
       "146            남부순환로247길 3\n",
       "147          난곡로24길 29, 1층\n",
       "148             신림로65길 31 \n",
       "149           남부순환로214길 29\n",
       "150              난곡로24길 32\n",
       "Name: 주소, Length: 151, dtype: object"
      ]
     },
     "execution_count": 4,
     "metadata": {},
     "output_type": "execute_result"
    }
   ],
   "source": [
    "data_xls['주소']"
   ]
  },
  {
   "cell_type": "code",
   "execution_count": 5,
   "metadata": {},
   "outputs": [],
   "source": [
    "# 건물관리번호 : 1144012700115950000000001\n",
    "#     X좌표 : 945959.0381341814\n",
    "#         Y좌표 : 1953851.7348996028\n",
    "#             건물명 : 한국지역정보개발원(KLID Tower)"
   ]
  }
 ],
 "metadata": {
  "kernelspec": {
   "display_name": "Python 3",
   "language": "python",
   "name": "python3"
  },
  "language_info": {
   "codemirror_mode": {
    "name": "ipython",
    "version": 3
   },
   "file_extension": ".py",
   "mimetype": "text/x-python",
   "name": "python",
   "nbconvert_exporter": "python",
   "pygments_lexer": "ipython3",
   "version": "3.6.9"
  }
 },
 "nbformat": 4,
 "nbformat_minor": 4
}
