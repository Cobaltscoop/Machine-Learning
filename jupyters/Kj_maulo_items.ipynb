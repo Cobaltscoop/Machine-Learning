{
 "cells": [
  {
   "cell_type": "markdown",
   "metadata": {},
   "source": [
    "# **마을로 쇼핑몰 아이템 크롤링**\n",
    "## **1 크롤링 수집함수 생성하기**\n",
    "**[How to Save the Maulo Items by WGET](https://electrictoolbox.com/wget-save-different-filename/)**\n",
    "\n",
    "**[Maulo 쇼핑목록 바로가기](http://maulo.kr/down/maulo.asp?page=1)**\n",
    "```\n",
    "wget http://maulo.kr/down/maulo.asp?page=1\n",
    "```"
   ]
  },
  {
   "cell_type": "code",
   "execution_count": 1,
   "metadata": {},
   "outputs": [
    {
     "name": "stderr",
     "output_type": "stream",
     "text": [
      "100%|██████████| 7/7 [00:00<00:00, 50446.96it/s]\n"
     ]
    }
   ],
   "source": [
    "import os\n",
    "from time import sleep\n",
    "from tqdm import tqdm\n",
    "for page in tqdm(range(1,8)):\n",
    "# for page in tqdm(range(1,2)):\n",
    "    file_save = f\" --output-document=./data/mauloItem{page}.html \"\n",
    "    terminal_text = f\"http://maulo.kr/down/maulo.asp?page={page}\"\n",
    "#     os.system(\"wget \" + file_save + terminal_text)\n",
    "#     sleep(1)"
   ]
  },
  {
   "cell_type": "markdown",
   "metadata": {},
   "source": [
    "## **2 저장된 파일 내용정리**\n",
    "**[Maulo Item Save by WGET](https://electrictoolbox.com/wget-save-different-filename/)**\n",
    "```\n",
    "wget http://maulo.kr/down/maulo.asp\\?page\\=1\n",
    "```"
   ]
  },
  {
   "cell_type": "code",
   "execution_count": 2,
   "metadata": {},
   "outputs": [
    {
     "data": {
      "text/plain": [
       "7"
      ]
     },
     "execution_count": 2,
     "metadata": {},
     "output_type": "execute_result"
    }
   ],
   "source": [
    "from glob import glob\n",
    "def read_tables(file_reg = './data/mauloItem?.html'):\n",
    "    result = []\n",
    "    files = sorted(glob(file_reg))\n",
    "    for _file in files:\n",
    "        with open(_file, \"r\") as f:\n",
    "            result.append(f.readlines()[-1])\n",
    "    return result\n",
    "\n",
    "tables = read_tables()\n",
    "len(tables)"
   ]
  },
  {
   "cell_type": "markdown",
   "metadata": {},
   "source": [
    "## **3 Functional Merging**\n",
    "`Image Url` 및 `내부 Tabel` 을 Text 로 저장 후 테이블 정리"
   ]
  },
  {
   "cell_type": "code",
   "execution_count": 3,
   "metadata": {},
   "outputs": [],
   "source": [
    "# Table, ImageUrl 추출 및 추가\n",
    "from lxml.html import fromstring, tostring\n",
    "import pandas as pd\n",
    "\n",
    "def extract_data(tables):\n",
    "    result = []\n",
    "    for table in tables:\n",
    "        table_df = pd.read_html(table, header=0)[0]\n",
    "        table_html = fromstring(table)\n",
    "        # Working in the Each Table\n",
    "        table_items = table_html.xpath('//table[@border=\"1\"]/tr')[1:] # Header 제거\n",
    "        result_table, result_image = [], []\n",
    "        # 01 search inner table\n",
    "        for item in table_items:\n",
    "            item = item.xpath('.//table')\n",
    "            # if item: result_table.append(tostring(item[-1], encoding=\"unicode\"))\n",
    "            if item: result_table.append(item[-1].text_content().strip())\n",
    "            else:    result_table.append(\"\")\n",
    "        # 02 search Image Urls\n",
    "        for number, item in enumerate(table_items):\n",
    "            item = item.xpath('.//a[@target=\"_blank\"]')\n",
    "            if item:\n",
    "                image_url = []\n",
    "                for _ in item:\n",
    "                    image_url.append(\"http://www.maulo.kr\" + _.get('href'))\n",
    "                result_image.append(image_url)\n",
    "            else: result_image.append(\"\")\n",
    "        table_df.insert(9, \"inTable\", result_table)\n",
    "        table_df.insert(11, \"이미지Url\", result_image)\n",
    "        result.append(table_df)\n",
    "    return pd.concat(result).reset_index(drop=True)"
   ]
  },
  {
   "cell_type": "code",
   "execution_count": 4,
   "metadata": {},
   "outputs": [
    {
     "data": {
      "text/html": [
       "<div>\n",
       "<style scoped>\n",
       "    .dataframe tbody tr th:only-of-type {\n",
       "        vertical-align: middle;\n",
       "    }\n",
       "\n",
       "    .dataframe tbody tr th {\n",
       "        vertical-align: top;\n",
       "    }\n",
       "\n",
       "    .dataframe thead th {\n",
       "        text-align: right;\n",
       "    }\n",
       "</style>\n",
       "<table border=\"1\" class=\"dataframe\">\n",
       "  <thead>\n",
       "    <tr style=\"text-align: right;\">\n",
       "      <th></th>\n",
       "      <th>번호</th>\n",
       "      <th>판매자</th>\n",
       "      <th>제목</th>\n",
       "      <th>상품/서비스</th>\n",
       "      <th>공급자</th>\n",
       "      <th>키워드</th>\n",
       "      <th>판매가</th>\n",
       "      <th>할인가</th>\n",
       "      <th>내용</th>\n",
       "      <th>inTable</th>\n",
       "      <th>이미지</th>\n",
       "      <th>이미지Url</th>\n",
       "    </tr>\n",
       "  </thead>\n",
       "  <tbody>\n",
       "    <tr>\n",
       "      <th>0</th>\n",
       "      <td>1</td>\n",
       "      <td>(주)인스케어코어</td>\n",
       "      <td>파트서비스-욕실 클리닝</td>\n",
       "      <td>서비스</td>\n",
       "      <td>NaN</td>\n",
       "      <td>청소 서비스, 위생 케어, 홈 클리닝, 화장실 청소, 곰팡이 제거, 인스케어</td>\n",
       "      <td>90000</td>\n",
       "      <td>90000</td>\n",
       "      <td>서비스 신청 및 고객 상담   1577 2040 평일:    09:00~  05:3...</td>\n",
       "      <td></td>\n",
       "      <td>2</td>\n",
       "      <td>[http://www.maulo.kr/data/2017/03/03/201703031...</td>\n",
       "    </tr>\n",
       "    <tr>\n",
       "      <th>1</th>\n",
       "      <td>2</td>\n",
       "      <td>(주)인스케어코어</td>\n",
       "      <td>파트서비스-주방 클리닝</td>\n",
       "      <td>서비스</td>\n",
       "      <td>NaN</td>\n",
       "      <td>청소 서비스, 위생 케어, 홈 클리닝, 주방 청소, 기름때 제거,인스케어</td>\n",
       "      <td>90000</td>\n",
       "      <td>90000</td>\n",
       "      <td>서비스 신청 및 고객 상담   1577 2040 평일:    09:00~  05:3...</td>\n",
       "      <td></td>\n",
       "      <td>2</td>\n",
       "      <td>[http://www.maulo.kr/data/2017/03/03/201703031...</td>\n",
       "    </tr>\n",
       "    <tr>\n",
       "      <th>2</th>\n",
       "      <td>3</td>\n",
       "      <td>(주)인스케어코어</td>\n",
       "      <td>토탈서비스-360케어</td>\n",
       "      <td>서비스</td>\n",
       "      <td>NaN</td>\n",
       "      <td>청소 서비스, 위생 케어, 홈 클리닝, 입주전 청소, 이사후 청소,인스케어</td>\n",
       "      <td>135000</td>\n",
       "      <td>135000</td>\n",
       "      <td>서비스 신청 및 고객 상담   1577 2040 평일:    09:00~  05:3...</td>\n",
       "      <td></td>\n",
       "      <td>2</td>\n",
       "      <td>[http://www.maulo.kr/data/2017/03/03/201703031...</td>\n",
       "    </tr>\n",
       "  </tbody>\n",
       "</table>\n",
       "</div>"
      ],
      "text/plain": [
       "   번호        판매자            제목 상품/서비스  공급자  \\\n",
       "0   1  (주)인스케어코어  파트서비스-욕실 클리닝    서비스  NaN   \n",
       "1   2  (주)인스케어코어  파트서비스-주방 클리닝    서비스  NaN   \n",
       "2   3  (주)인스케어코어   토탈서비스-360케어    서비스  NaN   \n",
       "\n",
       "                                          키워드     판매가     할인가  \\\n",
       "0  청소 서비스, 위생 케어, 홈 클리닝, 화장실 청소, 곰팡이 제거, 인스케어   90000   90000   \n",
       "1    청소 서비스, 위생 케어, 홈 클리닝, 주방 청소, 기름때 제거,인스케어   90000   90000   \n",
       "2   청소 서비스, 위생 케어, 홈 클리닝, 입주전 청소, 이사후 청소,인스케어  135000  135000   \n",
       "\n",
       "                                                  내용 inTable  이미지  \\\n",
       "0  서비스 신청 및 고객 상담   1577 2040 평일:    09:00~  05:3...            2   \n",
       "1  서비스 신청 및 고객 상담   1577 2040 평일:    09:00~  05:3...            2   \n",
       "2  서비스 신청 및 고객 상담   1577 2040 평일:    09:00~  05:3...            2   \n",
       "\n",
       "                                              이미지Url  \n",
       "0  [http://www.maulo.kr/data/2017/03/03/201703031...  \n",
       "1  [http://www.maulo.kr/data/2017/03/03/201703031...  \n",
       "2  [http://www.maulo.kr/data/2017/03/03/201703031...  "
      ]
     },
     "execution_count": 4,
     "metadata": {},
     "output_type": "execute_result"
    }
   ],
   "source": [
    "import re\n",
    "result_df = extract_data(tables)\n",
    "tokenizer = re.compile('[ ㄱ-힣0-9:.~]+')\n",
    "result_df['내용'] = [ \" \".join(tokenizer.findall(str(_))).strip()  \n",
    "                     for _ in result_df[\"내용\"] if _]\n",
    "result_df[\"이미지\"] = [len(_)   for _ in result_df[\"이미지Url\"]]\n",
    "result_df.to_csv('./data/maulo_items_img.csv', index=None)\n",
    "result_df.head(3)"
   ]
  },
  {
   "cell_type": "markdown",
   "metadata": {},
   "source": [
    "## **4 Image Download**\n",
    "링크에 포함된 이미지들 다운로드 실행"
   ]
  },
  {
   "cell_type": "code",
   "execution_count": 5,
   "metadata": {},
   "outputs": [
    {
     "data": {
      "text/plain": [
       "'http://www.maulo.kr/data/2017/03/03/20170303131643inscare1111.jpg'"
      ]
     },
     "execution_count": 5,
     "metadata": {},
     "output_type": "execute_result"
    }
   ],
   "source": [
    "url_temp = result_df[\"이미지Url\"]\n",
    "url_temp[0][0]"
   ]
  },
  {
   "cell_type": "code",
   "execution_count": 6,
   "metadata": {},
   "outputs": [
    {
     "data": {
      "text/plain": [
       "'2017_03_03_20170303131643inscare1111.jpg'"
      ]
     },
     "execution_count": 6,
     "metadata": {},
     "output_type": "execute_result"
    }
   ],
   "source": [
    "url_temp[0][0].replace('http://www.maulo.kr/data/', '').replace('/','_')"
   ]
  },
  {
   "cell_type": "code",
   "execution_count": 7,
   "metadata": {},
   "outputs": [
    {
     "name": "stderr",
     "output_type": "stream",
     "text": [
      "100%|██████████| 923/923 [31:42<00:00,  2.06s/it]  \n"
     ]
    }
   ],
   "source": [
    "import os\n",
    "from random import randint\n",
    "from time import sleep\n",
    "from tqdm import tqdm\n",
    "file_images = []\n",
    "for _imgs in tqdm(result_df[\"이미지Url\"]):\n",
    "    temp = []\n",
    "    if len(_imgs) > 0:\n",
    "        for _img in _imgs:        \n",
    "            file_save = f\" --output-document=./photo/\" +\\\n",
    "                _img.replace('http://www.maulo.kr/data/', '').replace('/','_')\n",
    "            _img = _img.replace(\"http://www.maulo.kr/\", \"http://www.nlly.net/\")\n",
    "            os.system(\"wget \" + file_save + \" \" + _img)\n",
    "            temp.append(file_save)\n",
    "            sleep(randint(5,10)/10)\n",
    "        file_images.append(\",\".join(temp))"
   ]
  },
  {
   "cell_type": "markdown",
   "metadata": {},
   "source": [
    "<br/>\n",
    "\n",
    "# **Html 테이블 내용의 정리**\n",
    "\n",
    "## **1 Html 테이블 기본 Layer 추출하기**\n",
    "전체 7개의 테이블 내용 추출함수 적용하기\n",
    "1. 기본 Table 에서 추가 Table, Image Link 필드 추가하기"
   ]
  },
  {
   "cell_type": "code",
   "execution_count": null,
   "metadata": {},
   "outputs": [],
   "source": [
    "import pandas as pd\n",
    "table_df = pd.read_html(tables[0], header=0)[0]\n",
    "table_df.head(3)"
   ]
  },
  {
   "cell_type": "markdown",
   "metadata": {},
   "source": [
    "## **2 Html 테이블 내용 추가하기**\n",
    "`Image Url` 및 `내부 Tabel` 을 Text 로 저장하기"
   ]
  },
  {
   "cell_type": "code",
   "execution_count": null,
   "metadata": {},
   "outputs": [],
   "source": [
    "from lxml.html import fromstring, tostring\n",
    "table_html = fromstring(tables[0])\n",
    "table_items = table_html.xpath('//table[@border=\"1\"]/tr')[1:]\n",
    "len(table_items), len(table_df)"
   ]
  },
  {
   "cell_type": "code",
   "execution_count": null,
   "metadata": {},
   "outputs": [],
   "source": [
    "# Item 내부의 Table 내용 추출하기\n",
    "count_blank, result_table = 0, []\n",
    "for item in table_items:\n",
    "    item = item.xpath('.//table')\n",
    "    if item: result_table.append(tostring(item[-1], encoding=\"unicode\"))\n",
    "    else:    \n",
    "        count_blank += 1 \n",
    "        result_table.append(\"\")\n",
    "len(result_table), count_blank "
   ]
  },
  {
   "cell_type": "code",
   "execution_count": null,
   "metadata": {},
   "outputs": [],
   "source": [
    "result_table[39]"
   ]
  },
  {
   "cell_type": "markdown",
   "metadata": {},
   "source": [
    "## **3 Html 테이블 내용 추가하기**\n",
    "`Image Url` 및 `내부 Tabel` 을 Text 로 저장하기"
   ]
  },
  {
   "cell_type": "code",
   "execution_count": null,
   "metadata": {},
   "outputs": [],
   "source": [
    "# Item 내부의 Image Url 추출하기\n",
    "count_blank, result_image = 0, []\n",
    "for number, item in enumerate(table_items):\n",
    "    item = item.xpath('.//a[@target=\"_blank\"]')\n",
    "    if item:\n",
    "        image_url = []\n",
    "        for _ in item:\n",
    "            image_url.append(\"http://www.maulo.kr\" + _.get('href'))\n",
    "        result_image.append(image_url)\n",
    "        pass #; print(len(item))\n",
    "    else:\n",
    "        count_blank += 1 \n",
    "        result_image.append(\"\")\n",
    "\n",
    "# Result Count\n",
    "len(result_image), count_blank"
   ]
  },
  {
   "cell_type": "markdown",
   "metadata": {},
   "source": [
    "## **4 Functional Merging**\n",
    "`Image Url` 및 `내부 Tabel` 을 Text 로 저장하기"
   ]
  },
  {
   "cell_type": "code",
   "execution_count": null,
   "metadata": {},
   "outputs": [],
   "source": [
    "from lxml.html import fromstring, tostring\n",
    "import pandas as pd\n",
    "\n",
    "def extract_data(tables):\n",
    "    result = []\n",
    "    for table in tables:\n",
    "        table_df = pd.read_html(table, header=0)[0]\n",
    "        table_html = fromstring(table)\n",
    "        # Working in the Each Table\n",
    "        table_items = table_html.xpath('//table[@border=\"1\"]/tr')[1:] # Header 제거\n",
    "        result_table, result_image = [], []\n",
    "        # 01 search inner table\n",
    "        for item in table_items:\n",
    "            item = item.xpath('.//table')\n",
    "            if item: result_table.append(tostring(item[-1], encoding=\"unicode\"))\n",
    "            else:    result_table.append(\"\")\n",
    "        # 02 search Image Urls\n",
    "        for number, item in enumerate(table_items):\n",
    "            item = item.xpath('.//a[@target=\"_blank\"]')\n",
    "            if item:\n",
    "                image_url = []\n",
    "                for _ in item:\n",
    "                    image_url.append(\"http://www.maulo.kr\" + _.get('href'))\n",
    "                result_image.append(image_url)\n",
    "            else: result_image.append(\"\")\n",
    "        table_df.insert(9, \"inTable\", result_table)\n",
    "        table_df.insert(11, \"이미지Url\", result_image)\n",
    "        result.append(table_df)\n",
    "    return result"
   ]
  },
  {
   "cell_type": "code",
   "execution_count": null,
   "metadata": {},
   "outputs": [],
   "source": []
  },
  {
   "cell_type": "code",
   "execution_count": null,
   "metadata": {},
   "outputs": [],
   "source": []
  },
  {
   "cell_type": "markdown",
   "metadata": {},
   "source": [
    "<br/>\n",
    "\n",
    "# **Shopping Mall Table**\n",
    "\n",
    "## **1 위에서 수집한 내용 본문에 덧붙이기**"
   ]
  },
  {
   "cell_type": "code",
   "execution_count": null,
   "metadata": {},
   "outputs": [],
   "source": [
    "table_df.head(3)"
   ]
  },
  {
   "cell_type": "code",
   "execution_count": null,
   "metadata": {},
   "outputs": [],
   "source": [
    "table_df.insert(9, \"inTable\", result_table)\n",
    "table_df.insert(11, \"이미지Url\", result_image)\n",
    "table_df.head(3)"
   ]
  },
  {
   "cell_type": "code",
   "execution_count": null,
   "metadata": {},
   "outputs": [],
   "source": []
  },
  {
   "cell_type": "code",
   "execution_count": null,
   "metadata": {},
   "outputs": [],
   "source": []
  },
  {
   "cell_type": "code",
   "execution_count": null,
   "metadata": {},
   "outputs": [],
   "source": [
    "table_items[0].text_content().strip()"
   ]
  },
  {
   "cell_type": "code",
   "execution_count": null,
   "metadata": {},
   "outputs": [],
   "source": [
    "table_items[1].text_content().strip()"
   ]
  },
  {
   "cell_type": "code",
   "execution_count": null,
   "metadata": {},
   "outputs": [],
   "source": []
  },
  {
   "cell_type": "code",
   "execution_count": null,
   "metadata": {},
   "outputs": [],
   "source": []
  }
 ],
 "metadata": {
  "kernelspec": {
   "display_name": "Python 3",
   "language": "python",
   "name": "python3"
  },
  "language_info": {
   "codemirror_mode": {
    "name": "ipython",
    "version": 3
   },
   "file_extension": ".py",
   "mimetype": "text/x-python",
   "name": "python",
   "nbconvert_exporter": "python",
   "pygments_lexer": "ipython3",
   "version": "3.6.9"
  }
 },
 "nbformat": 4,
 "nbformat_minor": 4
}
