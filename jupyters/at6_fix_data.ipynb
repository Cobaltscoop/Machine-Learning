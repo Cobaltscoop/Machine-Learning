{
 "cells": [
  {
   "cell_type": "markdown",
   "metadata": {},
   "source": [
    "# **Checking The Address Table**\n",
    "상권분할 작업의 내용수정 및 보완작업\n",
    "\n",
    "## **1 Loading the table**\n",
    "엑셀 원본데이터 불러오기"
   ]
  },
  {
   "cell_type": "code",
   "execution_count": 1,
   "metadata": {},
   "outputs": [
    {
     "data": {
      "text/html": [
       "<div>\n",
       "<style scoped>\n",
       "    .dataframe tbody tr th:only-of-type {\n",
       "        vertical-align: middle;\n",
       "    }\n",
       "\n",
       "    .dataframe tbody tr th {\n",
       "        vertical-align: top;\n",
       "    }\n",
       "\n",
       "    .dataframe thead th {\n",
       "        text-align: right;\n",
       "    }\n",
       "</style>\n",
       "<table border=\"1\" class=\"dataframe\">\n",
       "  <thead>\n",
       "    <tr style=\"text-align: right;\">\n",
       "      <th></th>\n",
       "      <th>연번</th>\n",
       "      <th>상호명</th>\n",
       "      <th>점주명</th>\n",
       "      <th>연락처</th>\n",
       "      <th>주소</th>\n",
       "      <th>업종</th>\n",
       "      <th>행정동</th>\n",
       "      <th>사진</th>\n",
       "      <th>임대차</th>\n",
       "      <th>비고</th>\n",
       "      <th>Unnamed: 10</th>\n",
       "    </tr>\n",
       "  </thead>\n",
       "  <tbody>\n",
       "    <tr>\n",
       "      <th>38</th>\n",
       "      <td>39</td>\n",
       "      <td>24시셀프빨래방</td>\n",
       "      <td>민혜경</td>\n",
       "      <td>010-4196-7646</td>\n",
       "      <td>관악로 118, 1층</td>\n",
       "      <td>빨래방</td>\n",
       "      <td>난곡동</td>\n",
       "      <td>O</td>\n",
       "      <td>O</td>\n",
       "      <td>개별점포</td>\n",
       "      <td>NaN</td>\n",
       "    </tr>\n",
       "  </tbody>\n",
       "</table>\n",
       "</div>"
      ],
      "text/plain": [
       "    연번       상호명  점주명            연락처           주소   업종  행정동 사진 임대차    비고  \\\n",
       "38  39  24시셀프빨래방  민혜경  010-4196-7646  관악로 118, 1층  빨래방  난곡동  O   O  개별점포   \n",
       "\n",
       "   Unnamed: 10  \n",
       "38         NaN  "
      ]
     },
     "execution_count": 1,
     "metadata": {},
     "output_type": "execute_result"
    }
   ],
   "source": [
    "import pandas as pd\n",
    "file_excel = './data/store.xlsx'\n",
    "table_excel = pd.read_excel(file_excel)\n",
    "test_table = table_excel[table_excel['상호명']=='24시셀프빨래방']\n",
    "test_table"
   ]
  },
  {
   "cell_type": "markdown",
   "metadata": {},
   "source": [
    "## **2 데이터 유효성 검사**\n",
    "Naver Map API 를 활용하여 결과값 확인하기\n",
    "- **[NCloud 설명서](https://apidocs.ncloud.com/ko/ai-naver/maps_static_map/)**\n",
    "- **[Naver MAP Tutorial](https://navermaps.github.io/maps.js.ncp/docs/tutorial-1-Conceptual-Overview.html)**"
   ]
  },
  {
   "cell_type": "code",
   "execution_count": 2,
   "metadata": {},
   "outputs": [
    {
     "name": "stdout",
     "output_type": "stream",
     "text": [
      "Address is Not Matched !!!\n",
      "\"난곡동\" =\\= 서울특별시 관악구 봉천동 1596-8\n"
     ]
    }
   ],
   "source": [
    "from data.arterior import Arterior\n",
    "test_result = Arterior().naverAddress(list(test_table['주소'].values)[0])\n",
    "test_token  = list(test_table['행정동'].values)[0]\n",
    "if test_result[0].find(test_token) == -1:\n",
    "    print(f'Address is Not Matched !!!\\n\"{test_token}\" =\\= {test_result[1]}')"
   ]
  },
  {
   "cell_type": "markdown",
   "metadata": {},
   "source": [
    "<br/>\n",
    "\n",
    "# **Create the ERD DataBase Table**\n",
    "상권분할 작업의 내용수정 및 보완작업\n",
    "\n",
    "## **1 Loading and Split the Table**\n",
    "테이블 자료를 사람과 주소 내용으로 구분하기\n",
    "```\n",
    "table = table[(table['view']==1) & (table['fix']==1)]\n",
    "```"
   ]
  },
  {
   "cell_type": "code",
   "execution_count": 3,
   "metadata": {},
   "outputs": [
    {
     "name": "stdout",
     "output_type": "stream",
     "text": [
      "A : {1: 4, 2: 4, 3: 4, 4: 4, 5: 4, 6: 4, 7: 4, 8: 4, 9: 4, 10: 4, 11: 4, 12: 4, 13: 4}\n",
      "B : {1: 4, 2: 4, 3: 4, 4: 4, 5: 4, 6: 4, 7: 4, 8: 4, 9: 4, 10: 4, 11: 4, 12: 4}\n",
      "C : {1: 4, 2: 4, 3: 4, 4: 4, 5: 4, 6: 4, 7: 4, 8: 4, 9: 4, 10: 4, 11: 4, 12: 4}\n"
     ]
    }
   ],
   "source": [
    "from collections import Counter\n",
    "artist_code  = {}\n",
    "file_name    = \"./data/artstore_match_v3.csv\"\n",
    "table_raw    = pd.read_csv(file_name).fillna('')\n",
    "table_artist = table_raw.iloc[:,:3].drop_duplicates().reset_index(drop=True)\n",
    "for _ in range(len(table_artist)):\n",
    "    table_series = table_artist.loc[_,:]\n",
    "    artist_code[table_series['artist']] = f\"{table_series['group']}-{table_series['artist_no']}\"\n",
    "\n",
    "# table 유효값 필터링 및 내용의 확인\n",
    "table = table_raw[table_raw['view']==1].reset_index(drop=True)\n",
    "for _ in ['A','B','C']:\n",
    "    temp_table = table[table['group']==_]\n",
    "    print(f'{_} :', dict(Counter(temp_table['artist_no'].to_list())))"
   ]
  },
  {
   "cell_type": "code",
   "execution_count": 4,
   "metadata": {},
   "outputs": [
    {
     "data": {
      "text/html": [
       "<div>\n",
       "<style scoped>\n",
       "    .dataframe tbody tr th:only-of-type {\n",
       "        vertical-align: middle;\n",
       "    }\n",
       "\n",
       "    .dataframe tbody tr th {\n",
       "        vertical-align: top;\n",
       "    }\n",
       "\n",
       "    .dataframe thead th {\n",
       "        text-align: right;\n",
       "    }\n",
       "</style>\n",
       "<table border=\"1\" class=\"dataframe\">\n",
       "  <thead>\n",
       "    <tr style=\"text-align: right;\">\n",
       "      <th></th>\n",
       "      <th>name</th>\n",
       "      <th>group</th>\n",
       "      <th>no</th>\n",
       "      <th>phone</th>\n",
       "      <th>email</th>\n",
       "      <th>instagram</th>\n",
       "      <th>homepage</th>\n",
       "      <th>etc</th>\n",
       "    </tr>\n",
       "  </thead>\n",
       "  <tbody>\n",
       "    <tr>\n",
       "      <th>38</th>\n",
       "      <td>나혜지</td>\n",
       "      <td>M</td>\n",
       "      <td>2</td>\n",
       "      <td></td>\n",
       "      <td></td>\n",
       "      <td></td>\n",
       "      <td></td>\n",
       "      <td></td>\n",
       "    </tr>\n",
       "    <tr>\n",
       "      <th>39</th>\n",
       "      <td>정효윤</td>\n",
       "      <td>M</td>\n",
       "      <td>3</td>\n",
       "      <td></td>\n",
       "      <td></td>\n",
       "      <td></td>\n",
       "      <td></td>\n",
       "      <td></td>\n",
       "    </tr>\n",
       "  </tbody>\n",
       "</table>\n",
       "</div>"
      ],
      "text/plain": [
       "   name group no phone email instagram homepage etc\n",
       "38  나혜지     M  2                                   \n",
       "39  정효윤     M  3                                   "
      ]
     },
     "execution_count": 4,
     "metadata": {},
     "output_type": "execute_result"
    }
   ],
   "source": [
    "artist_list = [[k] + v.split('-')  for k,v in artist_code.items()]\n",
    "artist_table = pd.DataFrame(artist_list)\n",
    "artist_table.columns = ['name', 'group', 'no']\n",
    "artist_table.insert(3, 'etc', '')\n",
    "artist_table.insert(3, 'homepage', '')\n",
    "artist_table.insert(3, 'instagram', '')\n",
    "artist_table.insert(3, 'email', '')\n",
    "artist_table.insert(3, 'phone', '')\n",
    "artist_table.tail(2)"
   ]
  },
  {
   "cell_type": "markdown",
   "metadata": {},
   "source": [
    "## **2 Insert the Data**\n",
    "자료 추가하기"
   ]
  },
  {
   "cell_type": "code",
   "execution_count": 5,
   "metadata": {},
   "outputs": [
    {
     "data": {
      "text/html": [
       "<div>\n",
       "<style scoped>\n",
       "    .dataframe tbody tr th:only-of-type {\n",
       "        vertical-align: middle;\n",
       "    }\n",
       "\n",
       "    .dataframe tbody tr th {\n",
       "        vertical-align: top;\n",
       "    }\n",
       "\n",
       "    .dataframe thead th {\n",
       "        text-align: right;\n",
       "    }\n",
       "</style>\n",
       "<table border=\"1\" class=\"dataframe\">\n",
       "  <thead>\n",
       "    <tr style=\"text-align: right;\">\n",
       "      <th></th>\n",
       "      <th>name</th>\n",
       "      <th>group</th>\n",
       "      <th>no</th>\n",
       "      <th>phone</th>\n",
       "      <th>email</th>\n",
       "      <th>instagram</th>\n",
       "      <th>homepage</th>\n",
       "      <th>etc</th>\n",
       "    </tr>\n",
       "  </thead>\n",
       "  <tbody>\n",
       "    <tr>\n",
       "      <th>37</th>\n",
       "      <td>전은미</td>\n",
       "      <td>M</td>\n",
       "      <td>1</td>\n",
       "      <td>010-4471-5995</td>\n",
       "      <td>multieunmi@naver.com</td>\n",
       "      <td></td>\n",
       "      <td></td>\n",
       "      <td></td>\n",
       "    </tr>\n",
       "    <tr>\n",
       "      <th>38</th>\n",
       "      <td>나혜지</td>\n",
       "      <td>M</td>\n",
       "      <td>2</td>\n",
       "      <td>010-5553-8404</td>\n",
       "      <td>thedesignlab@naver.com</td>\n",
       "      <td></td>\n",
       "      <td></td>\n",
       "      <td></td>\n",
       "    </tr>\n",
       "    <tr>\n",
       "      <th>39</th>\n",
       "      <td>정효윤</td>\n",
       "      <td>M</td>\n",
       "      <td>3</td>\n",
       "      <td>010-8200-7607</td>\n",
       "      <td>hony0709@naver.com</td>\n",
       "      <td></td>\n",
       "      <td></td>\n",
       "      <td></td>\n",
       "    </tr>\n",
       "  </tbody>\n",
       "</table>\n",
       "</div>"
      ],
      "text/plain": [
       "   name group no          phone                   email instagram homepage etc\n",
       "37  전은미     M  1  010-4471-5995    multieunmi@naver.com                       \n",
       "38  나혜지     M  2  010-5553-8404  thedesignlab@naver.com                       \n",
       "39  정효윤     M  3  010-8200-7607      hony0709@naver.com                       "
      ]
     },
     "execution_count": 5,
     "metadata": {},
     "output_type": "execute_result"
    }
   ],
   "source": [
    "data_add = [\n",
    "    ['전은미','010-4471-5995','multieunmi@naver.com'],\n",
    "    ['나혜지','010-5553-8404','thedesignlab@naver.com'],\n",
    "    ['정효윤','010-8200-7607','hony0709@naver.com']\n",
    "]\n",
    "# 데이터 추가는 loc, iloc 를 활용하기\n",
    "for _ in data_add:\n",
    "    index_number = list(artist_table[artist_table['name']== _[0] ].index)[0]\n",
    "    for no, columname in enumerate(['phone', 'email']):\n",
    "        artist_table.loc[index_number,columname] = _[no+1]\n",
    "# artist_table.to_csv('./data/artstore_match_v4_artist.csv', index=None)\n",
    "artist_table.tail(3)"
   ]
  },
  {
   "cell_type": "code",
   "execution_count": 6,
   "metadata": {},
   "outputs": [
    {
     "name": "stderr",
     "output_type": "stream",
     "text": [
      "100%|██████████| 148/148 [00:16<00:00,  8.76it/s]\n"
     ]
    },
    {
     "data": {
      "text/html": [
       "<div>\n",
       "<style scoped>\n",
       "    .dataframe tbody tr th:only-of-type {\n",
       "        vertical-align: middle;\n",
       "    }\n",
       "\n",
       "    .dataframe tbody tr th {\n",
       "        vertical-align: top;\n",
       "    }\n",
       "\n",
       "    .dataframe thead th {\n",
       "        text-align: right;\n",
       "    }\n",
       "</style>\n",
       "<table border=\"1\" class=\"dataframe\">\n",
       "  <thead>\n",
       "    <tr style=\"text-align: right;\">\n",
       "      <th></th>\n",
       "      <th>group</th>\n",
       "      <th>artist_no</th>\n",
       "      <th>artist</th>\n",
       "      <th>index</th>\n",
       "      <th>fix</th>\n",
       "      <th>view</th>\n",
       "      <th>title</th>\n",
       "      <th>type</th>\n",
       "      <th>ceo</th>\n",
       "      <th>phone</th>\n",
       "      <th>address</th>\n",
       "      <th>addressfull</th>\n",
       "      <th>addressroad</th>\n",
       "      <th>lon</th>\n",
       "      <th>lat</th>\n",
       "    </tr>\n",
       "  </thead>\n",
       "  <tbody>\n",
       "  </tbody>\n",
       "</table>\n",
       "</div>"
      ],
      "text/plain": [
       "Empty DataFrame\n",
       "Columns: [group, artist_no, artist, index, fix, view, title, type, ceo, phone, address, addressfull, addressroad, lon, lat]\n",
       "Index: []"
      ]
     },
     "execution_count": 6,
     "metadata": {},
     "output_type": "execute_result"
    }
   ],
   "source": [
    "from data.arterior import Arterior\n",
    "table = Arterior().naverAddressTableInsert(table,'address',11)\n",
    "table[table[\"lon\"]==\"\"]"
   ]
  },
  {
   "cell_type": "code",
   "execution_count": 7,
   "metadata": {},
   "outputs": [
    {
     "data": {
      "text/plain": [
       "{'서울특별시 관악구 난향길 14': '4',\n",
       " '서울특별시 관악구 난향길 12': '2',\n",
       " '서울특별시 관악구 난곡로24길 29': '3',\n",
       " '서울특별시 관악구 난곡로24길 6': '3',\n",
       " '서울특별시 관악구 난곡로26길 7': '2',\n",
       " '서울특별시 관악구 호암로22길 69 신국고시원': '2',\n",
       " '서울특별시 관악구 대학5길 21': '2',\n",
       " '서울특별시 관악구 신림로11길 20': '2',\n",
       " '서울특별시 관악구 신림로65길 31': '2',\n",
       " '서울특별시 관악구 남부순환로214길 29': '2',\n",
       " '서울특별시 관악구 봉천로 465': '2'}"
      ]
     },
     "execution_count": 7,
     "metadata": {},
     "output_type": "execute_result"
    }
   ],
   "source": [
    "# 겹치는 주솟값 보정하기\n",
    "from collections import Counter\n",
    "_count_address = dict(Counter([_ for _ in table['addressfull']]))\n",
    "_count_address = {k:str(v) for k, v in _count_address.items() if v != 1}\n",
    "_count_address"
   ]
  },
  {
   "cell_type": "code",
   "execution_count": 13,
   "metadata": {},
   "outputs": [],
   "source": [
    "# 중복 주소의 lon, lat 데이터 약간씩 수정\n",
    "for _list in [list(table[table[\"addressfull\"]==_address].index)  for _address in _count_address]:\n",
    "    for no, index in enumerate(_list):\n",
    "        lon, lat = table.loc[index, 'lon'], table.loc[index, 'lat']\n",
    "        table.loc[index, 'lon'] = float(lon) - 0.000039 * no\n",
    "        table.loc[index, 'lat'] = float(lat) - 0.000039 * no * 1.7\n",
    "\n",
    "# 겹치는 주솟값 보정내용 저장하기\n",
    "# table.to_csv('./data/artstore_match_v4_store.csv', index=None)"
   ]
  },
  {
   "cell_type": "markdown",
   "metadata": {},
   "source": [
    "## **3 Editing the DATABASE**\n",
    "위에서 생성한 자료 정리하기"
   ]
  },
  {
   "cell_type": "code",
   "execution_count": 22,
   "metadata": {},
   "outputs": [
    {
     "data": {
      "text/html": [
       "<div>\n",
       "<style scoped>\n",
       "    .dataframe tbody tr th:only-of-type {\n",
       "        vertical-align: middle;\n",
       "    }\n",
       "\n",
       "    .dataframe tbody tr th {\n",
       "        vertical-align: top;\n",
       "    }\n",
       "\n",
       "    .dataframe thead th {\n",
       "        text-align: right;\n",
       "    }\n",
       "</style>\n",
       "<table border=\"1\" class=\"dataframe\">\n",
       "  <thead>\n",
       "    <tr style=\"text-align: right;\">\n",
       "      <th></th>\n",
       "      <th>name</th>\n",
       "      <th>group</th>\n",
       "      <th>no</th>\n",
       "      <th>phone</th>\n",
       "      <th>email</th>\n",
       "      <th>instagram</th>\n",
       "      <th>homepage</th>\n",
       "      <th>etc</th>\n",
       "    </tr>\n",
       "  </thead>\n",
       "  <tbody>\n",
       "    <tr>\n",
       "      <th>37</th>\n",
       "      <td>전은미</td>\n",
       "      <td>M</td>\n",
       "      <td>1</td>\n",
       "      <td>010-4471-5995</td>\n",
       "      <td>multieunmi@naver.com</td>\n",
       "      <td></td>\n",
       "      <td></td>\n",
       "      <td></td>\n",
       "    </tr>\n",
       "    <tr>\n",
       "      <th>38</th>\n",
       "      <td>나혜지</td>\n",
       "      <td>M</td>\n",
       "      <td>2</td>\n",
       "      <td>010-5553-8404</td>\n",
       "      <td>thedesignlab@naver.com</td>\n",
       "      <td></td>\n",
       "      <td></td>\n",
       "      <td></td>\n",
       "    </tr>\n",
       "    <tr>\n",
       "      <th>39</th>\n",
       "      <td>정효윤</td>\n",
       "      <td>M</td>\n",
       "      <td>3</td>\n",
       "      <td>010-8200-7607</td>\n",
       "      <td>hony0709@naver.com</td>\n",
       "      <td></td>\n",
       "      <td></td>\n",
       "      <td></td>\n",
       "    </tr>\n",
       "  </tbody>\n",
       "</table>\n",
       "</div>"
      ],
      "text/plain": [
       "   name group  no          phone                   email instagram homepage  \\\n",
       "37  전은미     M   1  010-4471-5995    multieunmi@naver.com                      \n",
       "38  나혜지     M   2  010-5553-8404  thedesignlab@naver.com                      \n",
       "39  정효윤     M   3  010-8200-7607      hony0709@naver.com                      \n",
       "\n",
       "   etc  \n",
       "37      \n",
       "38      \n",
       "39      "
      ]
     },
     "execution_count": 22,
     "metadata": {},
     "output_type": "execute_result"
    }
   ],
   "source": [
    "import pandas as pd\n",
    "file_artist = './data/artstore_match_v4_artist.csv'\n",
    "file_store = './data/artstore_match_v4_store.csv'\n",
    "df_artist = pd.read_csv(file_artist).fillna('')\n",
    "df_store  = pd.read_csv(file_store).fillna('')\n",
    "df_artist.tail(3)"
   ]
  },
  {
   "cell_type": "code",
   "execution_count": 21,
   "metadata": {},
   "outputs": [
    {
     "data": {
      "text/html": [
       "<div>\n",
       "<style scoped>\n",
       "    .dataframe tbody tr th:only-of-type {\n",
       "        vertical-align: middle;\n",
       "    }\n",
       "\n",
       "    .dataframe tbody tr th {\n",
       "        vertical-align: top;\n",
       "    }\n",
       "\n",
       "    .dataframe thead th {\n",
       "        text-align: right;\n",
       "    }\n",
       "</style>\n",
       "<table border=\"1\" class=\"dataframe\">\n",
       "  <thead>\n",
       "    <tr style=\"text-align: right;\">\n",
       "      <th></th>\n",
       "      <th>group</th>\n",
       "      <th>artist_no</th>\n",
       "      <th>artist</th>\n",
       "      <th>index</th>\n",
       "      <th>fix</th>\n",
       "      <th>view</th>\n",
       "      <th>title</th>\n",
       "      <th>type</th>\n",
       "      <th>ceo</th>\n",
       "      <th>phone</th>\n",
       "      <th>address</th>\n",
       "      <th>addressfull</th>\n",
       "      <th>addressroad</th>\n",
       "      <th>lon</th>\n",
       "      <th>lat</th>\n",
       "    </tr>\n",
       "  </thead>\n",
       "  <tbody>\n",
       "    <tr>\n",
       "      <th>145</th>\n",
       "      <td>C</td>\n",
       "      <td>12</td>\n",
       "      <td>임우현</td>\n",
       "      <td>C-12-2</td>\n",
       "      <td>0</td>\n",
       "      <td>1</td>\n",
       "      <td>신현선무관</td>\n",
       "      <td>학원</td>\n",
       "      <td>안현석</td>\n",
       "      <td>010-2275-5616</td>\n",
       "      <td>장군봉1길 45, 2층</td>\n",
       "      <td>서울특별시 관악구 장군봉1길 45</td>\n",
       "      <td>서울특별시 관악구 봉천동 927-18</td>\n",
       "      <td>126.942606</td>\n",
       "      <td>37.481743</td>\n",
       "    </tr>\n",
       "    <tr>\n",
       "      <th>146</th>\n",
       "      <td>C</td>\n",
       "      <td>12</td>\n",
       "      <td>임우현</td>\n",
       "      <td>C-12-3</td>\n",
       "      <td>0</td>\n",
       "      <td>1</td>\n",
       "      <td>임서하헤어마벨</td>\n",
       "      <td>미용업</td>\n",
       "      <td>임서하</td>\n",
       "      <td>010-8689-8650</td>\n",
       "      <td>장군봉1길 29</td>\n",
       "      <td>서울특별시 관악구 장군봉1길 29</td>\n",
       "      <td>서울특별시 관악구 봉천동 930-3</td>\n",
       "      <td>126.941729</td>\n",
       "      <td>37.481842</td>\n",
       "    </tr>\n",
       "    <tr>\n",
       "      <th>147</th>\n",
       "      <td>C</td>\n",
       "      <td>12</td>\n",
       "      <td>임우현</td>\n",
       "      <td>C-12-4</td>\n",
       "      <td>0</td>\n",
       "      <td>1</td>\n",
       "      <td>정가</td>\n",
       "      <td>음식점</td>\n",
       "      <td>유영옥</td>\n",
       "      <td>010-5331-7715</td>\n",
       "      <td>남부순환로 1710</td>\n",
       "      <td>서울특별시 관악구 남부순환로 1710 이너스빌딩</td>\n",
       "      <td>서울특별시 관악구 봉천동 945-10 이너스빌딩</td>\n",
       "      <td>126.939874</td>\n",
       "      <td>37.482753</td>\n",
       "    </tr>\n",
       "  </tbody>\n",
       "</table>\n",
       "</div>"
      ],
      "text/plain": [
       "    group  artist_no artist   index  fix  view    title type  ceo  \\\n",
       "145     C         12    임우현  C-12-2    0     1    신현선무관   학원  안현석   \n",
       "146     C         12    임우현  C-12-3    0     1  임서하헤어마벨  미용업  임서하   \n",
       "147     C         12    임우현  C-12-4    0     1       정가  음식점  유영옥   \n",
       "\n",
       "             phone       address                 addressfull  \\\n",
       "145  010-2275-5616  장군봉1길 45, 2층          서울특별시 관악구 장군봉1길 45   \n",
       "146  010-8689-8650      장군봉1길 29          서울특별시 관악구 장군봉1길 29   \n",
       "147  010-5331-7715    남부순환로 1710  서울특별시 관악구 남부순환로 1710 이너스빌딩   \n",
       "\n",
       "                    addressroad         lon        lat  \n",
       "145        서울특별시 관악구 봉천동 927-18  126.942606  37.481743  \n",
       "146         서울특별시 관악구 봉천동 930-3  126.941729  37.481842  \n",
       "147  서울특별시 관악구 봉천동 945-10 이너스빌딩  126.939874  37.482753  "
      ]
     },
     "execution_count": 21,
     "metadata": {},
     "output_type": "execute_result"
    }
   ],
   "source": [
    "df_store.tail(3)"
   ]
  }
 ],
 "metadata": {
  "kernelspec": {
   "display_name": "Python 3",
   "language": "python",
   "name": "python3"
  },
  "language_info": {
   "codemirror_mode": {
    "name": "ipython",
    "version": 3
   },
   "file_extension": ".py",
   "mimetype": "text/x-python",
   "name": "python",
   "nbconvert_exporter": "python",
   "pygments_lexer": "ipython3",
   "version": "3.6.9"
  }
 },
 "nbformat": 4,
 "nbformat_minor": 4
}
