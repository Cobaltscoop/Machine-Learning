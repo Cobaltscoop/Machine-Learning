{
 "cells": [
  {
   "cell_type": "markdown",
   "metadata": {},
   "source": [
    "# **Encoding & Editing Video by FFMPEG**\n",
    "파일 인코딩 및 CROP 등의 편집작업 내용의 정리"
   ]
  },
  {
   "cell_type": "markdown",
   "metadata": {},
   "source": [
    "# **Crop and Time Cut Editing**\n",
    "파일 크기를 Crop 작업 하고, 시간별 파일 나누기"
   ]
  },
  {
   "cell_type": "markdown",
   "metadata": {},
   "source": [
    "## **1 Loading the File List**\n",
    "작업을 진행할 파일목록 가져오기"
   ]
  },
  {
   "cell_type": "code",
   "execution_count": 1,
   "metadata": {},
   "outputs": [
    {
     "data": {
      "text/plain": [
       "'/home/momukji/Downloads/REACT-SyDPn2JdMCE.mp4'"
      ]
     },
     "execution_count": 1,
     "metadata": {},
     "output_type": "execute_result"
    }
   ],
   "source": [
    "import os, time\n",
    "from glob import glob\n",
    "file_list = glob('/home/momukji/Downloads/REACT*.mp4')\n",
    "file = file_list[0]\n",
    "file # https://youtu.be/SyDPn2JdMCE"
   ]
  },
  {
   "cell_type": "markdown",
   "metadata": {},
   "source": [
    "## **2 Time Cut**\n",
    "**[StackExchange :](https://superuser.com/questions/377343/cut-part-from-video-file-from-start-position-to-end-position-with-ffmpeg)** Doesn't need the encoding process \n",
    "```r\n",
    "$ ffmpeg -i REACTNATIVE01.mp4 -vcodec copy -acodec copy -ss \"00:32:22\" -to \"01:19:26\" RN01.mp4\n",
    "```"
   ]
  },
  {
   "cell_type": "code",
   "execution_count": 2,
   "metadata": {},
   "outputs": [],
   "source": [
    "# Reactnative day03\n",
    "timelines = [\n",
    "    (\"00:19:16\", \"00:58:59\"),\n",
    "    (\"01:09:25\", \"02:02:40\"),\n",
    "    (\"03:18:52\", \"04:08:30\"),\n",
    "    (\"04:18:48\", \"05:08:55\"),\n",
    "    (\"05:19:08\", \"06:07:22\"),\n",
    "    (\"06:20:54\", \"07:07:26\"),\n",
    "]"
   ]
  },
  {
   "cell_type": "code",
   "execution_count": 3,
   "metadata": {},
   "outputs": [],
   "source": [
    "for idx, _ in enumerate(timelines):\n",
    "    bash = f'ffmpeg -i {file} -vcodec copy -acodec copy -ss \"{_[0]}\" -to \"{_[1]}\" RN01-{idx}.mp4'\n",
    "    os.system(bash)\n",
    "    time.sleep(1)"
   ]
  },
  {
   "cell_type": "markdown",
   "metadata": {},
   "source": [
    "## **3 Crop the Video Size**\n",
    "**[Blog Link :](https://www.linuxuprising.com/2020/01/ffmpeg-how-to-crop-videos-with-examples.html)** Needs the encoding process\n",
    "```r\n",
    "ffmpeg -i REACT.mp4 -filter:v \"crop=1435:800:42:172\" -c:v libx264 -acodec copy  react.mp4\n",
    "\n",
    "1150:646:65:36\n",
    "```"
   ]
  },
  {
   "cell_type": "code",
   "execution_count": 4,
   "metadata": {},
   "outputs": [
    {
     "data": {
      "text/plain": [
       "['./RN01-0.mp4',\n",
       " './RN01-1.mp4',\n",
       " './RN01-2.mp4',\n",
       " './RN01-3.mp4',\n",
       " './RN01-4.mp4',\n",
       " './RN01-5.mp4']"
      ]
     },
     "execution_count": 4,
     "metadata": {},
     "output_type": "execute_result"
    }
   ],
   "source": [
    "import os, time\n",
    "from glob import glob\n",
    "file_list = sorted(glob('./RN*.mp4'))\n",
    "file_list"
   ]
  },
  {
   "cell_type": "code",
   "execution_count": 5,
   "metadata": {},
   "outputs": [],
   "source": [
    "for idx, file in enumerate(file_list):\n",
    "    bash = f'ffmpeg -i {file} -filter:v \"crop=1430:805:45:172\" -c:v libx264 -acodec copy -max_muxing_queue_size \"1024\" RN1-{idx+1}.mp4'\n",
    "    os.system(bash)\n",
    "    time.sleep(1)\n",
    "#     os.system('rm {file}')\n",
    "    time.sleep(1)"
   ]
  },
  {
   "cell_type": "markdown",
   "metadata": {},
   "source": [
    "# **Volume Up**\n",
    "동영상의 볼륨 크기 높이기 1 ~ "
   ]
  },
  {
   "cell_type": "markdown",
   "metadata": {},
   "source": [
    "## **1 Loading the File List**\n",
    "작업을 진행할 파일목록 가져오기"
   ]
  },
  {
   "cell_type": "code",
   "execution_count": 1,
   "metadata": {},
   "outputs": [
    {
     "data": {
      "text/plain": [
       "'/home/momukji/Videos/React/kor_ReactNative/RNDay01-1.mp4'"
      ]
     },
     "execution_count": 1,
     "metadata": {},
     "output_type": "execute_result"
    }
   ],
   "source": [
    "import os, time\n",
    "from glob import glob\n",
    "file_list = sorted(glob('/home/momukji/Videos/React/kor_ReactNative/*.mp4'))\n",
    "file_list[0]"
   ]
  },
  {
   "cell_type": "markdown",
   "metadata": {},
   "source": [
    "## **2 Volume Up**\n",
    "```r\n",
    "$ ffmpeg -i RNDay01-1.mp4 -af \"volume=5\" -c:v copy -shortest test2.mp4\n",
    "```"
   ]
  },
  {
   "cell_type": "code",
   "execution_count": 3,
   "metadata": {},
   "outputs": [
    {
     "name": "stderr",
     "output_type": "stream",
     "text": [
      "100%|██████████| 18/18 [31:19<00:00, 104.40s/it]\n"
     ]
    }
   ],
   "source": [
    "from tqdm import tqdm\n",
    "for file in tqdm(file_list):\n",
    "    bash = f'ffmpeg -i {file} -af \"volume=5\" -c:v copy {file.split(\"/\")[-1]}'\n",
    "    os.system(bash)\n",
    "    time.sleep(2)"
   ]
  },
  {
   "cell_type": "markdown",
   "metadata": {},
   "source": [
    "# **Video Encoding for Chrome Cast**\n",
    "avi 파일을 mp4 크롬캐스트 인코딩으로 변환하기"
   ]
  },
  {
   "cell_type": "markdown",
   "metadata": {},
   "source": [
    "## **1 Loading the File List**\n",
    "작업을 진행할 파일목록 가져오기"
   ]
  },
  {
   "cell_type": "code",
   "execution_count": 11,
   "metadata": {},
   "outputs": [
    {
     "data": {
      "text/plain": [
       "(3,\n",
       " ['/home/momukji/Videos/The.Sand.Glass.1995.DVDRip.DivX.AC3.2CH.Part23.avi',\n",
       "  '/home/momukji/Videos/The.Sand.Glass.1995.DVDRip.DivX.AC3.2CH.Part24-1.avi',\n",
       "  '/home/momukji/Videos/The.Sand.Glass.1995.DVDRip.DivX.AC3.2CH.Part24-2.avi'])"
      ]
     },
     "execution_count": 11,
     "metadata": {},
     "output_type": "execute_result"
    }
   ],
   "source": [
    "import os, time\n",
    "from glob import glob\n",
    "file_list = glob('/home/momukji/Videos/*.avi')\n",
    "file_list = sorted(file_list)\n",
    "len(file_list), file_list[:3]"
   ]
  },
  {
   "cell_type": "markdown",
   "metadata": {},
   "source": [
    "## **2 Converting Video Files**\n",
    "```r\n",
    "ffmpeg -i The.Sand.Glass.E05.avi -c:a copy -acodec aac The.Sand.Glass.E05.mp4\n",
    "```"
   ]
  },
  {
   "cell_type": "code",
   "execution_count": 12,
   "metadata": {},
   "outputs": [
    {
     "name": "stderr",
     "output_type": "stream",
     "text": [
      "100%|██████████| 3/3 [12:31<00:00, 250.62s/it]\n"
     ]
    }
   ],
   "source": [
    "from tqdm import tqdm\n",
    "for _file in tqdm(file_list[:5]):\n",
    "    _file_chromecast = _file.replace('.avi','.mp4')\n",
    "    bash_commend = f\"ffmpeg -i {_file} -c:a copy -acodec aac {_file_chromecast}\"\n",
    "    os.system(bash_commend)\n",
    "    bash_commend = f\"rm {_file}\"\n",
    "    os.system(bash_commend)\n",
    "    time.sleep(1)"
   ]
  },
  {
   "cell_type": "markdown",
   "metadata": {},
   "source": [
    "<br/>\n",
    "\n",
    "# **Video Encoding**\n",
    "**[ffmpeg](https://gist.github.com/protrolium/e0dbd4bb0f1a396fcb55)** 를 활용하여 필요한 인코딩 방법들 기록 및 응용하기\n",
    "1. **Extract the Audio File** from **low quality Video**\n",
    "1. **Remove the Audio** from the **HD Video file**\n",
    "1. **Merge** the extracted Audio & audio removed Video"
   ]
  },
  {
   "cell_type": "markdown",
   "metadata": {},
   "source": [
    "## **1 Loading the File List**\n",
    "작업을 진행할 파일목록 가져오기"
   ]
  },
  {
   "cell_type": "code",
   "execution_count": 1,
   "metadata": {},
   "outputs": [],
   "source": [
    "import os\n",
    "from glob import glob\n",
    "file_list = glob('/home/momukji/Videos/*.avi')\n",
    "file_list = sorted(file_list)"
   ]
  },
  {
   "cell_type": "markdown",
   "metadata": {},
   "source": [
    "## **2 Extract the Audio**\n",
    "오디오 내용 추출하기\n",
    "```\n",
    "$ ffmpeg -i video.mp4 -f mp3 -ab 192000 -vn music.mp3\n",
    "```"
   ]
  },
  {
   "cell_type": "code",
   "execution_count": 6,
   "metadata": {},
   "outputs": [
    {
     "name": "stderr",
     "output_type": "stream",
     "text": [
      "100%|██████████| 7/7 [00:00<00:00, 22937.60it/s]"
     ]
    },
    {
     "name": "stdout",
     "output_type": "stream",
     "text": [
      "/home/momukji/Music/The.Naked.Director.S01E01.WEB.x264-ROFL.mkv\n",
      "/home/momukji/Music/The.Naked.Director.S01E02.WEB.x264-ROFL.mkv\n",
      "/home/momukji/Music/The.Naked.Director.S01E03.WEB.x264-ROFL.mkv\n",
      "/home/momukji/Music/The.Naked.Director.S01E04.WEB.x264-ROFL.mkv\n",
      "/home/momukji/Music/The.Naked.Director.S01E06.WEB.x264-ROFL.mkv\n",
      "/home/momukji/Music/The.Naked.Director.S01E07.WEB.x264-ROFL.mkv\n",
      "/home/momukji/Music/The.Naked.Director.S01E08.WEB.x264-ROFL.mkv\n"
     ]
    },
    {
     "name": "stderr",
     "output_type": "stream",
     "text": [
      "\n"
     ]
    }
   ],
   "source": [
    "import re, os, time\n",
    "tokenizer = re.compile('ROFL')\n",
    "file_work = [_ for _ in file_list if len(tokenizer.findall(_))>0]\n",
    "print(\"\\n\".join(file_work))\n",
    "\n",
    "from tqdm import tqdm\n",
    "for _file in tqdm(file_work):\n",
    "    _file_audio = _file.replace('.mkv','.mp3')\n",
    "    bash_commend = f\"ffmpeg -i {_file} -f mp3 -ab 192000 -vn {_file_audio}\"\n",
    "    os.system(bash_commend)\n",
    "    time.sleep(1)"
   ]
  },
  {
   "cell_type": "markdown",
   "metadata": {},
   "source": [
    "## **3 Remove the Audio from HD Video**\n",
    "비디오 합치기 작업 전 오디오 제거하기\n",
    "```\n",
    "$ ffmpeg -i INPUT.mp4 -codec copy -an OUTPUT.mp4\n",
    "```"
   ]
  },
  {
   "cell_type": "code",
   "execution_count": 26,
   "metadata": {},
   "outputs": [
    {
     "name": "stdout",
     "output_type": "stream",
     "text": [
      "/home/momukji/Music/www.Movcr.tv.The.Naked.Director.S01E01.720p.NF.WEB-DL.x264-AAC.MSub.mkv\n",
      "/home/momukji/Music/www.Movcr.tv.The.Naked.Director.S01E02.720p.NF.WEB-DL.x264-AAC.MSub.mkv\n",
      "/home/momukji/Music/www.Movcr.tv.The.Naked.Director.S01E03.720p.NF.WEB-DL.x264-AAC.MSub.mkv\n",
      "/home/momukji/Music/www.Movcr.tv.The.Naked.Director.S01E04.720p.NF.WEB-DL.x264-AAC.MSub.mkv\n",
      "/home/momukji/Music/www.Movcr.tv.The.Naked.Director.S01E06.720p.NF.WEB-DL.x264-AAC.MSub.mkv\n",
      "/home/momukji/Music/www.Movcr.tv.The.Naked.Director.S01E07.720p.NF.WEB-DL.x264-AAC.MSub.mkv\n",
      "/home/momukji/Music/www.Movcr.tv.The.Naked.Director.S01E08.720p.NF.WEB-DL.x264-AAC.MSub.mkv\n"
     ]
    }
   ],
   "source": [
    "import re, os, time\n",
    "tokenizer = re.compile('MSub.mkv')\n",
    "file_work = [_ for _ in file_list if len(tokenizer.findall(_))>0]\n",
    "print(\"\\n\".join(file_work))"
   ]
  },
  {
   "cell_type": "code",
   "execution_count": 27,
   "metadata": {},
   "outputs": [
    {
     "name": "stderr",
     "output_type": "stream",
     "text": [
      "100%|██████████| 7/7 [00:10<00:00,  1.54s/it]\n"
     ]
    }
   ],
   "source": [
    "for _file in tqdm(file_work):\n",
    "    _file_video = _file.replace('www.Movcr.tv.','').replace(\n",
    "        '.NF.WEB-DL.x264-AAC.MSub.mkv','.WEB.x264.AAC.MSub.mp4')\n",
    "    bash_commend = f'ffmpeg -i {_file} -codec copy -an {_file_video}'\n",
    "    os.system(bash_commend)\n",
    "    time.sleep(1)"
   ]
  },
  {
   "cell_type": "markdown",
   "metadata": {},
   "source": [
    "## **4 Combine the Files**\n",
    "비디오 와 오디오 파일 합치기\n",
    "```\n",
    "$ ffmpeg -i INPUT.mp4 -i AUDIO.wav -shortest -c:v copy -c:a aac -b:a 256k OUTPUT.mp4\n",
    "```"
   ]
  },
  {
   "cell_type": "code",
   "execution_count": 44,
   "metadata": {},
   "outputs": [
    {
     "name": "stderr",
     "output_type": "stream",
     "text": [
      "100%|██████████| 7/7 [08:00<00:00, 68.65s/it]\n"
     ]
    }
   ],
   "source": [
    "import os, re\n",
    "from glob import glob\n",
    "file_list = glob('/home/momukji/Music/*.*')\n",
    "file_videos = [_  for _ in sorted(file_list) if len(re.findall('.mp4', _))>0]\n",
    "file_audios = [_  for _ in sorted(file_list) if len(re.findall('.mp3', _))>0]\n",
    "file_works = {file_videos[_]:file_audios[_]  for _ in range(len(file_videos))}\n",
    "len(file_works)\n",
    "\n",
    "for _video, _audio in tqdm(file_works.items()):\n",
    "    _fvideo = _video.replace('.MSub.mp4','.mp4')\n",
    "    bash_commend = f\"ffmpeg -i {_video} -i {_audio} -shortest -c:v copy -c:a aac -b:a 256k {_fvideo}\"\n",
    "    os.system(bash_commend)\n",
    "    time.sleep(1)"
   ]
  },
  {
   "cell_type": "markdown",
   "metadata": {},
   "source": [
    "<br/>\n",
    "\n",
    "# **Merge Files**\n",
    "**[ffmpeg](https://gist.github.com/protrolium/e0dbd4bb0f1a396fcb55)** 를 활용하여 파일들 합치기\n",
    "1. **[Glob](https://redcarrot.tistory.com/222)** 에서 필터링 방법\n",
    "1. **[ffmpeg concat](https://trac.ffmpeg.org/wiki/Concatenate)**"
   ]
  },
  {
   "cell_type": "markdown",
   "metadata": {},
   "source": [
    "## **1 Loading and Rename Files**\n",
    "작업을 진행할 파일목록 가져오기"
   ]
  },
  {
   "cell_type": "code",
   "execution_count": 1,
   "metadata": {},
   "outputs": [
    {
     "data": {
      "text/plain": [
       "['/home/momukji/Videos/Health/여동생이랑 운동 하기 하.........-o5oWf6vurX0.mp4',\n",
       " \"/home/momukji/Videos/Health/하나뿐인 여동생 '가슴' 만들어주기-6IkDTV1neLA.mp4\",\n",
       " \"/home/momukji/Videos/Health/이세상 운동이 하나만 있다면 여지없이 알려줄 '운동'-Z9cr0Ge5v7I.mp4\"]"
      ]
     },
     "execution_count": 1,
     "metadata": {},
     "output_type": "execute_result"
    }
   ],
   "source": [
    "# 파일 목록 가져오기\n",
    "file_dir = '/home/momukji/Videos/Health/*.mp4'\n",
    "import os\n",
    "from glob import glob\n",
    "file_list = glob(file_dir)\n",
    "file_list = sorted(file_list, key=os.path.getctime)\n",
    "file_list[::5]"
   ]
  },
  {
   "cell_type": "code",
   "execution_count": 7,
   "metadata": {},
   "outputs": [
    {
     "data": {
      "text/plain": [
       "['/home/momukji/Videos/Health/00.mp4',\n",
       " '/home/momukji/Videos/Health/05.mp4',\n",
       " '/home/momukji/Videos/Health/10.mp4']"
      ]
     },
     "execution_count": 7,
     "metadata": {},
     "output_type": "execute_result"
    }
   ],
   "source": [
    "# 순서대로 이름 만들기\n",
    "file_folder = file_dir.replace(file_dir.split('/')[-1], '')\n",
    "for no, _ in enumerate([file_folder + f'{_:02d}' + '.mp4'  for _ in range(len(file_list))]):\n",
    "    os.rename(file_list[no], _)\n",
    "\n",
    "# 작업결과내용 확인하기\n",
    "file_list = sorted(glob(file_dir))\n",
    "file_list[::5]"
   ]
  },
  {
   "cell_type": "markdown",
   "metadata": {},
   "source": [
    "## **2 ConCat 텍스트 파일 만들기**\n",
    "파일들을 합치기 위한 텍스트 파일 만들기"
   ]
  },
  {
   "cell_type": "code",
   "execution_count": 8,
   "metadata": {},
   "outputs": [
    {
     "name": "stdout",
     "output_type": "stream",
     "text": [
      "file '/home/momukji/Videos/Health/00.mp4'\n",
      "file '/home/momukji/Videos/Health/01.mp4'\n",
      "file '/home/momukji/Videos/Health/02.mp4'\n"
     ]
    }
   ],
   "source": [
    "file_folder = file_dir.replace(file_dir.split('/')[-1], '')\n",
    "with open('merge_files.txt', 'w') as f:\n",
    "    for _ in file_list:\n",
    "#         f.write(\"file './\" + _.replace(file_folder,'') + \"'\" + '\\n')\n",
    "        f.write(f\"file '{_}'\\n\")\n",
    "\n",
    "! cat merge_files.txt | head -n 3"
   ]
  },
  {
   "cell_type": "markdown",
   "metadata": {},
   "source": [
    "## **3 Running the Script**\n",
    "스크립트 내용 실행하기"
   ]
  },
  {
   "cell_type": "code",
   "execution_count": 9,
   "metadata": {},
   "outputs": [
    {
     "data": {
      "text/plain": [
       "0"
      ]
     },
     "execution_count": 9,
     "metadata": {},
     "output_type": "execute_result"
    }
   ],
   "source": [
    "bash_commend = \"ffmpeg -f concat -safe 0 -i merge_files.txt -c copy health.mp4\"\n",
    "os.system(bash_commend)"
   ]
  },
  {
   "cell_type": "code",
   "execution_count": null,
   "metadata": {},
   "outputs": [],
   "source": []
  },
  {
   "cell_type": "code",
   "execution_count": null,
   "metadata": {},
   "outputs": [],
   "source": [
    "# Reactnative day01\n",
    "timelines = [\n",
    "    (\"00:32:22\", \"01:19:26\"),\n",
    "    (\"01:27:54\", \"02:23:36\"),\n",
    "    (\"03:29:37\", \"04:13:02\"),\n",
    "    (\"04:24:46\", \"05:31:36\"),\n",
    "    (\"05:41:07\", \"06:17:58\"),\n",
    "    (\"06:29:10\", \"07:25:55\"),\n",
    "]"
   ]
  },
  {
   "cell_type": "code",
   "execution_count": null,
   "metadata": {},
   "outputs": [],
   "source": [
    "# Reactnative day02\n",
    "timelines = [\n",
    "    (\"00:27:00\", \"01:24:20\"),\n",
    "    (\"01:34:00\", \"02:20:25\"),\n",
    "    (\"03:26:50\", \"04:16:30\"),\n",
    "    (\"04:26:30\", \"05:13:58\"),\n",
    "    (\"05:23:30\", \"06:21:52\"),\n",
    "    (\"06:31:50\", \"07:14:31\"),\n",
    "]"
   ]
  }
 ],
 "metadata": {
  "kernelspec": {
   "display_name": "Python 3",
   "language": "python",
   "name": "python3"
  },
  "language_info": {
   "codemirror_mode": {
    "name": "ipython",
    "version": 3
   },
   "file_extension": ".py",
   "mimetype": "text/x-python",
   "name": "python",
   "nbconvert_exporter": "python",
   "pygments_lexer": "ipython3",
   "version": "3.8.5"
  }
 },
 "nbformat": 4,
 "nbformat_minor": 4
}
