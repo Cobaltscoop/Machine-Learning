{
 "cells": [
  {
   "cell_type": "markdown",
   "metadata": {},
   "source": [
    "# **Maulo Shop Item Crawling**\n",
    "- http://o2o.maulo.kr/list/?pageNo=93\n",
    "\n",
    "## **1 Crawling Function**\n",
    "using requests, lxml"
   ]
  },
  {
   "cell_type": "code",
   "execution_count": 1,
   "metadata": {},
   "outputs": [],
   "source": [
    "import requests\n",
    "from lxml.html import fromstring\n",
    "\n",
    "class MauloItems:\n",
    "    \n",
    "    def __init__(self):\n",
    "        self.url = \"http://o2o.maulo.kr/list/?pageNo=\"\n",
    "        \n",
    "    def items_xpath(self, page_number, xpath='//table[@style=\"margin:4px;\"]'):\n",
    "        result = []\n",
    "        response = requests.get(self.url + str(page_number)).content.decode('utf-8')\n",
    "        items = fromstring(response).xpath(xpath)\n",
    "        xpaths = [\n",
    "            './/a[@class=\"mallttlG\"]/text()', # Title\n",
    "            './/font[@color=\"333333\"]//text()', # Price\n",
    "            './/font[@color=\"#888888\"]//text()', # User Tags\n",
    "        ]\n",
    "        for item in items:\n",
    "            result.append([\"\".join(item.xpath(_))  for _ in xpaths])\n",
    "        return result"
   ]
  },
  {
   "cell_type": "markdown",
   "metadata": {},
   "source": [
    "## **2 Running the Function**\n",
    "1 ~ 93 Page function  "
   ]
  },
  {
   "cell_type": "code",
   "execution_count": 2,
   "metadata": {},
   "outputs": [
    {
     "name": "stderr",
     "output_type": "stream",
     "text": [
      "100%|██████████| 93/93 [01:11<00:00,  1.29it/s]\n"
     ]
    }
   ],
   "source": [
    "result = []\n",
    "maulo_items = MauloItems()\n",
    "from tqdm import tqdm\n",
    "for _ in tqdm(range(1, 94)):\n",
    "    result += maulo_items.items_xpath(_)"
   ]
  },
  {
   "cell_type": "code",
   "execution_count": 9,
   "metadata": {},
   "outputs": [
    {
     "data": {
      "text/html": [
       "<div>\n",
       "<style scoped>\n",
       "    .dataframe tbody tr th:only-of-type {\n",
       "        vertical-align: middle;\n",
       "    }\n",
       "\n",
       "    .dataframe tbody tr th {\n",
       "        vertical-align: top;\n",
       "    }\n",
       "\n",
       "    .dataframe thead th {\n",
       "        text-align: right;\n",
       "    }\n",
       "</style>\n",
       "<table border=\"1\" class=\"dataframe\">\n",
       "  <thead>\n",
       "    <tr style=\"text-align: right;\">\n",
       "      <th></th>\n",
       "      <th>Title</th>\n",
       "      <th>Price</th>\n",
       "      <th>Tags</th>\n",
       "    </tr>\n",
       "  </thead>\n",
       "  <tbody>\n",
       "    <tr>\n",
       "      <th>0</th>\n",
       "      <td>싹독싹독 소독 물티슈</td>\n",
       "      <td>4,400</td>\n",
       "      <td>코로나,손소독,항균,소독,싹독싹독소독물티슈</td>\n",
       "    </tr>\n",
       "    <tr>\n",
       "      <th>1</th>\n",
       "      <td>에어싹H</td>\n",
       "      <td>13,000</td>\n",
       "      <td>코로나,손소독,항균,소독</td>\n",
       "    </tr>\n",
       "    <tr>\n",
       "      <th>2</th>\n",
       "      <td>손소독제 소독스프레이 500ml / 20개/Box /일상닥터 살균나라</td>\n",
       "      <td>8,000</td>\n",
       "      <td>코로나,손소독,항균,소독</td>\n",
       "    </tr>\n",
       "    <tr>\n",
       "      <th>3</th>\n",
       "      <td>휴대용 손소독제 소독 스프레이 60ml / 40개/Box / 일상닥터 살균나라</td>\n",
       "      <td>4,000</td>\n",
       "      <td>코로나,손소독,항균,소독</td>\n",
       "    </tr>\n",
       "    <tr>\n",
       "      <th>4</th>\n",
       "      <td>일상닥터 버블 손세정제 3종 핸드워시 리필용 200ml / 40개/Box</td>\n",
       "      <td>2,000</td>\n",
       "      <td>코로나,손소독,항균,소독</td>\n",
       "    </tr>\n",
       "  </tbody>\n",
       "</table>\n",
       "</div>"
      ],
      "text/plain": [
       "                                         Title   Price  \\\n",
       "0                                  싹독싹독 소독 물티슈   4,400   \n",
       "1                                         에어싹H  13,000   \n",
       "2       손소독제 소독스프레이 500ml / 20개/Box /일상닥터 살균나라   8,000   \n",
       "3  휴대용 손소독제 소독 스프레이 60ml / 40개/Box / 일상닥터 살균나라   4,000   \n",
       "4     일상닥터 버블 손세정제 3종 핸드워시 리필용 200ml / 40개/Box   2,000   \n",
       "\n",
       "                      Tags  \n",
       "0  코로나,손소독,항균,소독,싹독싹독소독물티슈  \n",
       "1            코로나,손소독,항균,소독  \n",
       "2            코로나,손소독,항균,소독  \n",
       "3            코로나,손소독,항균,소독  \n",
       "4            코로나,손소독,항균,소독  "
      ]
     },
     "execution_count": 9,
     "metadata": {},
     "output_type": "execute_result"
    }
   ],
   "source": [
    "import pandas as pd\n",
    "result_table = pd.DataFrame(result)\n",
    "result_table.columns = ['Title', 'Price', 'Tags']\n",
    "result_table.to_csv(\"maulo_items.csv\", encoding='ms949', index=None)\n",
    "result_table.head()"
   ]
  },
  {
   "cell_type": "markdown",
   "metadata": {},
   "source": [
    "# **Adopting the 'Coupang' item category**\n",
    "## **1 Read the Text file**"
   ]
  },
  {
   "cell_type": "code",
   "execution_count": 2,
   "metadata": {},
   "outputs": [
    {
     "data": {
      "text/plain": [
       "dict_keys(['패션(여성)', '패션(남성)', '스니커즈/슬립온', '뷰티', '출산/유아등', '식품', '주방', '생활용품', '홈인테리어', '가전/디지털', '스포츠/레저', '자동차용품', '도서/음반', '완구/취미', '문구/오피스', '반려용품', '헬스/건강'])"
      ]
     },
     "execution_count": 2,
     "metadata": {},
     "output_type": "execute_result"
    }
   ],
   "source": [
    "# Read the Data\n",
    "with open(\"./data/COUPANG_Category.txt\", \"r\") as f:\n",
    "    category_text = f.readlines()\n",
    "category_text = [_.strip()  for _ in category_text]\n",
    "result_dict = {}\n",
    "for _ in category_text:\n",
    "    if _.find(\">>\") != -1:\n",
    "        text_key = _\n",
    "        text_key = text_key.replace(\">\",\"\")\n",
    "        text_key = text_key.replace(\" \",\"\")\n",
    "        result_dict[text_key] = []\n",
    "    else:\n",
    "        if (len(_)>1) & (_ != \"열림\"):\n",
    "            result_dict[text_key].append(_)\n",
    "result_dict.keys()    "
   ]
  },
  {
   "cell_type": "code",
   "execution_count": 3,
   "metadata": {},
   "outputs": [],
   "source": [
    "# result_dict\n",
    "import pandas as pd\n",
    "item_category = pd.DataFrame(dict([ (k,pd.Series(v)) for k,v in result_dict.items() ])).fillna('')\n",
    "# item_category.T.to_csv('categoty.csv', index=None)\n",
    "item_category.to_csv('categoty.csv', index=None)"
   ]
  },
  {
   "cell_type": "code",
   "execution_count": null,
   "metadata": {},
   "outputs": [],
   "source": []
  },
  {
   "cell_type": "code",
   "execution_count": null,
   "metadata": {},
   "outputs": [],
   "source": []
  },
  {
   "cell_type": "code",
   "execution_count": null,
   "metadata": {},
   "outputs": [],
   "source": []
  },
  {
   "cell_type": "code",
   "execution_count": null,
   "metadata": {},
   "outputs": [],
   "source": []
  },
  {
   "cell_type": "code",
   "execution_count": null,
   "metadata": {},
   "outputs": [],
   "source": []
  }
 ],
 "metadata": {
  "kernelspec": {
   "display_name": "Python 3",
   "language": "python",
   "name": "python3"
  },
  "language_info": {
   "codemirror_mode": {
    "name": "ipython",
    "version": 3
   },
   "file_extension": ".py",
   "mimetype": "text/x-python",
   "name": "python",
   "nbconvert_exporter": "python",
   "pygments_lexer": "ipython3",
   "version": "3.6.9"
  }
 },
 "nbformat": 4,
 "nbformat_minor": 4
}
