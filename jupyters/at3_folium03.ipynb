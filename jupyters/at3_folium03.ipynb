{
 "cells": [
  {
   "cell_type": "markdown",
   "metadata": {},
   "source": [
    "# **Grouping based on Geo Data**\n",
    "37명 4개씩 상점 분할하기\n",
    "- **Total** : 151 개\n",
    "- 1 개의 상호가 2개의 점포를 소유중 **(1개로 포함하여 작업)**\n",
    "\n",
    "## **1 Loading the table**\n",
    "간단한 내용 수정하기"
   ]
  },
  {
   "cell_type": "code",
   "execution_count": 1,
   "metadata": {},
   "outputs": [
    {
     "data": {
      "text/html": [
       "<div>\n",
       "<style scoped>\n",
       "    .dataframe tbody tr th:only-of-type {\n",
       "        vertical-align: middle;\n",
       "    }\n",
       "\n",
       "    .dataframe tbody tr th {\n",
       "        vertical-align: top;\n",
       "    }\n",
       "\n",
       "    .dataframe thead th {\n",
       "        text-align: right;\n",
       "    }\n",
       "</style>\n",
       "<table border=\"1\" class=\"dataframe\">\n",
       "  <thead>\n",
       "    <tr style=\"text-align: right;\">\n",
       "      <th></th>\n",
       "      <th>name</th>\n",
       "      <th>lon</th>\n",
       "      <th>lat</th>\n",
       "      <th>type</th>\n",
       "      <th>category</th>\n",
       "      <th>label</th>\n",
       "      <th>주소</th>\n",
       "      <th>address</th>\n",
       "      <th>addressroad</th>\n",
       "    </tr>\n",
       "  </thead>\n",
       "  <tbody>\n",
       "    <tr>\n",
       "      <th>0</th>\n",
       "      <td>모든홍삼</td>\n",
       "      <td>126.938397</td>\n",
       "      <td>37.485887</td>\n",
       "      <td>기타판매</td>\n",
       "      <td>itemsales</td>\n",
       "      <td>7</td>\n",
       "      <td>은천로 28, 봉일프라자 나-120</td>\n",
       "      <td>서울특별시 관악구 은천로 28 봉일프라자</td>\n",
       "      <td>서울특별시 관악구 봉천동 951-25 봉일프라자</td>\n",
       "    </tr>\n",
       "    <tr>\n",
       "      <th>1</th>\n",
       "      <td>종로떡집</td>\n",
       "      <td>126.939588</td>\n",
       "      <td>37.487197</td>\n",
       "      <td>떡집</td>\n",
       "      <td>food</td>\n",
       "      <td>26</td>\n",
       "      <td>국회단지길 21</td>\n",
       "      <td>서울특별시 관악구 국회단지길 21</td>\n",
       "      <td>서울특별시 관악구 봉천동 636-110</td>\n",
       "    </tr>\n",
       "  </tbody>\n",
       "</table>\n",
       "</div>"
      ],
      "text/plain": [
       "   name         lon        lat  type   category  label                   주소  \\\n",
       "0  모든홍삼  126.938397  37.485887  기타판매  itemsales      7  은천로 28, 봉일프라자 나-120   \n",
       "1  종로떡집  126.939588  37.487197    떡집       food     26             국회단지길 21   \n",
       "\n",
       "                  address                 addressroad  \n",
       "0  서울특별시 관악구 은천로 28 봉일프라자  서울특별시 관악구 봉천동 951-25 봉일프라자  \n",
       "1      서울특별시 관악구 국회단지길 21       서울특별시 관악구 봉천동 636-110  "
      ]
     },
     "execution_count": 1,
     "metadata": {},
     "output_type": "execute_result"
    }
   ],
   "source": [
    "import pandas as pd\n",
    "file_name1 = \"./data/ourtown_store_geo3.csv\"\n",
    "file_name2 = \"./data/ourtown_store_geo2.csv\"\n",
    "table = pd.read_csv(file_name1).loc[:,['name', 'lon', 'lat','type','category','label']]\n",
    "table = table.join(pd.read_csv(file_name2).loc[:,[\"주소\",\"address\",\"addressroad\"]])\n",
    "table.head(2)"
   ]
  },
  {
   "cell_type": "markdown",
   "metadata": {},
   "source": [
    "## **2 Checking the Duplicated Values**\n",
    "동일한 주소값 필터링 (Marker 에서 중복내용 미확인으로 인한 오류방지)\n",
    "```\n",
    "%whos | grep DataFrame\n",
    "```"
   ]
  },
  {
   "cell_type": "code",
   "execution_count": 2,
   "metadata": {},
   "outputs": [
    {
     "data": {
      "text/plain": [
       "(11,\n",
       " 125,\n",
       " {'서울특별시 관악구 남부순환로214길 29': '2',\n",
       "  '서울특별시 관악구 난곡로24길 6': '3',\n",
       "  '서울특별시 관악구 봉천로 465': '2',\n",
       "  '서울특별시 관악구 난향길 14': '4',\n",
       "  '서울특별시 관악구 난향길 12': '2',\n",
       "  '서울특별시 관악구 난곡로26길 7': '2',\n",
       "  '서울특별시 관악구 난곡로24길 29': '3',\n",
       "  '서울특별시 관악구 신림로65길 31': '2',\n",
       "  '서울특별시 관악구 신림로11길 20': '2',\n",
       "  '서울특별시 관악구 대학5길 21': '2',\n",
       "  '서울특별시 관악구 호암로22길 69 신국고시원': '2'})"
      ]
     },
     "execution_count": 2,
     "metadata": {},
     "output_type": "execute_result"
    }
   ],
   "source": [
    "# Duplicated Address FilteringS\n",
    "from collections import Counter\n",
    "_count_address = dict(Counter([_ for _ in table['address']]))\n",
    "_count_address = {k:str(v) for k, v in _count_address.items() if v != 1}\n",
    "_single_address = [_ for _ in table['address'] if _ not in list(_count_address.keys())]\n",
    "len(_count_address), len(_single_address), _count_address"
   ]
  },
  {
   "cell_type": "code",
   "execution_count": 3,
   "metadata": {},
   "outputs": [
    {
     "data": {
      "text/html": [
       "<div>\n",
       "<style scoped>\n",
       "    .dataframe tbody tr th:only-of-type {\n",
       "        vertical-align: middle;\n",
       "    }\n",
       "\n",
       "    .dataframe tbody tr th {\n",
       "        vertical-align: top;\n",
       "    }\n",
       "\n",
       "    .dataframe thead th {\n",
       "        text-align: right;\n",
       "    }\n",
       "</style>\n",
       "<table border=\"1\" class=\"dataframe\">\n",
       "  <thead>\n",
       "    <tr style=\"text-align: right;\">\n",
       "      <th></th>\n",
       "      <th>lon</th>\n",
       "      <th>lat</th>\n",
       "      <th>address</th>\n",
       "    </tr>\n",
       "  </thead>\n",
       "  <tbody>\n",
       "    <tr>\n",
       "      <th>134</th>\n",
       "      <td>126.965957</td>\n",
       "      <td>37.476538</td>\n",
       "      <td>서울특별시 관악구 남부순환로247길 3</td>\n",
       "    </tr>\n",
       "    <tr>\n",
       "      <th>135</th>\n",
       "      <td>126.921094</td>\n",
       "      <td>37.468968</td>\n",
       "      <td>서울특별시 관악구 난곡로24길 32</td>\n",
       "    </tr>\n",
       "  </tbody>\n",
       "</table>\n",
       "</div>"
      ],
      "text/plain": [
       "            lon        lat                address\n",
       "134  126.965957  37.476538  서울특별시 관악구 남부순환로247길 3\n",
       "135  126.921094  37.468968    서울특별시 관악구 난곡로24길 32"
      ]
     },
     "execution_count": 3,
     "metadata": {},
     "output_type": "execute_result"
    }
   ],
   "source": [
    "# New Building the Counting Table\n",
    "_set_address = list(_count_address.keys()) + _single_address\n",
    "def filter_table(table, address):\n",
    "    \"\"\"address 를 기준으로 DataFrame Filtering 함수\"\"\"\n",
    "    _count_df = [table[table['address']==_].iloc[0,:].to_list()  for _ in address]\n",
    "    _count_df = pd.DataFrame(_count_df)\n",
    "    _count_df.columns = table.columns\n",
    "    _count_df = _count_df.loc[:,[\"lon\",\"lat\",\"address\"]]\n",
    "    return _count_df\n",
    "_count_df = filter_table(table, _set_address)\n",
    "_count_df.tail(2)"
   ]
  },
  {
   "cell_type": "code",
   "execution_count": 4,
   "metadata": {},
   "outputs": [
    {
     "data": {
      "text/html": [
       "<div>\n",
       "<style scoped>\n",
       "    .dataframe tbody tr th:only-of-type {\n",
       "        vertical-align: middle;\n",
       "    }\n",
       "\n",
       "    .dataframe tbody tr th {\n",
       "        vertical-align: top;\n",
       "    }\n",
       "\n",
       "    .dataframe thead th {\n",
       "        text-align: right;\n",
       "    }\n",
       "</style>\n",
       "<table border=\"1\" class=\"dataframe\">\n",
       "  <thead>\n",
       "    <tr style=\"text-align: right;\">\n",
       "      <th></th>\n",
       "      <th>count</th>\n",
       "      <th>lon</th>\n",
       "      <th>lat</th>\n",
       "      <th>address</th>\n",
       "    </tr>\n",
       "  </thead>\n",
       "  <tbody>\n",
       "    <tr>\n",
       "      <th>134</th>\n",
       "      <td>1</td>\n",
       "      <td>126.965957</td>\n",
       "      <td>37.476538</td>\n",
       "      <td>서울특별시 관악구 남부순환로247길 3</td>\n",
       "    </tr>\n",
       "    <tr>\n",
       "      <th>135</th>\n",
       "      <td>1</td>\n",
       "      <td>126.921094</td>\n",
       "      <td>37.468968</td>\n",
       "      <td>서울특별시 관악구 난곡로24길 32</td>\n",
       "    </tr>\n",
       "  </tbody>\n",
       "</table>\n",
       "</div>"
      ],
      "text/plain": [
       "    count         lon        lat                address\n",
       "134     1  126.965957  37.476538  서울특별시 관악구 남부순환로247길 3\n",
       "135     1  126.921094  37.468968    서울특별시 관악구 난곡로24길 32"
      ]
     },
     "execution_count": 4,
     "metadata": {},
     "output_type": "execute_result"
    }
   ],
   "source": [
    "# Adding the Counting Table\n",
    "_count_list = []\n",
    "for _ in _count_df['address']:\n",
    "    if _ in list(_count_address.keys()):\n",
    "        _count_list.append(_count_address[_])\n",
    "    else: _count_list.append(\"1\")\n",
    "        \n",
    "_count_df.insert(0,'count', _count_list)\n",
    "_count_df.tail(2)"
   ]
  },
  {
   "cell_type": "markdown",
   "metadata": {},
   "source": [
    "## **3 Adding the Index & Addresses**\n",
    "데이터 위치별 중복되는 상호명 갯수 Popup 으로 표시하기"
   ]
  },
  {
   "cell_type": "code",
   "execution_count": 5,
   "metadata": {},
   "outputs": [
    {
     "data": {
      "text/html": [
       "<div>\n",
       "<style scoped>\n",
       "    .dataframe tbody tr th:only-of-type {\n",
       "        vertical-align: middle;\n",
       "    }\n",
       "\n",
       "    .dataframe tbody tr th {\n",
       "        vertical-align: top;\n",
       "    }\n",
       "\n",
       "    .dataframe thead th {\n",
       "        text-align: right;\n",
       "    }\n",
       "</style>\n",
       "<table border=\"1\" class=\"dataframe\">\n",
       "  <thead>\n",
       "    <tr style=\"text-align: right;\">\n",
       "      <th></th>\n",
       "      <th>count</th>\n",
       "      <th>lon</th>\n",
       "      <th>lat</th>\n",
       "      <th>address</th>\n",
       "      <th>names</th>\n",
       "    </tr>\n",
       "  </thead>\n",
       "  <tbody>\n",
       "    <tr>\n",
       "      <th>134</th>\n",
       "      <td>1</td>\n",
       "      <td>126.965957</td>\n",
       "      <td>37.476538</td>\n",
       "      <td>서울특별시 관악구 남부순환로247길 3</td>\n",
       "      <td>[146 : 마노아김밥]</td>\n",
       "    </tr>\n",
       "    <tr>\n",
       "      <th>135</th>\n",
       "      <td>1</td>\n",
       "      <td>126.921094</td>\n",
       "      <td>37.468968</td>\n",
       "      <td>서울특별시 관악구 난곡로24길 32</td>\n",
       "      <td>[150 : 컴플러스 컴퓨터]</td>\n",
       "    </tr>\n",
       "  </tbody>\n",
       "</table>\n",
       "</div>"
      ],
      "text/plain": [
       "    count         lon        lat                address             names\n",
       "134     1  126.965957  37.476538  서울특별시 관악구 남부순환로247길 3     [146 : 마노아김밥]\n",
       "135     1  126.921094  37.468968    서울특별시 관악구 난곡로24길 32  [150 : 컴플러스 컴퓨터]"
      ]
     },
     "execution_count": 5,
     "metadata": {},
     "output_type": "execute_result"
    }
   ],
   "source": [
    "result = {}\n",
    "for _ in range(len(table)):\n",
    "    _df     = table.iloc[_,:]\n",
    "    name    = f\"{_} : {_df['name']}\"\n",
    "    address = _df['address']\n",
    "    if address not in list(result.keys()): result[address] = [name]\n",
    "    else: result[address].append(name)\n",
    "result = [result[_]  for _ in _count_df['address']]\n",
    "_count_df.insert(4, 'names', result)\n",
    "_count_df.tail(2)"
   ]
  },
  {
   "cell_type": "markdown",
   "metadata": {},
   "source": [
    "<br />\n",
    "\n",
    "# **Folium Map**\n",
    "**[Folium Tutorial](https://python-visualization.github.io/folium/quickstart.html#Markers)**\n",
    "\n",
    "## **1 Visualization**\n",
    "Function building"
   ]
  },
  {
   "cell_type": "code",
   "execution_count": 6,
   "metadata": {},
   "outputs": [],
   "source": [
    "import folium\n",
    "from folium import plugins\n",
    "def folium_map(table, title='name', tooltip=\"name\"):\n",
    "    # 'white', 'beige', \n",
    "    color_map = ['gray','red', 'purple', 'lightred',  'black',  'green', 'pink', 'darkblue','lightgray', \n",
    "        'blue', 'darkgreen', 'lightblue', 'darkpurple', 'darkred', 'lightgreen', 'orange', 'cadetblue'] * 10\n",
    "    color_map = {_:color_map[no]  for no, _ in enumerate(sorted(set(table[title].to_list())))}\n",
    "    table = table.reset_index(drop=True)\n",
    "    _map = folium.Map(  # tiles = 'Stamen Watercolor',\n",
    "        [table['lat'].mean(), table['lon'].mean()], zoom_start = 14)\n",
    "    for _ in range(len(table)):\n",
    "        color = color_map[table.loc[_,title]]\n",
    "        icon_style = plugins.BeautifyIcon(\n",
    "            number = str(table.loc[_,title]),\n",
    "            icon_shape = \"marker\", inner_icon_style = 'margin=top:0;',\n",
    "            border_color = color, text_color = color, border_width=2,\n",
    "        )\n",
    "        folium.Marker([table.loc[_,'lat'], table.loc[_,'lon']], # opacity = 0.3,\n",
    "            tooltip = table.loc[_,tooltip], icon = icon_style).add_to(_map)\n",
    "    return _map\n",
    "\n",
    "# _map = folium_map(_count_df, title='count', tooltip='names')\n",
    "# _map.save('./Web/test_duplicate.html')"
   ]
  },
  {
   "cell_type": "markdown",
   "metadata": {},
   "source": [
    "<br />\n",
    "\n",
    "# **Classification The Marker DataSet**\n",
    "앞에서 작업했던 내용을 바탕으로 Marking 작업 실시\n",
    "## **1 Marking the Number**\n",
    "Function building"
   ]
  },
  {
   "cell_type": "code",
   "execution_count": 7,
   "metadata": {},
   "outputs": [],
   "source": [
    "label_index = [\n",
    "    # <<< part 1 >>>\n",
    "    # 난향동, 난곡동 지역분할\n",
    "    [70,81,84,86], [83,95,85,49], # 난향동 9개 분할\n",
    "    [82,101,104,147],             # 난향동(82) 1개, 난곡동 집중 3개\n",
    "    [36,51,100,103], [88,89,94,99], [87,93,96,150], # 난곡동 18개 분할\n",
    "    [91,97,98,105], [45,90,92,102],\n",
    "    \n",
    "    # 녹두거리 분할하기 \n",
    "    [125, 122, 128, 143], [39, 79, 31, 43, 44], #(44번 스터디 카페 제외)\n",
    "    [72, 133, 53, 144], [69, 121, 141, 127], [124, 129, 130, 136],\n",
    "    \n",
    "    #<<< part 2 >>>\n",
    "    # 녹두거리 분할하기 2\n",
    "    [123, 132, 126, 137], [76, 138, 134, 142], [139, 131, 135, 140],\n",
    "    \n",
    "    # 신림로 중앙 넓은지역 4개\n",
    "    [10,16,17,73], \n",
    "    \n",
    "    # 신림동 뒷골목 분할\n",
    "    [116,148, 14,57], # 5개 지역 : 겹치는 장소 1곳 + 주변장소\n",
    "    [67, 114, 50, 56], [30,32,62,110], [112,115,117,59],\n",
    "    \n",
    "    # 국회단지길 주변\n",
    "    [0,1,2,24,26],  # 5개 지역 (인근지역)\n",
    "    [3,21,22,23],   \n",
    "    \n",
    "    #<<< part 3 >>>\n",
    "    # 서울대 입구역 주변\n",
    "    [19,46,113,149,109],    \n",
    "\n",
    "    # 사당역에서 이어지는 동쪽 끝 지역\n",
    "    [80, 118, 65, 66],  \n",
    "    [13, 40, 146, 33], [38, 35, 27, 106], [71, 145, 120, 52], \n",
    "    \n",
    "    # 봉천사거리 서쪽지역\n",
    "    [8, 12, 37, 119], [111, 48, 11, 64], [41,25,78,28], [4,29,47,58],\n",
    "    [77, 42, 60, 15], [54, 34, 61, 20], [5, 6, 7, 75], \n",
    "\n",
    "    # 남부순환로 가게들 주변\n",
    "    [9,18,74,108], [55,63,68,107],\n",
    "]"
   ]
  },
  {
   "cell_type": "code",
   "execution_count": 8,
   "metadata": {},
   "outputs": [
    {
     "name": "stdout",
     "output_type": "stream",
     "text": [
      "0 37\n"
     ]
    },
    {
     "data": {
      "text/plain": [
       "Counter()"
      ]
     },
     "execution_count": 8,
     "metadata": {},
     "output_type": "execute_result"
    }
   ],
   "source": [
    "_temp = []\n",
    "for _ in label_index:\n",
    "    _temp += _ \n",
    "rest_index = [_ for _ in range(151)  if _ not in _temp]\n",
    "print(len(rest_index), len(label_index)) #, rest_index\n",
    "Counter(table.iloc[rest_index,:]['address'])"
   ]
  },
  {
   "cell_type": "code",
   "execution_count": 9,
   "metadata": {},
   "outputs": [
    {
     "name": "stdout",
     "output_type": "stream",
     "text": [
      "Unique Dataset validation check passed!\n"
     ]
    }
   ],
   "source": [
    "# Unique Validation Check\n",
    "from collections import Counter\n",
    "_result = []\n",
    "for _ in label_index:\n",
    "    _result += _\n",
    "_result = [f\"{k} : {v}\"  for k,v in dict(Counter(_result)).items() if v != 1]\n",
    "if len(_result) > 0: print(\", \".join(_result))\n",
    "else: print(\"Unique Dataset validation check passed!\")"
   ]
  },
  {
   "cell_type": "markdown",
   "metadata": {},
   "source": [
    "## **2 Filtering The Numbers**\n",
    "table_marker : DataFrame "
   ]
  },
  {
   "cell_type": "code",
   "execution_count": 10,
   "metadata": {},
   "outputs": [
    {
     "data": {
      "text/plain": [
       "True"
      ]
     },
     "execution_count": 10,
     "metadata": {},
     "output_type": "execute_result"
    }
   ],
   "source": [
    "# Marking \"Orginal Table Index : Count Table Index\"\n",
    "_result, _result_temp = {}, {}\n",
    "for index_number, _list in enumerate(_count_df['names'].to_list()):\n",
    "    _result_temp[str(index_number)] = []\n",
    "    for _ in _list: # split count table numbers\n",
    "        number = _.split(\":\")[0].strip()\n",
    "        _result_temp[str(index_number)].append(number)\n",
    "for count_index, table_index in _result_temp.items():\n",
    "    for _ in table_index: \n",
    "        if _ not in _result.keys(): _result[_] = count_index\n",
    "count_table_index = _result\n",
    "len(count_table_index) == len(table)"
   ]
  },
  {
   "cell_type": "code",
   "execution_count": 11,
   "metadata": {},
   "outputs": [
    {
     "data": {
      "text/plain": [
       "'c22:5개, c24:5개, c10:5개'"
      ]
     },
     "execution_count": 11,
     "metadata": {},
     "output_type": "execute_result"
    }
   ],
   "source": [
    "# building the Marking Number\n",
    "from collections import Counter\n",
    "table_marker = table.loc[:, [\"name\",\"lon\",\"lat\",\"type\",\"category\",\"label\",\"주소\",\"address\"]]\n",
    "for no, _list in enumerate(label_index):\n",
    "    for _ in _list:\n",
    "        table_marker.loc[_,'label'] = f\"c{no+1}\"\n",
    "table_marker['label'] = list(map(lambda x : str(x), table_marker['label']))\n",
    "_temp_values = [count_table_index[str(_)] for _ in range(len(table_marker))]\n",
    "table_marker.insert(6, 'index_countable', _temp_values)\n",
    "count_dict = dict(Counter([_ for _ in table_marker['label'] if str(_).find(\"c\") != -1]))\n",
    "\", \".join([f\"{k}:{v}개\" for k,v in count_dict.items()  if v!=4])"
   ]
  },
  {
   "cell_type": "markdown",
   "metadata": {},
   "source": [
    "## **3 Marking the Map**\n",
    "분류 작업이 종료된 내용 필터링"
   ]
  },
  {
   "cell_type": "code",
   "execution_count": 12,
   "metadata": {},
   "outputs": [
    {
     "data": {
      "text/html": [
       "<div>\n",
       "<style scoped>\n",
       "    .dataframe tbody tr th:only-of-type {\n",
       "        vertical-align: middle;\n",
       "    }\n",
       "\n",
       "    .dataframe tbody tr th {\n",
       "        vertical-align: top;\n",
       "    }\n",
       "\n",
       "    .dataframe thead th {\n",
       "        text-align: right;\n",
       "    }\n",
       "</style>\n",
       "<table border=\"1\" class=\"dataframe\">\n",
       "  <thead>\n",
       "    <tr style=\"text-align: right;\">\n",
       "      <th></th>\n",
       "      <th>name</th>\n",
       "      <th>lon</th>\n",
       "      <th>lat</th>\n",
       "      <th>type</th>\n",
       "      <th>category</th>\n",
       "      <th>label</th>\n",
       "      <th>index_countable</th>\n",
       "      <th>주소</th>\n",
       "      <th>address</th>\n",
       "    </tr>\n",
       "  </thead>\n",
       "  <tbody>\n",
       "    <tr>\n",
       "      <th>0</th>\n",
       "      <td>모든홍삼</td>\n",
       "      <td>126.938397</td>\n",
       "      <td>37.485887</td>\n",
       "      <td>기타판매</td>\n",
       "      <td>itemsales</td>\n",
       "      <td>c22</td>\n",
       "      <td>11</td>\n",
       "      <td>은천로 28, 봉일프라자 나-120</td>\n",
       "      <td>서울특별시 관악구 은천로 28 봉일프라자</td>\n",
       "    </tr>\n",
       "    <tr>\n",
       "      <th>1</th>\n",
       "      <td>종로떡집</td>\n",
       "      <td>126.939588</td>\n",
       "      <td>37.487197</td>\n",
       "      <td>떡집</td>\n",
       "      <td>food</td>\n",
       "      <td>c22</td>\n",
       "      <td>12</td>\n",
       "      <td>국회단지길 21</td>\n",
       "      <td>서울특별시 관악구 국회단지길 21</td>\n",
       "    </tr>\n",
       "  </tbody>\n",
       "</table>\n",
       "</div>"
      ],
      "text/plain": [
       "   name         lon        lat  type   category label index_countable  \\\n",
       "0  모든홍삼  126.938397  37.485887  기타판매  itemsales   c22              11   \n",
       "1  종로떡집  126.939588  37.487197    떡집       food   c22              12   \n",
       "\n",
       "                    주소                 address  \n",
       "0  은천로 28, 봉일프라자 나-120  서울특별시 관악구 은천로 28 봉일프라자  \n",
       "1             국회단지길 21      서울특별시 관악구 국회단지길 21  "
      ]
     },
     "execution_count": 12,
     "metadata": {},
     "output_type": "execute_result"
    }
   ],
   "source": [
    "table_marker.head(2)"
   ]
  },
  {
   "cell_type": "code",
   "execution_count": 13,
   "metadata": {},
   "outputs": [],
   "source": [
    "import folium\n",
    "from folium import plugins\n",
    "def folium_map(table, title='label', tooltip=\"name\", opacity=0.3):\n",
    "    # 'white', 'beige', 'pink', 'lightgray','lightgreen', 'lightblue','lightred',  \n",
    "    # color_map = ['gray','red', 'purple', 'lightred',  'black',  'green',  'darkblue', \n",
    "    #    'blue', 'darkgreen',  'darkpurple', 'darkred', 'orange', 'cadetblue'] * 10\n",
    "    color_map = ['red', 'blue', 'purple', 'orange', 'green', 'black'] * 10\n",
    "    color_map = {_:color_map[no]  for no, _ in enumerate(sorted(set(table[title].to_list())))}\n",
    "    table = table.reset_index(drop=True)\n",
    "    _map = folium.Map(  # tiles = 'Stamen Watercolor',\n",
    "        [table['lat'].mean(), table['lon'].mean()], zoom_start = 14)\n",
    "    for _ in range(len(table)):\n",
    "        if _ != 44: # 중복기재로 인한 제외 인덱스 데이터 \n",
    "            color = color_map[table.loc[_,title]]\n",
    "            title_name = str(_) + \",\" + str(table.loc[_,title])\n",
    "            # Label 에서 \"c\" 가 붙었는지 내용 확인하기\n",
    "            if title_name.find('c') != -1:\n",
    "                title_name    = title_name.split(\",\")[-1]\n",
    "                opacity_value = opacity  # 이미 분류작업이 끝난경우\n",
    "            else: \n",
    "                title_name    = title_name.split(\",\")[0]\n",
    "                opacity_value = 1\n",
    "            icon_style = plugins.BeautifyIcon(\n",
    "                number = title_name,\n",
    "                icon_shape = \"marker\", inner_icon_style = 'margin-top:0;',\n",
    "                border_color = color, text_color = color, border_width=2,\n",
    "            )\n",
    "            folium.Marker([table.loc[_,'lat'], table.loc[_,'lon']], opacity = opacity_value,\n",
    "                tooltip = str(_)+\":\"+table.loc[_,tooltip]+\":\"+table.loc[_,'category'],\n",
    "                icon = icon_style).add_to(_map)\n",
    "    return _map\n",
    "\n",
    "_map = folium_map(table_marker, title='label', tooltip='name', opacity=1)\n",
    "_map.save('web/test.html')"
   ]
  },
  {
   "cell_type": "markdown",
   "metadata": {},
   "source": [
    "<br />\n",
    "\n",
    "# **Finished the Job**\n",
    "작업한 내용 정리하기\n",
    "\n",
    "## **1 Building the DataFrame Table**\n",
    "Function building"
   ]
  },
  {
   "cell_type": "code",
   "execution_count": 14,
   "metadata": {},
   "outputs": [],
   "source": [
    "part_index = {\n",
    "    \"1th\" : [ # Green Area\n",
    "        # <<< part 1 >>>\n",
    "        # 난향동, 난곡동 지역분할\n",
    "        [70,81,84,86], [83,95,85,49], # 난향동 9개 분할\n",
    "        [82,101,104,147],             # 난향동(82) 1개, 난곡동 집중 3개\n",
    "        [36,51,100,103], [88,89,94,99], [87,93,96,150], # 난곡동 18개 분할\n",
    "        [91,97,98,105], [45,90,92,102],\n",
    "\n",
    "        # 녹두거리 분할하기 \n",
    "        [125, 122, 128, 143], [39, 79, 31, 43, 44], #(44번 스터디 카페 제외)\n",
    "        [72, 133, 53, 144], [69, 121, 141, 127], [124, 129, 130, 136],        \n",
    "    ],\n",
    "    \"2th\" : [\n",
    "        #<<< part 2 >>>\n",
    "        # 녹두거리 분할하기 2\n",
    "        [123, 132, 126, 137], [76, 138, 134, 142], [139, 131, 135, 140],\n",
    "\n",
    "        # 신림로 중앙 넓은지역 4개\n",
    "        [10,16,17,73], \n",
    "        \n",
    "        # 국회단지길 북쪽지역\n",
    "        [0,1,2,24,26],  # 5개 지역 (인근지역)\n",
    "\n",
    "        # 신림동 뒷골목 분할\n",
    "        [116,148, 14,57],\n",
    "        [67, 114, 50, 56], [30,32,62,110], [112,115,117,59],[71, 145, 120, 52],\n",
    "        [77, 42, 60, 15], [54, 34, 61, 20],\n",
    "    ],\n",
    "    \"3th\" : [ # Blue Area\n",
    "        # 봉천사거리 서쪽지역\n",
    "        [8, 12, 37, 119], [111, 48, 11, 64], [41,25,78,28], [4,29,47,58],\n",
    "\n",
    "        \n",
    "        #<<< part 3 >>>\n",
    "        # 사당역에서 이어지는 동쪽 끝 지역\n",
    "        [80, 118, 65, 66],  \n",
    "        [13, 40, 146, 33], [38, 35, 27, 106], \n",
    "\n",
    "        # 국회단지길 북쪽지역\n",
    "        [3,21,22,23], [5, 6, 7, 75], \n",
    "        \n",
    "        # 서울대 입구역 주변\n",
    "        [19,46,113,149,109], # 5개 지역\n",
    "\n",
    "        # 남부순환로 가게들 주변\n",
    "        [9,18,74,108], [55,63,68,107],        \n",
    "    ],\n",
    "}"
   ]
  },
  {
   "cell_type": "code",
   "execution_count": 15,
   "metadata": {},
   "outputs": [
    {
     "name": "stdout",
     "output_type": "stream",
     "text": [
      "1th : 53\n",
      "2th : 49\n",
      "3th : 49\n"
     ]
    },
    {
     "data": {
      "text/html": [
       "<div>\n",
       "<style scoped>\n",
       "    .dataframe tbody tr th:only-of-type {\n",
       "        vertical-align: middle;\n",
       "    }\n",
       "\n",
       "    .dataframe tbody tr th {\n",
       "        vertical-align: top;\n",
       "    }\n",
       "\n",
       "    .dataframe thead th {\n",
       "        text-align: right;\n",
       "    }\n",
       "</style>\n",
       "<table border=\"1\" class=\"dataframe\">\n",
       "  <thead>\n",
       "    <tr style=\"text-align: right;\">\n",
       "      <th></th>\n",
       "      <th>index</th>\n",
       "      <th>observer</th>\n",
       "      <th>label</th>\n",
       "      <th>name</th>\n",
       "      <th>lat</th>\n",
       "      <th>lon</th>\n",
       "      <th>주소</th>\n",
       "      <th>address</th>\n",
       "      <th>type</th>\n",
       "      <th>category</th>\n",
       "    </tr>\n",
       "  </thead>\n",
       "  <tbody>\n",
       "    <tr>\n",
       "      <th>0</th>\n",
       "      <td>70</td>\n",
       "      <td>1th</td>\n",
       "      <td>01</td>\n",
       "      <td>카페비온</td>\n",
       "      <td>37.462847</td>\n",
       "      <td>126.917727</td>\n",
       "      <td>난향길 24</td>\n",
       "      <td>서울특별시 관악구 난향길 24 현경빌딩</td>\n",
       "      <td>카페</td>\n",
       "      <td>food</td>\n",
       "    </tr>\n",
       "    <tr>\n",
       "      <th>1</th>\n",
       "      <td>81</td>\n",
       "      <td>1th</td>\n",
       "      <td>01</td>\n",
       "      <td>김현애보습학원</td>\n",
       "      <td>37.462919</td>\n",
       "      <td>126.918079</td>\n",
       "      <td>난향길 14, 2층</td>\n",
       "      <td>서울특별시 관악구 난향길 14</td>\n",
       "      <td>학원</td>\n",
       "      <td>bizspace</td>\n",
       "    </tr>\n",
       "  </tbody>\n",
       "</table>\n",
       "</div>"
      ],
      "text/plain": [
       "   index observer label     name        lat         lon          주소  \\\n",
       "0     70      1th    01     카페비온  37.462847  126.917727      난향길 24   \n",
       "1     81      1th    01  김현애보습학원  37.462919  126.918079  난향길 14, 2층   \n",
       "\n",
       "                 address type  category  \n",
       "0  서울특별시 관악구 난향길 24 현경빌딩   카페      food  \n",
       "1       서울특별시 관악구 난향길 14   학원  bizspace  "
      ]
     },
     "execution_count": 15,
     "metadata": {},
     "output_type": "execute_result"
    }
   ],
   "source": [
    "_result = {}\n",
    "for _ in part_index.keys():\n",
    "    _result[_] = []\n",
    "    for _list in part_index[_]:\n",
    "        _result[_] += _list\n",
    "    counts = len(_result[_])\n",
    "    print(f\"{_} : {counts}\")\n",
    "\n",
    "# 기존 테이블에 관리자 번호 추가하기\n",
    "table_marker['observer'] = table_marker['label']\n",
    "for _oberver in _result.keys():\n",
    "    for _index in _result[_oberver]:\n",
    "        table_marker.loc[_index, 'observer'] = _oberver\n",
    "\n",
    "# 관리자 및 label 추가한 내용으로 새롭게 테이블 정리하기\n",
    "table_marker_fin = table_marker.loc[:, \n",
    "    [\"observer\", \"label\",\"name\", \"lat\", \"lon\", '주소', \n",
    "     'address',  'type', 'category']].reset_index()\n",
    "\n",
    "_numbers = list(map(lambda x: int(x[1:]) ,table_marker_fin['label']))\n",
    "table_marker_fin['label'] = [f\"{_:02}\" for _ in _numbers]\n",
    "table_marker_fin = table_marker_fin.sort_values(['observer', 'label']).reset_index(drop=True)\n",
    "table_marker_fin = table_marker_fin.drop([39]).reset_index(drop=True)\n",
    "# table_marker_fin.to_csv(\"./data/ourtown_store_geo_fin.csv\", index=None)\n",
    "table_marker_fin.head(2)"
   ]
  },
  {
   "cell_type": "markdown",
   "metadata": {},
   "source": [
    "## **2 Marking the Map**\n",
    "분류 작업이 종료된 내용 필터링"
   ]
  },
  {
   "cell_type": "code",
   "execution_count": 16,
   "metadata": {},
   "outputs": [],
   "source": [
    "import folium\n",
    "from folium import plugins\n",
    "def folium_map(table, title='label', tooltip=\"name\", opacity=0.3):\n",
    "    # 'white', 'beige', 'pink', 'lightgray','lightgreen', 'lightblue','lightred',  \n",
    "    # color_map = ['gray','red', 'purple', 'lightred',  'black',  ,  'darkblue', \n",
    "    #    'blue', 'darkgreen',  'darkpurple', 'darkred', 'orange', 'cadetblue'] * 10\n",
    "    color_map = ['red', 'blue', 'purple', 'orange', 'green', 'black', 'green'] * 30\n",
    "    color_map = {_:color_map[no]  for no, _ in enumerate(sorted(set(table[title].to_list())))}\n",
    "    color_observer_map = {\"1th\":\"darkblue\", \"2th\":\"orange\", \"3th\":\"darkred\"}\n",
    "    table = table.reset_index(drop=True)\n",
    "    _map = folium.Map(  # tiles = 'Stamen Watercolor',\n",
    "        [table['lat'].mean(), table['lon'].mean()], zoom_start = 14)\n",
    "    for _ in range(len(table)):\n",
    "        if _ != 44: # 중복기재로 인한 제외 인덱스 데이터 \n",
    "            color = color_map[table.loc[_,title]]\n",
    "            color_border = color_observer_map[table.loc[_, \"observer\"]] \n",
    "            title_name = str(_) + \",\" + str(table.loc[_,title])\n",
    "            if title_name.find('c') != -1:  # Label 에서 \"c\" 가 붙어있는 경우\n",
    "                title_name    = title_name.split(\",\")[-1]\n",
    "                opacity_value = opacity     # 이미 분류작업이 끝난경우\n",
    "            else:  # Label\n",
    "                title_name    = title_name.split(\",\")[0]\n",
    "                opacity_value = 1\n",
    "            icon_style = plugins.BeautifyIcon(\n",
    "                number = table.loc[_,title], # str(table.loc[_,'index']),\n",
    "                icon_shape = \"marker\", inner_icon_style = 'margin=top:1;',\n",
    "                border_color = color_border, text_color = color, border_width=2,\n",
    "            )\n",
    "            folium.Marker([table.loc[_,'lat'], table.loc[_,'lon']], opacity = opacity_value,\n",
    "                tooltip = str(_)+\":\"+table.loc[_,tooltip]+\":\"+table.loc[_,'category'],\n",
    "                icon = icon_style).add_to(_map)\n",
    "    return _map\n",
    "\n",
    "_map = folium_map(table_marker_fin, title='label', tooltip='name', opacity=0.2)\n",
    "# _map.save('./Web/gkart_v1.html')"
   ]
  },
  {
   "cell_type": "markdown",
   "metadata": {},
   "source": [
    "## **2 Fixing and Saving The Table**\n",
    "테이블 내용 확인"
   ]
  },
  {
   "cell_type": "code",
   "execution_count": 17,
   "metadata": {},
   "outputs": [],
   "source": [
    "# folium_map(table_marker_fin[table_marker_fin['observer'] == \"2th\"],\n",
    "# title='label', tooltip='name', opacity=1)"
   ]
  },
  {
   "cell_type": "code",
   "execution_count": 18,
   "metadata": {},
   "outputs": [
    {
     "data": {
      "text/html": [
       "<div>\n",
       "<style scoped>\n",
       "    .dataframe tbody tr th:only-of-type {\n",
       "        vertical-align: middle;\n",
       "    }\n",
       "\n",
       "    .dataframe tbody tr th {\n",
       "        vertical-align: top;\n",
       "    }\n",
       "\n",
       "    .dataframe thead th {\n",
       "        text-align: right;\n",
       "    }\n",
       "</style>\n",
       "<table border=\"1\" class=\"dataframe\">\n",
       "  <thead>\n",
       "    <tr style=\"text-align: right;\">\n",
       "      <th></th>\n",
       "      <th>index</th>\n",
       "      <th>observer</th>\n",
       "      <th>label</th>\n",
       "      <th>name</th>\n",
       "      <th>lat</th>\n",
       "      <th>lon</th>\n",
       "      <th>주소</th>\n",
       "      <th>address</th>\n",
       "      <th>type</th>\n",
       "      <th>category</th>\n",
       "    </tr>\n",
       "  </thead>\n",
       "  <tbody>\n",
       "    <tr>\n",
       "      <th>0</th>\n",
       "      <td>70</td>\n",
       "      <td>1th</td>\n",
       "      <td>01</td>\n",
       "      <td>카페비온</td>\n",
       "      <td>37.462847</td>\n",
       "      <td>126.917727</td>\n",
       "      <td>난향길 24</td>\n",
       "      <td>서울특별시 관악구 난향길 24 현경빌딩</td>\n",
       "      <td>카페</td>\n",
       "      <td>food</td>\n",
       "    </tr>\n",
       "    <tr>\n",
       "      <th>1</th>\n",
       "      <td>81</td>\n",
       "      <td>1th</td>\n",
       "      <td>01</td>\n",
       "      <td>김현애보습학원</td>\n",
       "      <td>37.462919</td>\n",
       "      <td>126.918079</td>\n",
       "      <td>난향길 14, 2층</td>\n",
       "      <td>서울특별시 관악구 난향길 14</td>\n",
       "      <td>학원</td>\n",
       "      <td>bizspace</td>\n",
       "    </tr>\n",
       "  </tbody>\n",
       "</table>\n",
       "</div>"
      ],
      "text/plain": [
       "   index observer label     name        lat         lon          주소  \\\n",
       "0     70      1th    01     카페비온  37.462847  126.917727      난향길 24   \n",
       "1     81      1th    01  김현애보습학원  37.462919  126.918079  난향길 14, 2층   \n",
       "\n",
       "                 address type  category  \n",
       "0  서울특별시 관악구 난향길 24 현경빌딩   카페      food  \n",
       "1       서울특별시 관악구 난향길 14   학원  bizspace  "
      ]
     },
     "execution_count": 18,
     "metadata": {},
     "output_type": "execute_result"
    }
   ],
   "source": [
    "table_marker_fin.head(2) #.to_csv(\"./data/ourtown_store_geo_fin.csv\", index=None)\n",
    "# table_marker_fin.to_csv(\"./data/ourtown_store_geo_fin.csv\", index=None)"
   ]
  },
  {
   "cell_type": "code",
   "execution_count": 19,
   "metadata": {},
   "outputs": [
    {
     "data": {
      "text/html": [
       "<div>\n",
       "<style scoped>\n",
       "    .dataframe tbody tr th:only-of-type {\n",
       "        vertical-align: middle;\n",
       "    }\n",
       "\n",
       "    .dataframe tbody tr th {\n",
       "        vertical-align: top;\n",
       "    }\n",
       "\n",
       "    .dataframe thead th {\n",
       "        text-align: right;\n",
       "    }\n",
       "</style>\n",
       "<table border=\"1\" class=\"dataframe\">\n",
       "  <thead>\n",
       "    <tr style=\"text-align: right;\">\n",
       "      <th></th>\n",
       "      <th>연번</th>\n",
       "      <th>상호명</th>\n",
       "      <th>점주명</th>\n",
       "      <th>연락처</th>\n",
       "      <th>주소</th>\n",
       "      <th>업종</th>\n",
       "      <th>행정동</th>\n",
       "      <th>사진</th>\n",
       "      <th>임대차</th>\n",
       "      <th>비고</th>\n",
       "      <th>기타</th>\n",
       "    </tr>\n",
       "  </thead>\n",
       "  <tbody>\n",
       "    <tr>\n",
       "      <th>0</th>\n",
       "      <td>1</td>\n",
       "      <td>모든홍삼</td>\n",
       "      <td>주옥자</td>\n",
       "      <td>010-7908-0324</td>\n",
       "      <td>은천로 28, 봉일프라자 나-120</td>\n",
       "      <td>기타판매</td>\n",
       "      <td>은천동</td>\n",
       "      <td>X</td>\n",
       "      <td>X</td>\n",
       "      <td>개별점포</td>\n",
       "      <td>NaN</td>\n",
       "    </tr>\n",
       "    <tr>\n",
       "      <th>1</th>\n",
       "      <td>2</td>\n",
       "      <td>종로떡집</td>\n",
       "      <td>김기철</td>\n",
       "      <td>010-4606-7280</td>\n",
       "      <td>국회단지길 21</td>\n",
       "      <td>떡집</td>\n",
       "      <td>은천동</td>\n",
       "      <td>X</td>\n",
       "      <td>X</td>\n",
       "      <td>개별점포</td>\n",
       "      <td>NaN</td>\n",
       "    </tr>\n",
       "  </tbody>\n",
       "</table>\n",
       "</div>"
      ],
      "text/plain": [
       "   연번   상호명  점주명            연락처                   주소    업종  행정동 사진 임대차    비고  \\\n",
       "0   1  모든홍삼  주옥자  010-7908-0324  은천로 28, 봉일프라자 나-120  기타판매  은천동  X   X  개별점포   \n",
       "1   2  종로떡집  김기철  010-4606-7280             국회단지길 21    떡집  은천동  X   X  개별점포   \n",
       "\n",
       "    기타  \n",
       "0  NaN  \n",
       "1  NaN  "
      ]
     },
     "execution_count": 19,
     "metadata": {},
     "output_type": "execute_result"
    }
   ],
   "source": [
    "table_source = pd.read_csv('./data/ourtown_store.csv')\n",
    "table_source.head(2)"
   ]
  },
  {
   "cell_type": "code",
   "execution_count": 20,
   "metadata": {},
   "outputs": [
    {
     "data": {
      "text/html": [
       "<div>\n",
       "<style scoped>\n",
       "    .dataframe tbody tr th:only-of-type {\n",
       "        vertical-align: middle;\n",
       "    }\n",
       "\n",
       "    .dataframe tbody tr th {\n",
       "        vertical-align: top;\n",
       "    }\n",
       "\n",
       "    .dataframe thead th {\n",
       "        text-align: right;\n",
       "    }\n",
       "</style>\n",
       "<table border=\"1\" class=\"dataframe\">\n",
       "  <thead>\n",
       "    <tr style=\"text-align: right;\">\n",
       "      <th></th>\n",
       "      <th>observer</th>\n",
       "      <th>label</th>\n",
       "      <th>name</th>\n",
       "      <th>점주명</th>\n",
       "      <th>연락처</th>\n",
       "      <th>lat</th>\n",
       "      <th>lon</th>\n",
       "      <th>address</th>\n",
       "      <th>주소</th>\n",
       "      <th>type</th>\n",
       "    </tr>\n",
       "  </thead>\n",
       "  <tbody>\n",
       "    <tr>\n",
       "      <th>148</th>\n",
       "      <td>3th</td>\n",
       "      <td>37</td>\n",
       "      <td>임서하헤어마벨</td>\n",
       "      <td>박영숙</td>\n",
       "      <td>010-2670-8392</td>\n",
       "      <td>37.481842</td>\n",
       "      <td>126.941729</td>\n",
       "      <td>서울특별시 관악구 장군봉1길 29</td>\n",
       "      <td>장군봉1길 29</td>\n",
       "      <td>미용업</td>\n",
       "    </tr>\n",
       "    <tr>\n",
       "      <th>149</th>\n",
       "      <td>3th</td>\n",
       "      <td>37</td>\n",
       "      <td>신현선무관</td>\n",
       "      <td>장귀길</td>\n",
       "      <td>010-8249-0100</td>\n",
       "      <td>37.481743</td>\n",
       "      <td>126.942606</td>\n",
       "      <td>서울특별시 관악구 장군봉1길 45</td>\n",
       "      <td>장군봉1길 45, 2층</td>\n",
       "      <td>학원</td>\n",
       "    </tr>\n",
       "  </tbody>\n",
       "</table>\n",
       "</div>"
      ],
      "text/plain": [
       "    observer label     name  점주명            연락처        lat         lon  \\\n",
       "148      3th    37  임서하헤어마벨  박영숙  010-2670-8392  37.481842  126.941729   \n",
       "149      3th    37    신현선무관  장귀길  010-8249-0100  37.481743  126.942606   \n",
       "\n",
       "                address            주소 type  \n",
       "148  서울특별시 관악구 장군봉1길 29      장군봉1길 29  미용업  \n",
       "149  서울특별시 관악구 장군봉1길 45  장군봉1길 45, 2층   학원  "
      ]
     },
     "execution_count": 20,
     "metadata": {},
     "output_type": "execute_result"
    }
   ],
   "source": [
    "table_marker_fin2 = table_marker_fin.join(pd.DataFrame([\n",
    "    table_source.loc[_,[\"점주명\", \"연락처\"]]  for _ in table_marker_fin['index']]))\n",
    "table_marker_fin2 = table_marker_fin2.loc[:,[\n",
    "    \"observer\",\"label\",\"name\",\"점주명\",\"연락처\",'lat','lon','address','주소',\"type\"]]\n",
    "table_marker_fin2.to_csv(\"./data/ourtown_store_geo_fin.csv\", index=None)\n",
    "table_marker_fin2.tail(2)"
   ]
  },
  {
   "cell_type": "markdown",
   "metadata": {},
   "source": [
    "## **3 VisualiZation**\n",
    "내용의 추가 및 중복데이터 수정한 Map 출력하기"
   ]
  },
  {
   "cell_type": "code",
   "execution_count": 21,
   "metadata": {},
   "outputs": [
    {
     "data": {
      "text/html": [
       "<div>\n",
       "<style scoped>\n",
       "    .dataframe tbody tr th:only-of-type {\n",
       "        vertical-align: middle;\n",
       "    }\n",
       "\n",
       "    .dataframe tbody tr th {\n",
       "        vertical-align: top;\n",
       "    }\n",
       "\n",
       "    .dataframe thead th {\n",
       "        text-align: right;\n",
       "    }\n",
       "</style>\n",
       "<table border=\"1\" class=\"dataframe\">\n",
       "  <thead>\n",
       "    <tr style=\"text-align: right;\">\n",
       "      <th></th>\n",
       "      <th>master</th>\n",
       "      <th>atrist</th>\n",
       "      <th>title</th>\n",
       "      <th>name</th>\n",
       "      <th>phone</th>\n",
       "      <th>lat</th>\n",
       "      <th>lon</th>\n",
       "      <th>address</th>\n",
       "      <th>addressraw</th>\n",
       "      <th>type</th>\n",
       "    </tr>\n",
       "  </thead>\n",
       "  <tbody>\n",
       "    <tr>\n",
       "      <th>0</th>\n",
       "      <td>1th</td>\n",
       "      <td>1</td>\n",
       "      <td>카페비온</td>\n",
       "      <td>주옥자</td>\n",
       "      <td>010-7908-0324</td>\n",
       "      <td>37.462847</td>\n",
       "      <td>126.917727</td>\n",
       "      <td>서울특별시 관악구 난향길 24 현경빌딩</td>\n",
       "      <td>난향길 24</td>\n",
       "      <td>카페</td>\n",
       "    </tr>\n",
       "    <tr>\n",
       "      <th>1</th>\n",
       "      <td>1th</td>\n",
       "      <td>1</td>\n",
       "      <td>김현애보습학원</td>\n",
       "      <td>김기철</td>\n",
       "      <td>010-4606-7280</td>\n",
       "      <td>37.462919</td>\n",
       "      <td>126.918079</td>\n",
       "      <td>서울특별시 관악구 난향길 14</td>\n",
       "      <td>난향길 14, 2층</td>\n",
       "      <td>학원</td>\n",
       "    </tr>\n",
       "  </tbody>\n",
       "</table>\n",
       "</div>"
      ],
      "text/plain": [
       "  master  atrist    title name          phone        lat         lon  \\\n",
       "0    1th       1     카페비온  주옥자  010-7908-0324  37.462847  126.917727   \n",
       "1    1th       1  김현애보습학원  김기철  010-4606-7280  37.462919  126.918079   \n",
       "\n",
       "                 address  addressraw type  \n",
       "0  서울특별시 관악구 난향길 24 현경빌딩      난향길 24   카페  \n",
       "1       서울특별시 관악구 난향길 14  난향길 14, 2층   학원  "
      ]
     },
     "execution_count": 21,
     "metadata": {},
     "output_type": "execute_result"
    }
   ],
   "source": [
    "import pandas as pd\n",
    "table_fin = pd.read_csv(\"./data/ourtown_store_geo_fin2.csv\")\n",
    "table_fin.head(2)"
   ]
  },
  {
   "cell_type": "code",
   "execution_count": 23,
   "metadata": {},
   "outputs": [
    {
     "ename": "ValueError",
     "evalue": "invalid literal for int() with base 10: '카페비온'",
     "output_type": "error",
     "traceback": [
      "\u001b[0;31m---------------------------------------------------------------------------\u001b[0m",
      "\u001b[0;31mValueError\u001b[0m                                Traceback (most recent call last)",
      "\u001b[0;32m<ipython-input-23-b5a6acb60757>\u001b[0m in \u001b[0;36m<module>\u001b[0;34m\u001b[0m\n\u001b[1;32m     20\u001b[0m     \u001b[0;32mreturn\u001b[0m \u001b[0m_map\u001b[0m\u001b[0;34m\u001b[0m\u001b[0;34m\u001b[0m\u001b[0m\n\u001b[1;32m     21\u001b[0m \u001b[0;34m\u001b[0m\u001b[0m\n\u001b[0;32m---> 22\u001b[0;31m \u001b[0m_map\u001b[0m \u001b[0;34m=\u001b[0m \u001b[0mfolium_map\u001b[0m\u001b[0;34m(\u001b[0m\u001b[0mtable_fin\u001b[0m\u001b[0;34m,\u001b[0m \u001b[0mtitle\u001b[0m\u001b[0;34m=\u001b[0m\u001b[0;34m'title'\u001b[0m\u001b[0;34m,\u001b[0m \u001b[0mtooltip\u001b[0m\u001b[0;34m=\u001b[0m\u001b[0;34m'titla'\u001b[0m\u001b[0;34m,\u001b[0m \u001b[0mopacity\u001b[0m\u001b[0;34m=\u001b[0m\u001b[0;36m1\u001b[0m\u001b[0;34m)\u001b[0m\u001b[0;34m\u001b[0m\u001b[0;34m\u001b[0m\u001b[0m\n\u001b[0m\u001b[1;32m     23\u001b[0m \u001b[0m_map\u001b[0m\u001b[0;34m.\u001b[0m\u001b[0msave\u001b[0m\u001b[0;34m(\u001b[0m\u001b[0;34m'web/gkart.html'\u001b[0m\u001b[0;34m)\u001b[0m\u001b[0;34m\u001b[0m\u001b[0;34m\u001b[0m\u001b[0m\n",
      "\u001b[0;32m<ipython-input-23-b5a6acb60757>\u001b[0m in \u001b[0;36mfolium_map\u001b[0;34m(table, title, name, tooltip, opacity)\u001b[0m\n\u001b[1;32m      8\u001b[0m         \u001b[0m_\u001b[0m \u001b[0;34m=\u001b[0m \u001b[0mint\u001b[0m\u001b[0;34m(\u001b[0m\u001b[0m_\u001b[0m\u001b[0;34m)\u001b[0m\u001b[0;34m\u001b[0m\u001b[0;34m\u001b[0m\u001b[0m\n\u001b[1;32m      9\u001b[0m         \u001b[0m_table\u001b[0m \u001b[0;34m=\u001b[0m \u001b[0mtable\u001b[0m\u001b[0;34m.\u001b[0m\u001b[0miloc\u001b[0m\u001b[0;34m[\u001b[0m\u001b[0m_\u001b[0m\u001b[0;34m,\u001b[0m\u001b[0;34m:\u001b[0m\u001b[0;34m]\u001b[0m\u001b[0;34m\u001b[0m\u001b[0;34m\u001b[0m\u001b[0m\n\u001b[0;32m---> 10\u001b[0;31m         \u001b[0mcolor\u001b[0m \u001b[0;34m=\u001b[0m \u001b[0mcolor_map\u001b[0m\u001b[0;34m[\u001b[0m\u001b[0mint\u001b[0m\u001b[0;34m(\u001b[0m\u001b[0m_table\u001b[0m\u001b[0;34m[\u001b[0m\u001b[0mtitle\u001b[0m\u001b[0;34m]\u001b[0m\u001b[0;34m)\u001b[0m\u001b[0;34m]\u001b[0m\u001b[0;34m\u001b[0m\u001b[0;34m\u001b[0m\u001b[0m\n\u001b[0m\u001b[1;32m     11\u001b[0m         \u001b[0mcolor_border\u001b[0m  \u001b[0;34m=\u001b[0m \u001b[0mcolor_observer_map\u001b[0m\u001b[0;34m[\u001b[0m\u001b[0m_table\u001b[0m\u001b[0;34m[\u001b[0m\u001b[0;34m\"observer\"\u001b[0m\u001b[0;34m]\u001b[0m\u001b[0;34m]\u001b[0m\u001b[0;34m\u001b[0m\u001b[0;34m\u001b[0m\u001b[0m\n\u001b[1;32m     12\u001b[0m         icon_style = plugins.BeautifyIcon(\n",
      "\u001b[0;31mValueError\u001b[0m: invalid literal for int() with base 10: '카페비온'"
     ]
    }
   ],
   "source": [
    "import folium\n",
    "from folium import plugins\n",
    "def folium_map(table, title='label', name = \"name\", tooltip=\"name\", opacity=0.3):\n",
    "    _map  = folium.Map([table['lat'].mean(), table['lon'].mean()], zoom_start = 14)\n",
    "    color_map = ['red', 'blue', 'purple', 'orange', 'green', 'black'] * 100\n",
    "    color_observer_map = {\"1th\":\"darkblue\", \"2th\":\"darkgreen\", \"3th\":\"darkred\"}\n",
    "    for _ in range(len(table)):\n",
    "        _ = int(_)\n",
    "        _table = table.iloc[_,:]\n",
    "        color = color_map[int(_table[title])]\n",
    "        color_border  = color_observer_map[_table[\"observer\"]]\n",
    "        icon_style = plugins.BeautifyIcon(\n",
    "            number = str(_table[title]),\n",
    "            icon_shape = \"marker\", inner_icon_style = 'margin=top:1;',\n",
    "            border_color = color_border, text_color = color, border_width=4,\n",
    "        )\n",
    "        folium.Marker([_table['lat'], _table['lon']], opacity = opacity,\n",
    "            tooltip = _table[tooltip] + \" : \" + _table['addressraw'],\n",
    "            icon = icon_style).add_to(_map)\n",
    "    return _map\n",
    "\n",
    "_map = folium_map(table_fin, title='title', tooltip='titla', opacity=1)\n",
    "_map.save('web/gkart.html')"
   ]
  },
  {
   "cell_type": "code",
   "execution_count": null,
   "metadata": {},
   "outputs": [],
   "source": [
    "_map"
   ]
  },
  {
   "cell_type": "code",
   "execution_count": null,
   "metadata": {},
   "outputs": [],
   "source": []
  },
  {
   "cell_type": "code",
   "execution_count": null,
   "metadata": {},
   "outputs": [],
   "source": []
  },
  {
   "cell_type": "code",
   "execution_count": null,
   "metadata": {},
   "outputs": [],
   "source": [
    "table_fin.iloc[10,:]"
   ]
  },
  {
   "cell_type": "code",
   "execution_count": null,
   "metadata": {},
   "outputs": [],
   "source": []
  },
  {
   "cell_type": "code",
   "execution_count": null,
   "metadata": {},
   "outputs": [],
   "source": []
  },
  {
   "cell_type": "code",
   "execution_count": null,
   "metadata": {},
   "outputs": [],
   "source": [
    "table_fin.iloc[1,:]"
   ]
  },
  {
   "cell_type": "code",
   "execution_count": null,
   "metadata": {},
   "outputs": [],
   "source": []
  },
  {
   "cell_type": "code",
   "execution_count": null,
   "metadata": {},
   "outputs": [],
   "source": [
    "_map"
   ]
  },
  {
   "cell_type": "code",
   "execution_count": null,
   "metadata": {},
   "outputs": [],
   "source": []
  },
  {
   "cell_type": "code",
   "execution_count": null,
   "metadata": {},
   "outputs": [],
   "source": []
  },
  {
   "cell_type": "code",
   "execution_count": null,
   "metadata": {},
   "outputs": [],
   "source": []
  }
 ],
 "metadata": {
  "kernelspec": {
   "display_name": "Python 3",
   "language": "python",
   "name": "python3"
  },
  "language_info": {
   "codemirror_mode": {
    "name": "ipython",
    "version": 3
   },
   "file_extension": ".py",
   "mimetype": "text/x-python",
   "name": "python",
   "nbconvert_exporter": "python",
   "pygments_lexer": "ipython3",
   "version": "3.8.5"
  }
 },
 "nbformat": 4,
 "nbformat_minor": 4
}
