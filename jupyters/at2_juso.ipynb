{
 "cells": [
  {
   "cell_type": "markdown",
   "metadata": {},
   "source": [
    "# **위도 / 경도 정보 가져오기**\n",
    "- **[KaKao API 가져오기](https://medium.com/@john_analyst/%ED%8C%8C%EC%9D%B4%EC%8D%AC%EC%9D%84-%ED%99%9C%EC%9A%A9%ED%95%9C-%EC%B9%B4%EC%B9%B4%EC%98%A4-api%EB%A1%9C-%EC%9C%84%EA%B2%BD%EB%8F%84-%EA%B5%AC%ED%95%98%EA%B8%B0-69bc51697753)**\n",
    "- **[GeoCoder 를 활용한 변환](https://m.blog.naver.com/PostView.nhn?blogId=kcscpr&logNo=220903590992&proxyReferer=https:%2F%2Fwww.google.com%2F)**\n",
    "- **[GeoCoder Github](https://github.com/yjw5344/Geocoder-Python)**\n",
    "- **[Juso API 게시판에 올라온 GET 방식](https://juso.go.kr/addrlink/devCenterEventBoardDetail.do?regSn=79&noticeType=T)**\n",
    "- **[공공 데이터 DB 자료를 활용한 방식](https://stricky.tistory.com/116)**\n",
    "- **[Naver, Daum API 활용하기](https://mentha2.tistory.com/176)**"
   ]
  },
  {
   "cell_type": "markdown",
   "metadata": {},
   "source": [
    "## **1 Source 의 데이터 정보를 결과값 확인하기**\n",
    "Validation Check Function"
   ]
  },
  {
   "cell_type": "code",
   "execution_count": 1,
   "metadata": {},
   "outputs": [
    {
     "name": "stdout",
     "output_type": "stream",
     "text": [
      "['./data/store.csv'] ['./data/store.xlsx']\n",
      "(150, 10) (150, 11)\n"
     ]
    },
    {
     "data": {
      "text/html": [
       "<div>\n",
       "<style scoped>\n",
       "    .dataframe tbody tr th:only-of-type {\n",
       "        vertical-align: middle;\n",
       "    }\n",
       "\n",
       "    .dataframe tbody tr th {\n",
       "        vertical-align: top;\n",
       "    }\n",
       "\n",
       "    .dataframe thead th {\n",
       "        text-align: right;\n",
       "    }\n",
       "</style>\n",
       "<table border=\"1\" class=\"dataframe\">\n",
       "  <thead>\n",
       "    <tr style=\"text-align: right;\">\n",
       "      <th></th>\n",
       "      <th>연번</th>\n",
       "      <th>상호명</th>\n",
       "      <th>점주명</th>\n",
       "      <th>연락처</th>\n",
       "      <th>주소</th>\n",
       "      <th>업종</th>\n",
       "      <th>행정동</th>\n",
       "      <th>사진</th>\n",
       "      <th>임대차</th>\n",
       "      <th>비고</th>\n",
       "      <th>Unnamed: 10</th>\n",
       "    </tr>\n",
       "  </thead>\n",
       "  <tbody>\n",
       "    <tr>\n",
       "      <th>0</th>\n",
       "      <td>1</td>\n",
       "      <td>모든홍삼</td>\n",
       "      <td>주옥자</td>\n",
       "      <td>010-7908-0324</td>\n",
       "      <td>은천로 28, 봉일프라자 나-120</td>\n",
       "      <td>기타판매</td>\n",
       "      <td>은천동</td>\n",
       "      <td>X</td>\n",
       "      <td>X</td>\n",
       "      <td>개별점포</td>\n",
       "      <td>NaN</td>\n",
       "    </tr>\n",
       "    <tr>\n",
       "      <th>1</th>\n",
       "      <td>2</td>\n",
       "      <td>종로떡집</td>\n",
       "      <td>김기철</td>\n",
       "      <td>010-4606-7280</td>\n",
       "      <td>국회단지길 21</td>\n",
       "      <td>떡집</td>\n",
       "      <td>은천동</td>\n",
       "      <td>X</td>\n",
       "      <td>X</td>\n",
       "      <td>개별점포</td>\n",
       "      <td>NaN</td>\n",
       "    </tr>\n",
       "  </tbody>\n",
       "</table>\n",
       "</div>"
      ],
      "text/plain": [
       "   연번   상호명  점주명            연락처                   주소    업종  행정동 사진 임대차    비고  \\\n",
       "0   1  모든홍삼  주옥자  010-7908-0324  은천로 28, 봉일프라자 나-120  기타판매  은천동  X   X  개별점포   \n",
       "1   2  종로떡집  김기철  010-4606-7280             국회단지길 21    떡집  은천동  X   X  개별점포   \n",
       "\n",
       "  Unnamed: 10  \n",
       "0         NaN  \n",
       "1         NaN  "
      ]
     },
     "execution_count": 1,
     "metadata": {},
     "output_type": "execute_result"
    }
   ],
   "source": [
    "from glob import glob\n",
    "file_excel = sorted(glob(\"./data/store*.xlsx\"))\n",
    "file_csv = sorted(glob(\"./data/store.csv\"))\n",
    "print(file_csv, file_excel)\n",
    "\n",
    "import pandas as pd\n",
    "data_excel = pd.read_excel(file_excel[0])\n",
    "data_csv = pd.read_csv(file_csv[0], header=None)\n",
    "data_csv.columns = ['master','artist','title','name','phone','lat','lon','address','addressraw','type']\n",
    "print(data_csv.shape, data_excel.shape)\n",
    "data_excel.head(2)"
   ]
  },
  {
   "cell_type": "markdown",
   "metadata": {},
   "source": [
    "## **2 Building the Source Token**\n",
    "Checking 을 위한 Token Dict 만들기"
   ]
  },
  {
   "cell_type": "code",
   "execution_count": 2,
   "metadata": {},
   "outputs": [
    {
     "data": {
      "text/plain": [
       "150"
      ]
     },
     "execution_count": 2,
     "metadata": {},
     "output_type": "execute_result"
    }
   ],
   "source": [
    "# for _ in range(len(data_excel)):\n",
    "token_source = {}\n",
    "for _ in range(len(data_excel)):\n",
    "    title = \"\".join(data_excel.loc[_, [\"상호명\"]].values)\n",
    "    token_source[title] = {}\n",
    "    name = \"\".join(data_excel.loc[_, [\"점주명\"]].values)\n",
    "    phone = \"\".join(data_excel.loc[_, [\"연락처\"]].values)\n",
    "    address = \"\".join(data_excel.loc[_, [\"주소\"]].values)\n",
    "    types = \"\".join(data_excel.loc[_, [\"업종\"]].values)\n",
    "    token_source[title][\"name\"] = name\n",
    "    token_source[title][\"phone\"] = phone\n",
    "    token_source[title][\"address\"] = address\n",
    "    token_source[title][\"types\"] = types\n",
    "\n",
    "len(token_source)"
   ]
  },
  {
   "cell_type": "markdown",
   "metadata": {},
   "source": [
    "## **3 Adding the Data**\n",
    "Checking Token 을 활용한 Table Validation Check"
   ]
  },
  {
   "cell_type": "code",
   "execution_count": 3,
   "metadata": {},
   "outputs": [
    {
     "data": {
      "text/html": [
       "<div>\n",
       "<style scoped>\n",
       "    .dataframe tbody tr th:only-of-type {\n",
       "        vertical-align: middle;\n",
       "    }\n",
       "\n",
       "    .dataframe tbody tr th {\n",
       "        vertical-align: top;\n",
       "    }\n",
       "\n",
       "    .dataframe thead th {\n",
       "        text-align: right;\n",
       "    }\n",
       "</style>\n",
       "<table border=\"1\" class=\"dataframe\">\n",
       "  <thead>\n",
       "    <tr style=\"text-align: right;\">\n",
       "      <th></th>\n",
       "      <th>master</th>\n",
       "      <th>artist</th>\n",
       "      <th>title</th>\n",
       "      <th>name</th>\n",
       "      <th>phone</th>\n",
       "      <th>lat</th>\n",
       "      <th>lon</th>\n",
       "      <th>address</th>\n",
       "      <th>addressraw</th>\n",
       "      <th>type</th>\n",
       "    </tr>\n",
       "  </thead>\n",
       "  <tbody>\n",
       "    <tr>\n",
       "      <th>0</th>\n",
       "      <td>1</td>\n",
       "      <td>1</td>\n",
       "      <td>카페비온</td>\n",
       "      <td>주옥자</td>\n",
       "      <td>010-7908-0324</td>\n",
       "      <td>37.462847</td>\n",
       "      <td>126.917727</td>\n",
       "      <td>서울특별시 관악구 난향길 24 현경빌딩</td>\n",
       "      <td>난향길 24</td>\n",
       "      <td>카페</td>\n",
       "    </tr>\n",
       "    <tr>\n",
       "      <th>1</th>\n",
       "      <td>1</td>\n",
       "      <td>1</td>\n",
       "      <td>김현애보습학원</td>\n",
       "      <td>김기철</td>\n",
       "      <td>010-4606-7280</td>\n",
       "      <td>37.462919</td>\n",
       "      <td>126.918079</td>\n",
       "      <td>서울특별시 관악구 난향길 14</td>\n",
       "      <td>난향길 14, 2층</td>\n",
       "      <td>학원</td>\n",
       "    </tr>\n",
       "  </tbody>\n",
       "</table>\n",
       "</div>"
      ],
      "text/plain": [
       "   master  artist    title name          phone        lat         lon  \\\n",
       "0       1       1     카페비온  주옥자  010-7908-0324  37.462847  126.917727   \n",
       "1       1       1  김현애보습학원  김기철  010-4606-7280  37.462919  126.918079   \n",
       "\n",
       "                 address  addressraw type  \n",
       "0  서울특별시 관악구 난향길 24 현경빌딩      난향길 24   카페  \n",
       "1       서울특별시 관악구 난향길 14  난향길 14, 2층   학원  "
      ]
     },
     "execution_count": 3,
     "metadata": {},
     "output_type": "execute_result"
    }
   ],
   "source": [
    "data_csv.head(2)"
   ]
  },
  {
   "cell_type": "code",
   "execution_count": 4,
   "metadata": {},
   "outputs": [
    {
     "data": {
      "text/html": [
       "<div>\n",
       "<style scoped>\n",
       "    .dataframe tbody tr th:only-of-type {\n",
       "        vertical-align: middle;\n",
       "    }\n",
       "\n",
       "    .dataframe tbody tr th {\n",
       "        vertical-align: top;\n",
       "    }\n",
       "\n",
       "    .dataframe thead th {\n",
       "        text-align: right;\n",
       "    }\n",
       "</style>\n",
       "<table border=\"1\" class=\"dataframe\">\n",
       "  <thead>\n",
       "    <tr style=\"text-align: right;\">\n",
       "      <th></th>\n",
       "      <th>master</th>\n",
       "      <th>artist</th>\n",
       "      <th>title</th>\n",
       "      <th>name</th>\n",
       "      <th>phone</th>\n",
       "      <th>lat</th>\n",
       "      <th>lon</th>\n",
       "      <th>address</th>\n",
       "      <th>주소</th>\n",
       "      <th>addressraw</th>\n",
       "      <th>업종</th>\n",
       "      <th>type</th>\n",
       "    </tr>\n",
       "  </thead>\n",
       "  <tbody>\n",
       "    <tr>\n",
       "      <th>0</th>\n",
       "      <td>1</td>\n",
       "      <td>1</td>\n",
       "      <td>카페비온</td>\n",
       "      <td>유민영</td>\n",
       "      <td>010-9688-7097</td>\n",
       "      <td>37.462847</td>\n",
       "      <td>126.917727</td>\n",
       "      <td>서울특별시 관악구 난향길 24 현경빌딩</td>\n",
       "      <td>난향길 24</td>\n",
       "      <td>난향길 24</td>\n",
       "      <td>카페</td>\n",
       "      <td>카페</td>\n",
       "    </tr>\n",
       "    <tr>\n",
       "      <th>1</th>\n",
       "      <td>1</td>\n",
       "      <td>1</td>\n",
       "      <td>김현애보습학원</td>\n",
       "      <td>김현애</td>\n",
       "      <td>010-4192-2239</td>\n",
       "      <td>37.462919</td>\n",
       "      <td>126.918079</td>\n",
       "      <td>서울특별시 관악구 난향길 14</td>\n",
       "      <td>난향길 14, 2층</td>\n",
       "      <td>난향길 14, 2층</td>\n",
       "      <td>학원</td>\n",
       "      <td>학원</td>\n",
       "    </tr>\n",
       "  </tbody>\n",
       "</table>\n",
       "</div>"
      ],
      "text/plain": [
       "   master  artist    title name          phone        lat         lon  \\\n",
       "0       1       1     카페비온  유민영  010-9688-7097  37.462847  126.917727   \n",
       "1       1       1  김현애보습학원  김현애  010-4192-2239  37.462919  126.918079   \n",
       "\n",
       "                 address          주소  addressraw  업종 type  \n",
       "0  서울특별시 관악구 난향길 24 현경빌딩      난향길 24      난향길 24  카페   카페  \n",
       "1       서울특별시 관악구 난향길 14  난향길 14, 2층  난향길 14, 2층  학원   학원  "
      ]
     },
     "execution_count": 4,
     "metadata": {},
     "output_type": "execute_result"
    }
   ],
   "source": [
    "name, phone, address, types = [], [], [], []\n",
    "for _ in range(len(data_csv)):\n",
    "    title = \"\".join(data_csv.loc[_,'title'])\n",
    "    name.append(token_source[title][\"name\"])\n",
    "    phone.append(token_source[title][\"phone\"])\n",
    "    address.append(token_source[title][\"address\"])\n",
    "    types.append(token_source[title][\"types\"])\n",
    "data_csv['name'] = name\n",
    "data_csv['phone'] = phone\n",
    "# data_csv.insert(8, '주소', address)\n",
    "# data_csv.insert(10, '업종', types)\n",
    "data_csv.to_csv(\"./data/store_fin.csv\", index=None)\n",
    "data_csv.head(2)"
   ]
  },
  {
   "cell_type": "markdown",
   "metadata": {},
   "source": [
    "<br/>\n",
    "\n",
    "# **Naver Map 을 활용한 위도경도 추출**\n",
    "\n",
    "- [주소와 좌표 검색 API 사용하기](https://navermaps.github.io/maps.js.ncp/docs/tutorial-3-geocoder-geocoding.example.html)\n",
    "- [GeoCode in Ncloud](https://apidocs.ncloud.com/ko/ai-naver/maps_geocoding/geocode/)\n",
    "- [MapView APIKey - Non Paid]\n",
    "```\n",
    "Client ID : dzhrati97r\n",
    "Client Secret : 9990BNYwSIY9paMzgwLZn5hjx4XTSaB0NjtuoIeQ\n",
    "```"
   ]
  },
  {
   "cell_type": "markdown",
   "metadata": {},
   "source": [
    "## **1 Naver 정보 추출함수**\n",
    "- API 활용가능 범위 신청내용 확인 : 최초 신청시 GeoCode 내용 미포함으로 403 오류가 발생\n",
    "- [Map Full Activated APIKey - paid possable]\n",
    "```\n",
    "Client ID : wstocuk035\n",
    "Client Secret : Na6VgNttRRMbehOv6Uswfw8iYld2INbvZMvGBOHQ\n",
    "```"
   ]
  },
  {
   "cell_type": "code",
   "execution_count": 5,
   "metadata": {},
   "outputs": [],
   "source": [
    "import requests, json\n",
    "def naver_address(address, latlon='127.1052133,37.3595316'):\n",
    "    r\"\"\"Naver Cloud API 를 활용한 주소 상세정보 추출기\n",
    "    :param address: 은천로 28, 봉일프라자 나-120\n",
    "    :param latlon : 추출 기준이 되는 위도, 경도값\n",
    "    :return: list 결과값 출력\n",
    "    \"\"\"\n",
    "    # address  = \"\"\n",
    "    url_head = 'https://naveropenapi.apigw.ntruss.com/map-geocode/v2/geocode?query='\n",
    "    url      = f\"{url_head}{address}&coordinate={latlon}\"\n",
    "    headers  = {\n",
    "        \"X-NCP-APIGW-API-KEY-ID\" : \"wstocuk035\",\n",
    "        \"X-NCP-APIGW-API-KEY\" : \"Na6VgNttRRMbehOv6Uswfw8iYld2INbvZMvGBOHQ\",    \n",
    "    }\n",
    "    resp = requests.get(url, headers=headers)\n",
    "    resp = json.loads(resp.text)\n",
    "    if resp['status'] == 'OK': # 상태값이 유효하고\n",
    "        if resp['meta']['totalCount'] >= 1: # 결과값이 1개 이상일 떄\n",
    "            return_keys = ['roadAddress', 'jibunAddress','englishAddress','x', 'y']\n",
    "            return [resp['addresses'][0][_]  for _ in return_keys]\n",
    "        else:\n",
    "            return resp\n",
    "    else:\n",
    "        return resp"
   ]
  },
  {
   "cell_type": "code",
   "execution_count": 6,
   "metadata": {},
   "outputs": [
    {
     "data": {
      "text/plain": [
       "['서울특별시 관악구 장군봉1길 32',\n",
       " '서울특별시 관악구 봉천동 1527-1',\n",
       " '32, Janggunbong 1-gil, Gwanak-gu, Seoul, Republic of Korea',\n",
       " '126.9417827',\n",
       " '37.4816691']"
      ]
     },
     "execution_count": 6,
     "metadata": {},
     "output_type": "execute_result"
    }
   ],
   "source": [
    "naver_address(\"서울 관악구 장군봉1길 32\")"
   ]
  },
  {
   "cell_type": "code",
   "execution_count": 13,
   "metadata": {},
   "outputs": [
    {
     "data": {
      "text/plain": [
       "{'status': 'OK',\n",
       " 'meta': {'totalCount': 0, 'count': 0},\n",
       " 'addresses': [],\n",
       " 'errorMessage': ''}"
      ]
     },
     "execution_count": 13,
     "metadata": {},
     "output_type": "execute_result"
    }
   ],
   "source": [
    "naver_address(\"24시 세탁\")"
   ]
  },
  {
   "cell_type": "markdown",
   "metadata": {},
   "source": [
    "<br />\n",
    "\n",
    "# **Project 2 광진구 사회적경제 지도**\n",
    "2020 11 02"
   ]
  },
  {
   "cell_type": "markdown",
   "metadata": {},
   "source": [
    "## **1 Loading the Data**\n",
    "주소자료 가져오기"
   ]
  },
  {
   "cell_type": "code",
   "execution_count": null,
   "metadata": {},
   "outputs": [],
   "source": [
    "import pandas as pd\n",
    "table = pd.read_csv(\"./data/socialmap_gj.csv\").fillna('')\n",
    "table.head(3)"
   ]
  },
  {
   "cell_type": "markdown",
   "metadata": {},
   "source": [
    "## **2 위도 경도 데이터 추가하기**\n",
    "Naver Cloud API 활용"
   ]
  },
  {
   "cell_type": "code",
   "execution_count": null,
   "metadata": {},
   "outputs": [],
   "source": [
    "result_list = []\n",
    "from tqdm import tqdm\n",
    "for _ in tqdm(table['address'].to_list()):\n",
    "    try:\n",
    "        _ = naver_address(_)\n",
    "    except:\n",
    "#         print(\">>\" + _ + \"<<\")\n",
    "        _ = [\"\"]*4\n",
    "    result_list.append(_)\n",
    "\n",
    "table.insert(2,\"lat\", [_[-1] for _ in result_list])\n",
    "table.insert(2,\"lon\", [_[-2] for _ in result_list])\n",
    "table.insert(2,\"addressroad\", [_[1] for _ in result_list])\n",
    "table.insert(2,\"addressfull\", [_[0] for _ in result_list])\n",
    "table.to_csv(\"./data/socialmap_gj_geo.csv\", index=None)\n",
    "table.head(3)"
   ]
  },
  {
   "cell_type": "code",
   "execution_count": null,
   "metadata": {},
   "outputs": [],
   "source": []
  },
  {
   "cell_type": "code",
   "execution_count": null,
   "metadata": {},
   "outputs": [],
   "source": []
  },
  {
   "cell_type": "code",
   "execution_count": null,
   "metadata": {},
   "outputs": [],
   "source": []
  },
  {
   "cell_type": "markdown",
   "metadata": {},
   "source": [
    "<br />\n",
    "\n",
    "# **Project 1 관악구 아트테리어 지도**\n",
    "2020 10 21"
   ]
  },
  {
   "cell_type": "markdown",
   "metadata": {},
   "source": [
    "## **1 위치정보 Table 에 추출한 정보 적용하기**\n",
    "- Table Update"
   ]
  },
  {
   "cell_type": "code",
   "execution_count": null,
   "metadata": {},
   "outputs": [],
   "source": [
    "# 데이터 CSV 불러오기\n",
    "import pandas as pd\n",
    "file_name = \"./data/ourtown_store.csv\"\n",
    "table = pd.read_csv(file_name, dtype={\"연번\":str}).fillna('')\n",
    "table['연번'] = [str(int(float(_)))  for _ in table['연번']]\n",
    "table.head(3)"
   ]
  },
  {
   "cell_type": "code",
   "execution_count": null,
   "metadata": {},
   "outputs": [],
   "source": [
    "# result_list = []\n",
    "# from tqdm import tqdm\n",
    "# for _ in tqdm(table['주소'].to_list()):\n",
    "#     try:\n",
    "#         _ = naver_address(_)\n",
    "#     except:\n",
    "#         print(_)\n",
    "#     result_list.append(_)\n",
    "\n",
    "# table.insert(5,\"lat\", [_[-1] for _ in result_list])\n",
    "# table.insert(5,\"lon\", [_[-2] for _ in result_list])\n",
    "# table.insert(5,\"addressroad\", [_[1] for _ in result_list])\n",
    "# table.insert(5,\"address\", [_[0] for _ in result_list])\n",
    "# table.to_csv(\"./data/ourtown_store_geo2.csv\", index=None)\n",
    "# table.head(3)"
   ]
  },
  {
   "cell_type": "code",
   "execution_count": null,
   "metadata": {},
   "outputs": [],
   "source": [
    "table = pd.read_csv(\"./data/ourtown_store_geo2.csv\")\n",
    "table.head(3)"
   ]
  },
  {
   "cell_type": "markdown",
   "metadata": {},
   "source": [
    "## **2 geoPy 를 활용한 위도/ 경도**\n",
    "**[geopy document](https://pypi.org/project/geopy/)**"
   ]
  },
  {
   "cell_type": "code",
   "execution_count": null,
   "metadata": {},
   "outputs": [],
   "source": [
    "# from geopy.geocoders import Nominatim\n",
    "# geolocator = Nominatim(user_agent='gwanak_store')\n",
    "# text_address = '남부순환로231길 11'\n",
    "# location = geolocator.geocode(text_address)\n",
    "# location.raw"
   ]
  },
  {
   "cell_type": "markdown",
   "metadata": {},
   "source": [
    "## **2 주소 테이블 내용 추가하기**\n",
    "- \"latitude\" : 위도\n",
    "- \"longitude\" : 경도"
   ]
  },
  {
   "cell_type": "code",
   "execution_count": null,
   "metadata": {},
   "outputs": [],
   "source": [
    "# address = table['주소'].to_list()\n",
    "# address_base = [_.split(',')[0]  for _ in address]\n",
    "\n",
    "# # generate Instance\n",
    "# from geopy.geocoders import Nominatim\n",
    "# geolocator = Nominatim(user_agent='gwanak_store')\n",
    "# address_rest, latitude, longitude = [], [], []\n",
    "\n",
    "# # adding the longitude, latitude\n",
    "# from tqdm import tqdm\n",
    "# from time import sleep\n",
    "# for _ in tqdm(address_base):\n",
    "#     location = geolocator.geocode(_)\n",
    "#     latitude.append(location.raw['lat'])\n",
    "#     longitude.append(location.raw['lon'])\n",
    "#     sleep(.5)"
   ]
  },
  {
   "cell_type": "code",
   "execution_count": null,
   "metadata": {},
   "outputs": [],
   "source": [
    "# for _ in address:\n",
    "#     if len(_.split(','))>1:\n",
    "#         address_rest.append(\"\".join(_.split(',')[1:]).strip())\n",
    "#     else: address_rest.append(\"\")\n",
    "\n",
    "# table.insert(5,'주소_head', address_base)\n",
    "# table.insert(6,'주소_rest', address_rest)\n",
    "# table.insert(7,'latitude', latitude)\n",
    "# table.insert(8,'longitude', longitude)\n",
    "# # table.to_csv('./data/ourtown_store_geo.csv', index=None)\n",
    "# table.head(3)\n",
    "\n",
    "import pandas as pd\n",
    "df_address = pd.read_csv('./data/ourtown_store_geo.csv')\n",
    "df_address.head(3)"
   ]
  },
  {
   "cell_type": "markdown",
   "metadata": {},
   "source": [
    "# **지도 APP 위에 Marking 작업 진행하기**\n",
    "Naver, Google 는 각자의 Cloud 서비스를 가입한 이후에만 사용이 가능하게 되어있는 문제가 있었습니다. 반면 Kakao 는 회원가입 만으로도 가능하여 이를 내용으로 진행을 합니다.\n",
    "- **[Google Map Marking](https://simplehanlab.github.io/react/google-map-react/)**\n",
    "\n",
    "## **1 KAKAO 가입 및 인증키 추출하기**\n",
    "- **[Kakao Map marking](https://velog.io/@bearsjelly/React-kakao-%EC%A7%80%EB%8F%84-%EB%9D%84%EC%9A%B0%EA%B8%B0-2-%EC%95%B1%ED%82%A4%EB%A5%BC-%EC%9D%B4%EC%9A%A9%ED%95%B4-%EC%A7%80%EB%8F%84-%EB%9D%84%EC%9A%B0%EA%B8%B0)**\n",
    "- **[React Kakao 지도 띄우기](https://velog.io/@bearsjelly/React-kakao-%EC%A7%80%EB%8F%84-%EB%9D%84%EC%9A%B0%EA%B8%B0-2-%EC%95%B1%ED%82%A4%EB%A5%BC-%EC%9D%B4%EC%9A%A9%ED%95%B4-%EC%A7%80%EB%8F%84-%EB%9D%84%EC%9A%B0%EA%B8%B0)**\n",
    "- **[JavaScript Key 를 활용하여 MAP 구현하기](https://apis.map.kakao.com/web/guide/)**\n",
    "- [React.js 에서 Kakao Map](https://gingerkang.tistory.com/65)\n",
    "```\n",
    "네이티브 앱 키\t8cd75a36aae8250edab5ef6526a6a910\n",
    "REST API 키\t120cc9724a3d342cb5fb753d9dd65092\n",
    "JavaScript 키\t04f123664e335dd987570b9400dbafdc\n",
    "Admin 키\tebc038d9655428ef995949136ee682b7\n",
    "```"
   ]
  },
  {
   "cell_type": "markdown",
   "metadata": {},
   "source": [
    "## **2 Naver Cloud 에서 Web MAP 활용하기**\n",
    "- **[React 에서 네이버에서 지도 Marker 활용](https://velog.io/@gwak2837/React%EC%97%90-%EB%84%A4%EC%9D%B4%EB%B2%84-%EC%A7%80%EB%8F%84-%EB%B0%8F-%EB%A7%88%EC%BB%A4-%ED%91%9C%EC%8B%9C%ED%95%98%EA%B8%B0)**\n",
    "- **[Naver Cloud MAP API](https://www.ncloud.com/product/applicationService/maps)**\n",
    "```python\n",
    "Client ID : dzhrati97r\n",
    "Client Secret : 9990BNYwSIY9paMzgwLZn5hjx4XTSaB0NjtuoIeQ\n",
    "```"
   ]
  },
  {
   "cell_type": "markdown",
   "metadata": {},
   "source": [
    "## **3 지도 데이터 Json 으로 추출하기**\n",
    "CSV file to Json ENV file\n",
    "```\n",
    " 'split' : dict like {'index' -> [index], 'columns' -> [columns],\n",
    "          'data' -> [values]}\n",
    "        - 'records' : list like [{column -> value}, ... , {column -> value}]\n",
    "        - 'index' : dict like {index -> {column -> value}}\n",
    "        - 'columns' : dict like {column -> {index -> value}}\n",
    "        - 'values' : just the values array\n",
    "        - 'table' :\n",
    "```"
   ]
  },
  {
   "cell_type": "code",
   "execution_count": null,
   "metadata": {},
   "outputs": [],
   "source": [
    "table = pd.read_csv(\"./data/ourtown_store_geo2.csv\")\n",
    "table.head(3)"
   ]
  },
  {
   "cell_type": "code",
   "execution_count": null,
   "metadata": {},
   "outputs": [],
   "source": [
    "# 상호명, \n",
    "import pandas as pd\n",
    "file_name = \"./data/ourtown_store_geo2.csv\"\n",
    "column_name = [\"상호명\", \"address\", \"lat\",\"lon\"]\n",
    "df_table = pd.read_csv(file_name).loc[:, column_name]\n",
    "df_table.columns = [\"name\", 'address', 'lat', 'lon']\n",
    "df_table.head(2)"
   ]
  },
  {
   "cell_type": "code",
   "execution_count": null,
   "metadata": {},
   "outputs": [],
   "source": [
    "import json\n",
    "df_list = [df_table.iloc[_, :].to_list() for _ in range(len(df_table))]\n",
    "df_table.to_json(\"mapinfo.json\", force_ascii=False, orient=\"records\")\n",
    "print(\"output file is Done.\")\n",
    "# df_table.to_json(force_ascii=False, orient=\"table\")"
   ]
  },
  {
   "cell_type": "markdown",
   "metadata": {},
   "source": [
    "<br/>\n",
    "\n",
    "# **Arterior 작가 작업구역 선정**\n",
    "https://navermaps.github.io/maps.js.ncp/docs/tutorial-3-drawing-restore.example.html"
   ]
  },
  {
   "cell_type": "code",
   "execution_count": null,
   "metadata": {},
   "outputs": [],
   "source": []
  },
  {
   "cell_type": "code",
   "execution_count": null,
   "metadata": {},
   "outputs": [],
   "source": []
  },
  {
   "cell_type": "code",
   "execution_count": null,
   "metadata": {},
   "outputs": [],
   "source": []
  },
  {
   "cell_type": "code",
   "execution_count": null,
   "metadata": {},
   "outputs": [],
   "source": []
  }
 ],
 "metadata": {
  "kernelspec": {
   "display_name": "Python 3",
   "language": "python",
   "name": "python3"
  },
  "language_info": {
   "codemirror_mode": {
    "name": "ipython",
    "version": 3
   },
   "file_extension": ".py",
   "mimetype": "text/x-python",
   "name": "python",
   "nbconvert_exporter": "python",
   "pygments_lexer": "ipython3",
   "version": "3.8.5"
  }
 },
 "nbformat": 4,
 "nbformat_minor": 4
}
