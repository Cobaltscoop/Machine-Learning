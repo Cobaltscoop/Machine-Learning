{
 "cells": [
  {
   "cell_type": "markdown",
   "metadata": {},
   "source": [
    "# **Table for Django**\n",
    "Django Web 서비스를 위한 Table 만들기\n",
    "\n",
    "## **1 Loading the table**\n",
    "엑셀 원본데이터 불러오기"
   ]
  },
  {
   "cell_type": "code",
   "execution_count": 30,
   "metadata": {},
   "outputs": [
    {
     "data": {
      "text/plain": [
       "['../Arterior/artist.csv',\n",
       " '../Arterior/artist_raw.csv',\n",
       " '../Arterior/artistv2.csv',\n",
       " '../Arterior/store.csv',\n",
       " '../Arterior/storev2.csv']"
      ]
     },
     "execution_count": 30,
     "metadata": {},
     "output_type": "execute_result"
    }
   ],
   "source": [
    "from glob import glob\n",
    "file_list = sorted(glob(\"../Arterior/*.csv\"))\n",
    "file_list"
   ]
  },
  {
   "cell_type": "markdown",
   "metadata": {},
   "source": [
    "## **2 Artist Table**\n",
    "작가 테이블로 나누기\n",
    "```python\n",
    "sqlite3.connect('./db.sqlite3')\n",
    "con = sqlite3.connect('./db.sqlite3').cursor()\n",
    "con.execute('DELETE from arterior_artist')\n",
    "con.fetchall()\n",
    "```"
   ]
  },
  {
   "cell_type": "code",
   "execution_count": 18,
   "metadata": {},
   "outputs": [
    {
     "data": {
      "text/html": [
       "<div>\n",
       "<style scoped>\n",
       "    .dataframe tbody tr th:only-of-type {\n",
       "        vertical-align: middle;\n",
       "    }\n",
       "\n",
       "    .dataframe tbody tr th {\n",
       "        vertical-align: top;\n",
       "    }\n",
       "\n",
       "    .dataframe thead th {\n",
       "        text-align: right;\n",
       "    }\n",
       "</style>\n",
       "<table border=\"1\" class=\"dataframe\">\n",
       "  <thead>\n",
       "    <tr style=\"text-align: right;\">\n",
       "      <th></th>\n",
       "      <th>0</th>\n",
       "      <th>1</th>\n",
       "      <th>2</th>\n",
       "      <th>3</th>\n",
       "      <th>4</th>\n",
       "    </tr>\n",
       "  </thead>\n",
       "  <tbody>\n",
       "    <tr>\n",
       "      <th>0</th>\n",
       "      <td>박현철</td>\n",
       "      <td>A</td>\n",
       "      <td>1</td>\n",
       "      <td>000-000-0000</td>\n",
       "      <td>email@email.com</td>\n",
       "    </tr>\n",
       "    <tr>\n",
       "      <th>1</th>\n",
       "      <td>나서윤</td>\n",
       "      <td>A</td>\n",
       "      <td>2</td>\n",
       "      <td>000-000-0000</td>\n",
       "      <td>email@email.com</td>\n",
       "    </tr>\n",
       "  </tbody>\n",
       "</table>\n",
       "</div>"
      ],
      "text/plain": [
       "     0  1  2             3                4\n",
       "0  박현철  A  1  000-000-0000  email@email.com\n",
       "1  나서윤  A  2  000-000-0000  email@email.com"
      ]
     },
     "execution_count": 18,
     "metadata": {},
     "output_type": "execute_result"
    }
   ],
   "source": [
    "import pandas as pd\n",
    "file = '../Arterior/artist.csv'\n",
    "table = pd.read_csv(file, header=None)\n",
    "table[3] = table[3].fillna('000-000-0000')\n",
    "table[4] = table[4].fillna('email@email.com')\n",
    "# table.to_csv(file.replace('.csv', 'v2.csv'), header=None, index=None)\n",
    "name_index = {_ : no+1 for no, _ in enumerate(table.iloc[:,0].to_list())}\n",
    "table.head(2)"
   ]
  },
  {
   "cell_type": "markdown",
   "metadata": {},
   "source": [
    "## **2 Store Table**\n",
    "작가 테이블로 나누기"
   ]
  },
  {
   "cell_type": "code",
   "execution_count": 29,
   "metadata": {},
   "outputs": [
    {
     "data": {
      "text/html": [
       "<div>\n",
       "<style scoped>\n",
       "    .dataframe tbody tr th:only-of-type {\n",
       "        vertical-align: middle;\n",
       "    }\n",
       "\n",
       "    .dataframe tbody tr th {\n",
       "        vertical-align: top;\n",
       "    }\n",
       "\n",
       "    .dataframe thead th {\n",
       "        text-align: right;\n",
       "    }\n",
       "</style>\n",
       "<table border=\"1\" class=\"dataframe\">\n",
       "  <thead>\n",
       "    <tr style=\"text-align: right;\">\n",
       "      <th></th>\n",
       "      <th>title</th>\n",
       "      <th>artist</th>\n",
       "      <th>type</th>\n",
       "      <th>ceo</th>\n",
       "      <th>phone</th>\n",
       "      <th>address</th>\n",
       "      <th>addressfull</th>\n",
       "      <th>addressroad</th>\n",
       "      <th>lon</th>\n",
       "      <th>lat</th>\n",
       "    </tr>\n",
       "  </thead>\n",
       "  <tbody>\n",
       "    <tr>\n",
       "      <th>0</th>\n",
       "      <td>영진떡방앗간</td>\n",
       "      <td>박현철</td>\n",
       "      <td>떡집</td>\n",
       "      <td>박명일</td>\n",
       "      <td>010-8507-6657</td>\n",
       "      <td>난향길 14</td>\n",
       "      <td>서울특별시 관악구 난향길 14</td>\n",
       "      <td>서울특별시 관악구 신림동 676-36</td>\n",
       "      <td>126.918079</td>\n",
       "      <td>37.462919</td>\n",
       "    </tr>\n",
       "    <tr>\n",
       "      <th>1</th>\n",
       "      <td>카페비온</td>\n",
       "      <td>박현철</td>\n",
       "      <td>카페</td>\n",
       "      <td>유민영</td>\n",
       "      <td>010-9688-7097</td>\n",
       "      <td>난향길 24</td>\n",
       "      <td>서울특별시 관악구 난향길 24 현경빌딩</td>\n",
       "      <td>서울특별시 관악구 신림동 676-42 현경빌딩</td>\n",
       "      <td>126.917727</td>\n",
       "      <td>37.462847</td>\n",
       "    </tr>\n",
       "    <tr>\n",
       "      <th>2</th>\n",
       "      <td>영진부동산</td>\n",
       "      <td>박현철</td>\n",
       "      <td>부동산</td>\n",
       "      <td>서청</td>\n",
       "      <td>010-3244-6816</td>\n",
       "      <td>난향길 14</td>\n",
       "      <td>서울특별시 관악구 난향길 14</td>\n",
       "      <td>서울특별시 관악구 신림동 676-36</td>\n",
       "      <td>126.918001</td>\n",
       "      <td>37.462786</td>\n",
       "    </tr>\n",
       "  </tbody>\n",
       "</table>\n",
       "</div>"
      ],
      "text/plain": [
       "    title artist type  ceo          phone address            addressfull  \\\n",
       "0  영진떡방앗간    박현철   떡집  박명일  010-8507-6657  난향길 14       서울특별시 관악구 난향길 14   \n",
       "1    카페비온    박현철   카페  유민영  010-9688-7097  난향길 24  서울특별시 관악구 난향길 24 현경빌딩   \n",
       "2   영진부동산    박현철  부동산   서청  010-3244-6816  난향길 14       서울특별시 관악구 난향길 14   \n",
       "\n",
       "                 addressroad         lon        lat  \n",
       "0       서울특별시 관악구 신림동 676-36  126.918079  37.462919  \n",
       "1  서울특별시 관악구 신림동 676-42 현경빌딩  126.917727  37.462847  \n",
       "2       서울특별시 관악구 신림동 676-36  126.918001  37.462786  "
      ]
     },
     "execution_count": 29,
     "metadata": {},
     "output_type": "execute_result"
    }
   ],
   "source": [
    "# Artist Index Table 만들기\n",
    "file = '../Arterior/store.csv'\n",
    "table = pd.read_csv(file)\n",
    "table = table.drop(columns=['fix','no'])\n",
    "table = table.loc[:, ['title','artist','type','ceo','phone',\\\n",
    "    'address','addressfull','addressroad','lon','lat']]\n",
    "table.to_csv(file.replace('.csv', 'v2.csv'), header=None, index=None)\n",
    "table.head(3)"
   ]
  },
  {
   "cell_type": "code",
   "execution_count": null,
   "metadata": {},
   "outputs": [],
   "source": []
  }
 ],
 "metadata": {
  "kernelspec": {
   "display_name": "Python 3",
   "language": "python",
   "name": "python3"
  },
  "language_info": {
   "codemirror_mode": {
    "name": "ipython",
    "version": 3
   },
   "file_extension": ".py",
   "mimetype": "text/x-python",
   "name": "python",
   "nbconvert_exporter": "python",
   "pygments_lexer": "ipython3",
   "version": "3.8.5"
  }
 },
 "nbformat": 4,
 "nbformat_minor": 4
}
